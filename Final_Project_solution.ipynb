{
 "cells": [
  {
   "cell_type": "code",
   "execution_count": 1,
   "id": "01ba7614",
   "metadata": {
    "collapsed": true
   },
   "outputs": [
    {
     "name": "stdout",
     "output_type": "stream",
     "text": [
      "Processing ./sas-pip\n",
      "  Preparing metadata (setup.py) ... \u001b[?25ldone\n",
      "\u001b[?25hRequirement already satisfied: torch in /opt/anaconda3/lib/python3.9/site-packages (from sas==1.0) (2.1.1)\n",
      "Requirement already satisfied: torchvision in /opt/anaconda3/lib/python3.9/site-packages (from sas==1.0) (0.16.1)\n",
      "Requirement already satisfied: numpy in /opt/anaconda3/lib/python3.9/site-packages (from sas==1.0) (1.23.5)\n",
      "Requirement already satisfied: fast-pytorch-kmeans in /opt/anaconda3/lib/python3.9/site-packages (from sas==1.0) (0.2.0.1)\n",
      "Requirement already satisfied: pynvml in /opt/anaconda3/lib/python3.9/site-packages (from fast-pytorch-kmeans->sas==1.0) (11.5.0)\n",
      "Requirement already satisfied: networkx in /opt/anaconda3/lib/python3.9/site-packages (from torch->sas==1.0) (2.8.4)\n",
      "Requirement already satisfied: sympy in /opt/anaconda3/lib/python3.9/site-packages (from torch->sas==1.0) (1.10.1)\n",
      "Requirement already satisfied: jinja2 in /opt/anaconda3/lib/python3.9/site-packages (from torch->sas==1.0) (2.11.3)\n",
      "Requirement already satisfied: typing-extensions in /opt/anaconda3/lib/python3.9/site-packages (from torch->sas==1.0) (4.3.0)\n",
      "Requirement already satisfied: fsspec in /opt/anaconda3/lib/python3.9/site-packages (from torch->sas==1.0) (2022.7.1)\n",
      "Requirement already satisfied: filelock in /opt/anaconda3/lib/python3.9/site-packages (from torch->sas==1.0) (3.6.0)\n",
      "Requirement already satisfied: pillow!=8.3.*,>=5.3.0 in /opt/anaconda3/lib/python3.9/site-packages (from torchvision->sas==1.0) (5.4.1)\n",
      "Requirement already satisfied: requests in /opt/anaconda3/lib/python3.9/site-packages (from torchvision->sas==1.0) (2.21.0)\n",
      "Requirement already satisfied: MarkupSafe>=0.23 in /opt/anaconda3/lib/python3.9/site-packages (from jinja2->torch->sas==1.0) (2.0.1)\n",
      "Requirement already satisfied: urllib3<1.25,>=1.21.1 in /opt/anaconda3/lib/python3.9/site-packages (from requests->torchvision->sas==1.0) (1.24.1)\n",
      "Requirement already satisfied: certifi>=2017.4.17 in /opt/anaconda3/lib/python3.9/site-packages (from requests->torchvision->sas==1.0) (2022.9.24)\n",
      "Requirement already satisfied: chardet<3.1.0,>=3.0.2 in /opt/anaconda3/lib/python3.9/site-packages (from requests->torchvision->sas==1.0) (3.0.4)\n",
      "Requirement already satisfied: idna<2.9,>=2.5 in /opt/anaconda3/lib/python3.9/site-packages (from requests->torchvision->sas==1.0) (2.8)\n",
      "Requirement already satisfied: mpmath>=0.19 in /opt/anaconda3/lib/python3.9/site-packages (from sympy->torch->sas==1.0) (1.2.1)\n",
      "Building wheels for collected packages: sas\n",
      "  Building wheel for sas (setup.py) ... \u001b[?25ldone\n",
      "\u001b[?25h  Created wheel for sas: filename=sas-1.0-py3-none-any.whl size=6290 sha256=d80e87de7ee2a92c271d90b3898e2294eb803af95e7508884f624f29f110c741\n",
      "  Stored in directory: /Users/jefferyqin/Library/Caches/pip/wheels/c3/c7/80/251166f03cb55d2fafc1a4fe53bdfe5780e3347b9f032879b9\n",
      "Successfully built sas\n",
      "Installing collected packages: sas\n",
      "  Attempting uninstall: sas\n",
      "    Found existing installation: sas 1.0\n",
      "    Uninstalling sas-1.0:\n",
      "      Successfully uninstalled sas-1.0\n",
      "Successfully installed sas-1.0\n",
      "Note: you may need to restart the kernel to use updated packages.\n"
     ]
    }
   ],
   "source": [
    "%pip install sas-pip/"
   ]
  },
  {
   "cell_type": "code",
   "execution_count": 1,
   "metadata": {},
   "outputs": [
    {
     "name": "stdout",
     "output_type": "stream",
     "text": [
      "Files already downloaded and verified\n"
     ]
    }
   ],
   "source": [
    "import torchvision.transforms as transforms\n",
    "mean = (0.5070751592371323, 0.48654887331495095, 0.4409178433670343)\n",
    "std = (0.2673342858792401, 0.2564384629170883, 0.27615047132568404)\n",
    "transform_train = transforms.Compose([\n",
    "        #transforms.ToPILImage(),\n",
    "        transforms.RandomCrop(32, padding=4),\n",
    "        transforms.RandomHorizontalFlip(),\n",
    "        transforms.RandomRotation(15),\n",
    "        transforms.ToTensor(),\n",
    "        transforms.Normalize(mean, std)\n",
    "    ])\n",
    "import torchvision\n",
    "from torchvision import transforms\n",
    "\n",
    "cifar100 = torchvision.datasets.CIFAR100(\"./data/cifar100/\", transform=transform_train,download=True)\n",
    "device = \"cuda:0\""
   ]
  },
  {
   "cell_type": "code",
   "execution_count": 3,
   "id": "019dadd8",
   "metadata": {},
   "outputs": [
    {
     "name": "stdout",
     "output_type": "stream",
     "text": [
      "Files already downloaded and verified\n"
     ]
    }
   ],
   "source": [
    "# import torchvision\n",
    "# from torchvision import transforms\n",
    "\n",
    "# cifar100 = torchvision.datasets.CIFAR100(\"cifar100/\", transform=transforms.ToTensor(), download=True)\n",
    "# device = \"mps\""
   ]
  },
  {
   "cell_type": "code",
   "execution_count": 2,
   "id": "747d2cbf",
   "metadata": {},
   "outputs": [],
   "source": [
    "from sas.approx_latent_classes import clip_approx\n",
    "from sas.subset_dataset import SASSubsetDataset\n",
    "import random \n",
    "\n",
    "rand_labeled_examples_indices = random.sample(range(len(cifar100)), 500)\n",
    "rand_labeled_examples_labels = [cifar100[i][1] for i in rand_labeled_examples_indices]\n",
    "\n",
    "partition = clip_approx(\n",
    "    img_trainset=cifar100,\n",
    "    labeled_example_indices=rand_labeled_examples_indices, \n",
    "    labeled_examples_labels=rand_labeled_examples_labels,\n",
    "    num_classes=100,\n",
    "    device = device\n",
    ")"
   ]
  },
  {
   "cell_type": "code",
   "execution_count": 3,
   "id": "200a2946",
   "metadata": {},
   "outputs": [],
   "source": [
    "from torch import nn \n",
    "\n",
    "class ProxyModel(nn.Module):\n",
    "    def __init__(self, net, critic):\n",
    "        super().__init__()\n",
    "        self.net = net\n",
    "        self.critic = critic\n",
    "    def forward(self, x):\n",
    "        return self.critic.project(self.net(x))"
   ]
  },
  {
   "cell_type": "markdown",
   "id": "62f454b5",
   "metadata": {},
   "source": [
    "## balanced_cifar"
   ]
  },
  {
   "cell_type": "code",
   "execution_count": 6,
   "id": "6b2665f0",
   "metadata": {},
   "outputs": [],
   "source": [
    "from sklearn.model_selection import train_test_split\n",
    "\n",
    "labels = [cifar100[i][1] for i in range(len(cifar100))]\n",
    "indices = range(len(cifar100))\n",
    "(\n",
    "    cifar_balanced,\n",
    "    _,\n",
    "    labels_train,\n",
    "    _,\n",
    "    indices_train,\n",
    "    _,\n",
    ") = train_test_split(cifar100, labels, indices, test_size=0.5, stratify=labels)"
   ]
  },
  {
   "cell_type": "code",
   "execution_count": 7,
   "id": "b1d62369",
   "metadata": {},
   "outputs": [],
   "source": [
    "cifar = cifar_balanced + cifar_balanced"
   ]
  },
  {
   "cell_type": "code",
   "execution_count": 8,
   "id": "445c88b3",
   "metadata": {},
   "outputs": [
    {
     "data": {
      "text/plain": [
       "50000"
      ]
     },
     "execution_count": 8,
     "metadata": {},
     "output_type": "execute_result"
    }
   ],
   "source": [
    "len(cifar)"
   ]
  },
  {
   "cell_type": "code",
   "execution_count": 9,
   "id": "dfaac36d",
   "metadata": {},
   "outputs": [
    {
     "name": "stderr",
     "output_type": "stream",
     "text": [
      "Subset Selection:: 100%|████████████████████████| 99/99 [00:02<00:00, 38.96it/s]"
     ]
    },
    {
     "name": "stdout",
     "output_type": "stream",
     "text": [
      "Subset Size: 10000\n",
      "Discarded 40000 examples\n"
     ]
    },
    {
     "name": "stderr",
     "output_type": "stream",
     "text": [
      "\n"
     ]
    }
   ],
   "source": [
    "import torch \n",
    "\n",
    "net = torch.load(\"proxy-cifar100-resnet10-399-net.pt\", map_location=torch.device('mps'))\n",
    "critic = torch.load(\"proxy-cifar100-resnet10-399-critic.pt\", map_location=torch.device('mps'))\n",
    "proxy_model = ProxyModel(net, critic)\n",
    "device = \"mps\"\n",
    "     \n",
    "subset_dataset_balanced = SASSubsetDataset(\n",
    "    dataset=cifar,\n",
    "    subset_fraction=0.2,\n",
    "    num_downstream_classes=100,\n",
    "    device=device,\n",
    "    proxy_model=proxy_model,\n",
    "    approx_latent_class_partition=partition,\n",
    "    verbose=True\n",
    ")"
   ]
  },
  {
   "cell_type": "code",
   "execution_count": 10,
   "id": "8e29d851",
   "metadata": {},
   "outputs": [
    {
     "data": {
      "text/plain": [
       "9958"
      ]
     },
     "execution_count": 10,
     "metadata": {},
     "output_type": "execute_result"
    }
   ],
   "source": [
    "len(subset_dataset_balanced.subset_indices)"
   ]
  },
  {
   "cell_type": "code",
   "execution_count": 11,
   "id": "8ad907c5",
   "metadata": {},
   "outputs": [
    {
     "name": "stdout",
     "output_type": "stream",
     "text": [
      "{0: 9, 1: 152, 2: 113, 3: 94, 4: 205, 5: 54, 6: 101, 7: 114, 8: 47, 9: 37, 10: 58, 11: 63, 12: 86, 13: 29, 14: 162, 15: 101, 16: 28, 17: 31, 18: 197, 19: 114, 20: 14, 21: 92, 22: 24, 23: 82, 24: 35, 25: 65, 26: 127, 27: 282, 28: 94, 29: 62, 30: 171, 31: 96, 32: 125, 33: 92, 34: 152, 35: 74, 36: 74, 37: 53, 38: 195, 39: 17, 40: 118, 41: 58, 42: 125, 43: 108, 44: 201, 45: 127, 46: 110, 47: 13, 48: 27, 49: 86, 50: 196, 51: 113, 52: 21, 53: 7, 54: 69, 55: 201, 56: 31, 57: 54, 58: 24, 59: 41, 60: 36, 61: 18, 62: 51, 63: 222, 64: 158, 65: 217, 66: 148, 67: 208, 68: 64, 69: 158, 70: 58, 71: 108, 72: 166, 73: 143, 74: 242, 75: 91, 76: 127, 77: 181, 78: 129, 79: 202, 80: 254, 81: 29, 82: 19, 83: 41, 84: 67, 85: 77, 86: 28, 87: 50, 88: 122, 89: 54, 90: 66, 91: 141, 92: 78, 93: 178, 94: 17, 95: 136, 96: 56, 97: 121, 98: 92, 99: 154}\n"
     ]
    }
   ],
   "source": [
    "count_balanced = {}\n",
    "for x,y in subset_dataset_balanced:\n",
    "    if y not in count_balanced:\n",
    "        count_balanced[y] = 1\n",
    "    else:\n",
    "        count_balanced[y]+=1\n",
    "\n",
    "Keys = list(count_balanced.keys())\n",
    "Keys.sort()\n",
    "sorted_dict_balanced = {i: count_balanced[i] for i in Keys}\n",
    "print(sorted_dict_balanced)"
   ]
  },
  {
   "cell_type": "code",
   "execution_count": 12,
   "id": "38e35d32",
   "metadata": {},
   "outputs": [
    {
     "name": "stdout",
     "output_type": "stream",
     "text": [
      "4694 5264\n"
     ]
    }
   ],
   "source": [
    "num_less50 = 0\n",
    "num_bigger50 = 0\n",
    "\n",
    "for i in Keys:\n",
    "    if i < 50:\n",
    "        num_less50 += count_balanced[i]\n",
    "    else:\n",
    "        num_bigger50 += count_balanced[i]\n",
    "        \n",
    "print(num_less50, num_bigger50)"
   ]
  },
  {
   "cell_type": "markdown",
   "id": "5fb96702",
   "metadata": {},
   "source": [
    "## imbalanced_cifar"
   ]
  },
  {
   "cell_type": "code",
   "execution_count": 4,
   "id": "6dee2336",
   "metadata": {},
   "outputs": [],
   "source": [
    "from collections import defaultdict, Counter\n",
    "import numpy as np\n",
    "import random\n",
    "\n",
    "labels = [cifar100[i][1] for i in range(len(cifar100))]\n",
    "indices = range(len(cifar100))\n",
    "\n",
    "dic = defaultdict(list)\n",
    "cifar_imbalanced = []\n",
    "\n",
    "for i in range(len(cifar100)):\n",
    "    label = cifar100[i][1]\n",
    "    dic[label].append(i)"
   ]
  },
  {
   "cell_type": "code",
   "execution_count": 5,
   "id": "c584e34a",
   "metadata": {},
   "outputs": [],
   "source": [
    "selected_indices = []\n",
    "for label in dic.keys():\n",
    "    if label < 50:\n",
    "        selected_indices += random.sample(dic[label], 50)\n",
    "    else:\n",
    "        selected_indices += random.sample(dic[label], 450)\n",
    "        \n",
    "random.shuffle(selected_indices)\n",
    "\n",
    "cifar_imbalanced = []\n",
    "for i in selected_indices:\n",
    "    cifar_imbalanced.append(cifar100[i])"
   ]
  },
  {
   "cell_type": "code",
   "execution_count": 6,
   "id": "3d61e2d9",
   "metadata": {},
   "outputs": [
    {
     "name": "stdout",
     "output_type": "stream",
     "text": [
      "25000\n"
     ]
    }
   ],
   "source": [
    "print(len(cifar_imbalanced))"
   ]
  },
  {
   "cell_type": "code",
   "execution_count": 7,
   "id": "990c693a",
   "metadata": {},
   "outputs": [
    {
     "data": {
      "text/plain": [
       "50000"
      ]
     },
     "execution_count": 7,
     "metadata": {},
     "output_type": "execute_result"
    }
   ],
   "source": [
    "cifar_im = cifar_imbalanced + cifar_imbalanced\n",
    "random.shuffle(cifar_im)\n",
    "\n",
    "len(cifar_im)"
   ]
  },
  {
   "cell_type": "code",
   "execution_count": null,
   "id": "e4e76ce5",
   "metadata": {},
   "outputs": [
    {
     "name": "stderr",
     "output_type": "stream",
     "text": [
      "Subset Selection:: 100%|████████████████████████| 99/99 [00:02<00:00, 38.27it/s]"
     ]
    },
    {
     "name": "stdout",
     "output_type": "stream",
     "text": [
      "Subset Size: 10000\n",
      "Discarded 40000 examples\n"
     ]
    },
    {
     "name": "stderr",
     "output_type": "stream",
     "text": [
      "\n"
     ]
    }
   ],
   "source": [
    "import torch \n",
    "\n",
    "net = torch.load(\"proxy-cifar100-resnet10-399-net.pt\", map_location=torch.device('mps'))\n",
    "critic = torch.load(\"proxy-cifar100-resnet10-399-critic.pt\", map_location=torch.device('mps'))\n",
    "proxy_model = ProxyModel(net, critic)\n",
    "device = \"mps\"\n",
    "     \n",
    "subset_dataset_imbalanced = SASSubsetDataset(\n",
    "    dataset=cifar_im,\n",
    "    subset_fraction=0.2,\n",
    "    num_downstream_classes=100,\n",
    "    device=device,\n",
    "    proxy_model=proxy_model,\n",
    "    approx_latent_class_partition=partition,\n",
    "    verbose=True\n",
    ")"
   ]
  },
  {
   "cell_type": "code",
   "execution_count": 20,
   "id": "7ebb976c",
   "metadata": {},
   "outputs": [
    {
     "data": {
      "text/plain": [
       "9958"
      ]
     },
     "execution_count": 20,
     "metadata": {},
     "output_type": "execute_result"
    }
   ],
   "source": [
    "len(subset_dataset_imbalanced.subset_indices)"
   ]
  },
  {
   "cell_type": "code",
   "execution_count": 21,
   "id": "d26adefe",
   "metadata": {},
   "outputs": [
    {
     "name": "stdout",
     "output_type": "stream",
     "text": [
      "{0: 4, 1: 30, 2: 14, 3: 14, 4: 32, 5: 4, 6: 18, 7: 15, 8: 3, 9: 8, 10: 16, 11: 13, 12: 13, 13: 4, 14: 31, 15: 11, 16: 9, 17: 3, 18: 39, 19: 16, 20: 3, 21: 18, 22: 1, 23: 20, 24: 4, 25: 11, 26: 26, 27: 47, 28: 8, 29: 8, 30: 36, 31: 25, 32: 20, 33: 19, 34: 30, 35: 8, 36: 11, 37: 11, 38: 27, 39: 4, 40: 17, 41: 3, 42: 16, 43: 23, 44: 30, 45: 12, 46: 8, 47: 8, 48: 2, 49: 26, 50: 324, 51: 215, 52: 34, 53: 24, 54: 183, 55: 339, 56: 75, 57: 114, 58: 49, 59: 77, 60: 154, 61: 12, 62: 150, 63: 356, 64: 280, 65: 309, 66: 238, 67: 377, 68: 116, 69: 259, 70: 135, 71: 275, 72: 287, 73: 314, 74: 434, 75: 159, 76: 191, 77: 316, 78: 175, 79: 313, 80: 395, 81: 37, 82: 62, 83: 83, 84: 61, 85: 146, 86: 38, 87: 72, 88: 168, 89: 74, 90: 103, 91: 228, 92: 175, 93: 290, 94: 23, 95: 265, 96: 118, 97: 196, 98: 102, 99: 259}\n"
     ]
    }
   ],
   "source": [
    "count_imbalanced = {}\n",
    "for x,y in subset_dataset_imbalanced:\n",
    "    if y not in count_imbalanced:\n",
    "        count_imbalanced[y] = 1\n",
    "    else:\n",
    "        count_imbalanced[y]+=1\n",
    "\n",
    "Keys = list(count_imbalanced.keys())\n",
    "Keys.sort()\n",
    "sorted_dict_imbalanced = {i: count_imbalanced[i] for i in Keys}\n",
    "print(sorted_dict_imbalanced)"
   ]
  },
  {
   "cell_type": "code",
   "execution_count": 22,
   "id": "40304800",
   "metadata": {},
   "outputs": [
    {
     "name": "stdout",
     "output_type": "stream",
     "text": [
      "779 9179\n"
     ]
    }
   ],
   "source": [
    "num_less50 = 0\n",
    "num_bigger50 = 0\n",
    "\n",
    "for i in Keys:\n",
    "    if i < 50:\n",
    "        num_less50 += count_imbalanced[i]\n",
    "    else:\n",
    "        num_bigger50 += count_imbalanced[i]\n",
    "        \n",
    "print(num_less50, num_bigger50)"
   ]
  },
  {
   "cell_type": "markdown",
   "id": "3608fe8c",
   "metadata": {},
   "source": [
    "## Solution1: MDP\n",
    "Downsampling and Upsampling"
   ]
  },
  {
   "cell_type": "code",
   "execution_count": 23,
   "id": "241a6d21",
   "metadata": {},
   "outputs": [],
   "source": [
    "cifar_im_less50 = []\n",
    "cifar_im_bigger50 = []\n",
    "\n",
    "for x,y in cifar_im:\n",
    "    if y < 50:\n",
    "        cifar_im_less50.append((x,y))\n",
    "    else:\n",
    "        cifar_im_bigger50.append((x,y))"
   ]
  },
  {
   "cell_type": "code",
   "execution_count": 24,
   "id": "47240de2",
   "metadata": {},
   "outputs": [
    {
     "name": "stdout",
     "output_type": "stream",
     "text": [
      "5000 45000\n"
     ]
    }
   ],
   "source": [
    "print(len(cifar_im_less50), len(cifar_im_bigger50))"
   ]
  },
  {
   "cell_type": "code",
   "execution_count": 25,
   "id": "9ed8d968",
   "metadata": {},
   "outputs": [],
   "source": [
    "from sklearn.utils import resample\n",
    "\n",
    "cifar_im_less50 = resample(cifar_im_less50,\n",
    "             replace=True,\n",
    "             n_samples=25000,\n",
    "             random_state=42)\n",
    "\n",
    "cifar_im_bigger50 = resample(cifar_im_bigger50,\n",
    "             replace=True,\n",
    "             n_samples=25000,\n",
    "             random_state=42)"
   ]
  },
  {
   "cell_type": "code",
   "execution_count": 26,
   "id": "e246ec17",
   "metadata": {},
   "outputs": [
    {
     "name": "stdout",
     "output_type": "stream",
     "text": [
      "25000 25000\n"
     ]
    }
   ],
   "source": [
    "print(len(cifar_im_less50), len(cifar_im_bigger50))"
   ]
  },
  {
   "cell_type": "code",
   "execution_count": 27,
   "id": "201428af",
   "metadata": {},
   "outputs": [],
   "source": [
    "cifar_sampled = cifar_im_less50 + cifar_im_bigger50\n",
    "random.shuffle(cifar_sampled)"
   ]
  },
  {
   "cell_type": "code",
   "execution_count": 28,
   "id": "6cdeb5eb",
   "metadata": {},
   "outputs": [
    {
     "name": "stderr",
     "output_type": "stream",
     "text": [
      "Subset Selection:: 100%|████████████████████████| 99/99 [00:02<00:00, 38.04it/s]"
     ]
    },
    {
     "name": "stdout",
     "output_type": "stream",
     "text": [
      "Subset Size: 10000\n",
      "Discarded 40000 examples\n"
     ]
    },
    {
     "name": "stderr",
     "output_type": "stream",
     "text": [
      "\n"
     ]
    }
   ],
   "source": [
    "import torch \n",
    "\n",
    "net = torch.load(\"proxy-cifar100-resnet10-399-net.pt\", map_location=torch.device('mps'))\n",
    "critic = torch.load(\"proxy-cifar100-resnet10-399-critic.pt\", map_location=torch.device('mps'))\n",
    "proxy_model = ProxyModel(net, critic)\n",
    "device = \"mps\"\n",
    "     \n",
    "subset_dataset_sampled = SASSubsetDataset(\n",
    "    dataset=cifar_sampled,\n",
    "    subset_fraction=0.2,\n",
    "    num_downstream_classes=100,\n",
    "    device=device,\n",
    "    proxy_model=proxy_model,\n",
    "    approx_latent_class_partition=partition,\n",
    "    verbose=True\n",
    ")"
   ]
  },
  {
   "cell_type": "code",
   "execution_count": 29,
   "id": "47706cda",
   "metadata": {},
   "outputs": [
    {
     "data": {
      "text/plain": [
       "9958"
      ]
     },
     "execution_count": 29,
     "metadata": {},
     "output_type": "execute_result"
    }
   ],
   "source": [
    "len(subset_dataset_sampled.subset_indices)"
   ]
  },
  {
   "cell_type": "code",
   "execution_count": 30,
   "id": "fd59ec82",
   "metadata": {},
   "outputs": [
    {
     "name": "stdout",
     "output_type": "stream",
     "text": [
      "{0: 7, 1: 145, 2: 111, 3: 83, 4: 184, 5: 66, 6: 130, 7: 94, 8: 33, 9: 61, 10: 85, 11: 73, 12: 76, 13: 31, 14: 172, 15: 76, 16: 47, 17: 40, 18: 186, 19: 99, 20: 22, 21: 99, 22: 23, 23: 67, 24: 38, 25: 87, 26: 167, 27: 243, 28: 90, 29: 53, 30: 121, 31: 155, 32: 163, 33: 90, 34: 149, 35: 55, 36: 108, 37: 64, 38: 200, 39: 11, 40: 126, 41: 34, 42: 109, 43: 131, 44: 158, 45: 88, 46: 85, 47: 27, 48: 30, 49: 80, 50: 212, 51: 113, 52: 13, 53: 10, 54: 80, 55: 226, 56: 44, 57: 52, 58: 29, 59: 45, 60: 58, 61: 20, 62: 56, 63: 196, 64: 169, 65: 218, 66: 137, 67: 190, 68: 48, 69: 174, 70: 48, 71: 114, 72: 140, 73: 163, 74: 249, 75: 81, 76: 132, 77: 186, 78: 108, 79: 208, 80: 255, 81: 39, 82: 26, 83: 29, 84: 67, 85: 86, 86: 30, 87: 85, 88: 116, 89: 62, 90: 54, 91: 130, 92: 71, 93: 168, 94: 20, 95: 133, 96: 67, 97: 116, 98: 74, 99: 139}\n"
     ]
    }
   ],
   "source": [
    "count_sampled = {}\n",
    "for x,y in subset_dataset_sampled:\n",
    "    if y not in count_sampled:\n",
    "        count_sampled[y] = 1\n",
    "    else:\n",
    "        count_sampled[y]+=1\n",
    "\n",
    "Keys = list(count_sampled.keys())\n",
    "Keys.sort()\n",
    "sorted_dict_sampled = {i: count_sampled[i] for i in Keys}\n",
    "print(sorted_dict_sampled)"
   ]
  },
  {
   "cell_type": "code",
   "execution_count": 31,
   "id": "2829c92b",
   "metadata": {},
   "outputs": [
    {
     "name": "stdout",
     "output_type": "stream",
     "text": [
      "4672 5286\n"
     ]
    }
   ],
   "source": [
    "num_less50 = 0\n",
    "num_bigger50 = 0\n",
    "\n",
    "for i in Keys:\n",
    "    if i < 50:\n",
    "        num_less50 += count_sampled[i]\n",
    "    else:\n",
    "        num_bigger50 += count_sampled[i]\n",
    "        \n",
    "print(num_less50, num_bigger50)"
   ]
  },
  {
   "cell_type": "markdown",
   "id": "1dd5bebe",
   "metadata": {},
   "source": [
    "## New Version Up-down Sampling"
   ]
  },
  {
   "cell_type": "code",
   "execution_count": 50,
   "id": "6f6e2d91",
   "metadata": {},
   "outputs": [],
   "source": [
    "samples = [[] for _ in range(100)]\n",
    "\n",
    "for i, (x,y) in enumerate(cifar_im):\n",
    "    samples[y].append(cifar_im[i])"
   ]
  },
  {
   "cell_type": "code",
   "execution_count": 52,
   "id": "406846e7",
   "metadata": {
    "collapsed": true
   },
   "outputs": [
    {
     "name": "stdout",
     "output_type": "stream",
     "text": [
      "500\n",
      "500\n",
      "500\n",
      "500\n",
      "500\n",
      "500\n",
      "500\n",
      "500\n",
      "500\n",
      "500\n",
      "500\n",
      "500\n",
      "500\n",
      "500\n",
      "500\n",
      "500\n",
      "500\n",
      "500\n",
      "500\n",
      "500\n",
      "500\n",
      "500\n",
      "500\n",
      "500\n",
      "500\n",
      "500\n",
      "500\n",
      "500\n",
      "500\n",
      "500\n",
      "500\n",
      "500\n",
      "500\n",
      "500\n",
      "500\n",
      "500\n",
      "500\n",
      "500\n",
      "500\n",
      "500\n",
      "500\n",
      "500\n",
      "500\n",
      "500\n",
      "500\n",
      "500\n",
      "500\n",
      "500\n",
      "500\n",
      "500\n",
      "500\n",
      "500\n",
      "500\n",
      "500\n",
      "500\n",
      "500\n",
      "500\n",
      "500\n",
      "500\n",
      "500\n",
      "500\n",
      "500\n",
      "500\n",
      "500\n",
      "500\n",
      "500\n",
      "500\n",
      "500\n",
      "500\n",
      "500\n",
      "500\n",
      "500\n",
      "500\n",
      "500\n",
      "500\n",
      "500\n",
      "500\n",
      "500\n",
      "500\n",
      "500\n",
      "500\n",
      "500\n",
      "500\n",
      "500\n",
      "500\n",
      "500\n",
      "500\n",
      "500\n",
      "500\n",
      "500\n",
      "500\n",
      "500\n",
      "500\n",
      "500\n",
      "500\n",
      "500\n",
      "500\n",
      "500\n",
      "500\n",
      "500\n",
      "50000\n"
     ]
    }
   ],
   "source": [
    "from sklearn.utils import resample\n",
    "\n",
    "for i in range(len(samples)):\n",
    "    samples[i] = resample(samples[i],\n",
    "             replace=True,\n",
    "             n_samples=500,\n",
    "             random_state=42)\n",
    "    \n",
    "for sample in samples:\n",
    "    print(len(sample))\n",
    "\n",
    "cifar_sampled_new = sum(samples, [])\n",
    "print(len(cifar_sampled_new))\n",
    "random.shuffle(cifar_sampled_new)"
   ]
  },
  {
   "cell_type": "code",
   "execution_count": 53,
   "id": "0f9c7317",
   "metadata": {},
   "outputs": [
    {
     "name": "stderr",
     "output_type": "stream",
     "text": [
      "Subset Selection:: 100%|████████████████████████| 99/99 [00:02<00:00, 38.96it/s]\n"
     ]
    },
    {
     "name": "stdout",
     "output_type": "stream",
     "text": [
      "Subset Size: 10000\n",
      "Discarded 40000 examples\n"
     ]
    }
   ],
   "source": [
    "net = torch.load(\"proxy-cifar100-resnet10-399-net.pt\", map_location=torch.device('mps'))\n",
    "critic = torch.load(\"proxy-cifar100-resnet10-399-critic.pt\", map_location=torch.device('mps'))\n",
    "proxy_model = ProxyModel(net, critic)\n",
    "device = \"mps\"\n",
    "     \n",
    "subset_dataset_sampled_new = SASSubsetDataset(\n",
    "    dataset=cifar_sampled_new,\n",
    "    subset_fraction=0.2,\n",
    "    num_downstream_classes=100,\n",
    "    device=device,\n",
    "    proxy_model=proxy_model,\n",
    "    approx_latent_class_partition=partition,\n",
    "    verbose=True\n",
    ")"
   ]
  },
  {
   "cell_type": "code",
   "execution_count": 54,
   "id": "44d25d6b",
   "metadata": {},
   "outputs": [
    {
     "data": {
      "text/plain": [
       "9958"
      ]
     },
     "execution_count": 54,
     "metadata": {},
     "output_type": "execute_result"
    }
   ],
   "source": [
    "len(subset_dataset_sampled_new.subset_indices)"
   ]
  },
  {
   "cell_type": "code",
   "execution_count": 55,
   "id": "28d9daad",
   "metadata": {},
   "outputs": [
    {
     "name": "stdout",
     "output_type": "stream",
     "text": [
      "{0: 11, 1: 137, 2: 81, 3: 96, 4: 179, 5: 70, 6: 114, 7: 99, 8: 29, 9: 76, 10: 82, 11: 86, 12: 72, 13: 23, 14: 177, 15: 69, 16: 41, 17: 42, 18: 196, 19: 99, 20: 22, 21: 109, 22: 20, 23: 83, 24: 33, 25: 68, 26: 154, 27: 230, 28: 90, 29: 45, 30: 157, 31: 145, 32: 182, 33: 99, 34: 147, 35: 54, 36: 71, 37: 41, 38: 191, 39: 14, 40: 139, 41: 27, 42: 92, 43: 133, 44: 150, 45: 91, 46: 90, 47: 39, 48: 17, 49: 89, 50: 192, 51: 118, 52: 11, 53: 11, 54: 87, 55: 191, 56: 38, 57: 68, 58: 33, 59: 38, 60: 46, 61: 15, 62: 53, 63: 196, 64: 181, 65: 218, 66: 139, 67: 228, 68: 39, 69: 181, 70: 60, 71: 100, 72: 166, 73: 166, 74: 275, 75: 95, 76: 137, 77: 201, 78: 109, 79: 243, 80: 242, 81: 26, 82: 29, 83: 39, 84: 63, 85: 80, 86: 29, 87: 73, 88: 102, 89: 56, 90: 58, 91: 109, 92: 73, 93: 162, 94: 21, 95: 124, 96: 74, 97: 119, 98: 83, 99: 160}\n"
     ]
    }
   ],
   "source": [
    "count_sampled_new = {}\n",
    "for x,y in subset_dataset_sampled_new:\n",
    "    if y not in count_sampled_new:\n",
    "        count_sampled_new[y] = 1\n",
    "    else:\n",
    "        count_sampled_new[y]+=1\n",
    "\n",
    "Keys = list(count_sampled_new.keys())\n",
    "Keys.sort()\n",
    "sorted_dict_sampled_new = {i: count_sampled_new[i] for i in Keys}\n",
    "print(sorted_dict_sampled_new)"
   ]
  },
  {
   "cell_type": "code",
   "execution_count": 56,
   "id": "f8b676e7",
   "metadata": {},
   "outputs": [
    {
     "name": "stdout",
     "output_type": "stream",
     "text": [
      "4601 5357\n"
     ]
    }
   ],
   "source": [
    "num_less50 = 0\n",
    "num_bigger50 = 0\n",
    "\n",
    "for i in Keys:\n",
    "    if i < 50:\n",
    "        num_less50 += count_sampled_new[i]\n",
    "    else:\n",
    "        num_bigger50 += count_sampled_new[i]\n",
    "        \n",
    "print(num_less50, num_bigger50)"
   ]
  },
  {
   "cell_type": "code",
   "execution_count": 150,
   "id": "1e37fe79",
   "metadata": {
    "collapsed": true
   },
   "outputs": [
    {
     "name": "stdout",
     "output_type": "stream",
     "text": [
      "[44742, 5750, 19561, 5946, 13665, 44324, 27283, 22502, 39096, 28663, 4283, 12460, 20214, 25827, 5601, 20664, 23992, 17773, 4639, 26824, 8252, 18628, 49628, 4556, 29824, 137, 180, 686, 21778, 41450, 41911, 6658, 42395, 18084, 4302, 19779, 18457, 16908, 5397, 39853, 13919, 41243, 3718, 32562, 21815, 15855, 42384, 3611, 35334, 3046, 42771, 42182, 5383, 15984, 25588, 49377, 41367, 40825, 24688, 28983, 9205, 31854, 5540, 7298, 41938, 17371, 351, 44140, 32415, 1850, 26909, 40658, 11019, 35477, 24347, 23113, 28619, 40133, 12812, 15065, 491, 29661, 44006, 17444, 73, 6286, 40743, 25069, 49770, 42867, 1052, 26861, 38484, 3006, 31906, 278, 33611, 44362, 46744, 16569, 2412, 4592, 27538, 46467, 34860, 49758, 23341, 677, 7897, 49160, 16116, 49973, 22477, 3171, 24122, 43105, 39878, 19794, 41592, 9726, 38265, 2348, 4953, 37600, 29880, 40358, 32819, 35655, 15374, 49194, 24773, 42021, 11706, 19872, 9442, 3728, 31141, 42411, 41777, 18030, 47592, 16843, 45031, 24054, 12483, 9901, 18756, 36662, 8504, 23137, 17114, 7414, 9237, 23053, 33690, 37365, 19245, 25427, 9324, 43210, 30592, 35665, 25705, 25208, 43390, 44972, 8512, 6851, 13409, 31697, 16178, 8106, 5950, 36481, 44429, 18799, 14458, 8763, 13622, 11121, 22545, 19468, 27759, 36323, 41819, 47363, 29582, 41558, 40553, 43994, 14967, 9478, 3057, 22491, 25084, 38620, 2371, 25342, 48395, 8180, 36863, 37902, 12208, 48921, 38278, 40796, 45144, 21328, 36391, 8409, 7424, 19134, 15758, 48751, 15278, 35653, 29211, 35963, 34372, 44450, 40116, 6241, 8796, 19002, 10096, 43179, 35971, 11264, 3723, 14607, 15482, 31134, 34294, 42738, 15777, 42957, 43216, 38934, 48562, 20714, 49748, 41947, 11402, 27440, 16633, 4398, 2537, 37334, 26604, 42077, 31813, 21054, 32048, 42660, 37812, 45317, 27459, 20787, 304, 41774, 11830, 38644, 40434, 37608, 46195, 5226, 39564, 34489, 5196, 30748, 36480, 11607, 40650, 3345, 45300, 29761, 39412, 31206, 46778, 34642, 33493, 11909, 47959, 17606, 855, 27592, 35612, 39504, 11638, 30376, 13156, 10712, 33156, 46489, 32087, 16524, 1520, 27228, 5028, 13980, 20274, 45768, 29177, 41355, 355, 30347, 35344, 9600, 46122, 44325, 37573, 2652, 30166, 5185, 16723, 40589, 16582, 45925, 11937, 672, 21874, 35721, 1648, 25129, 45304, 23859, 45976, 45015, 15784, 4773, 16391, 7113, 25405, 1146, 48509, 38499, 41797, 8490, 43572, 41536, 3012, 19143, 46495, 27565, 42801, 45055, 35464, 31754, 2741, 24258, 33844, 49225, 29443, 42149, 12537, 13289, 40724, 28843, 5063, 23604, 13691, 21140, 37268, 1852, 22163, 17627, 254, 45119, 23349, 33977, 39049, 38003, 32925, 12176, 41959, 14294, 18483, 41534, 48237, 47650, 1266, 5224, 10134, 26009, 2270, 1303, 39969, 15992, 41812, 7860, 26672, 36549, 10017, 46333, 39427, 48409, 44449, 31897, 25723, 31374, 18978, 13294, 24005, 33257, 20765, 34692, 38732, 38471, 19515, 17456, 34814, 45815, 30040, 44166, 20512, 46067, 23683, 19454, 35769, 28028, 43666, 9443, 46462, 29626, 33889, 19281, 9940, 45411, 42998, 11054, 43239, 28795, 18360, 36874, 47891, 47889, 22963, 14224, 41631, 13967, 39423, 8604, 14921, 21079, 27873, 32499, 32058, 552, 35610, 43789, 43430, 32091, 35401, 35243, 15707, 44945, 30407, 25938, 15469, 41575, 37592, 83, 2473, 45292, 38258, 31805, 36635, 33003, 34647, 24073, 7254, 36853, 4866, 20883, 5200, 23603, 3422, 21102, 33442, 35478, 32343, 16254, 43636, 17837, 15370, 3904, 33980, 7098, 36923, 27318, 47249, 16531, 41672, 24493, 42601, 8671, 21430, 48784, 27575, 6314, 38680, 26268, 30372, 44377, 13644, 43781, 36815, 713, 35740, 16576, 35163, 44422, 31083, 27477, 21532, 25341, 15558, 32132, 33742, 10979, 31253, 10559, 38494, 34056, 47114, 44694, 49901, 33032, 4952, 49316, 46173, 34478, 6086, 1412, 4083, 47177, 13678, 14278, 44768, 49262, 26693, 21414, 26420, 47219, 15570, 6373, 343, 4, 30830, 16821, 1617, 17814, 46593, 27499, 39858, 36777, 22157, 29271, 17396, 16993, 19864, 10593, 43385, 14693, 28393, 21044, 19806, 469, 12312, 19703, 19178, 39485, 5928, 35511, 5138, 14231, 26744, 37368, 32801, 43264, 4940, 23997, 1920, 37185, 21766, 39172, 2336, 30494, 43846, 4507, 13591, 14182, 21566, 3290, 1579, 20281, 33961, 27992, 6166, 35899, 39822, 10392, 30101, 31061, 7, 49077, 7091, 1684, 7596, 27609, 16849, 6221, 16776, 13150, 42273, 40038, 6203, 39975, 27990, 6934, 40788, 5623, 14153, 3682, 17711, 7429, 28098, 10675, 22387, 30334, 43340, 24396, 18818, 20052, 23133, 37277, 12996, 7658, 3001, 34221, 12970, 28505, 47644, 40830, 22151, 22441, 31406, 10370, 8853, 48090, 45696, 20264, 25026, 18665, 46649, 889, 25845, 29805, 31460, 21614, 29856, 2985, 14179, 16293, 48264, 25698, 7730, 7488, 23454, 39329, 4563, 5359, 26641, 43995, 28166, 47912, 13445, 32503, 473, 3209, 38016, 21630, 8977, 1828, 46201, 40215, 48521, 33294, 24100, 40203, 2855, 22334, 33620, 1781, 21164, 23903, 48639, 31681, 16304, 28925, 13032, 20186, 15483, 16321, 45987, 104, 38710, 19310, 32217, 49888, 41318, 23651, 33399, 5697, 45447, 35668, 37428, 8456, 24637, 20848, 41301, 19482, 36820, 46230, 10085, 17473, 18217, 1358, 24683, 24453, 41325, 49571, 13730, 22796, 1806, 22400, 31504, 10244, 19214, 37483, 39541, 7142, 26179, 46708, 45195, 21284, 34508, 45542, 5732, 34081, 49116, 10822, 11352, 6019, 14298, 16778, 10818, 36826, 38528, 3668, 28607, 35875, 16886, 33767, 18365, 39277, 32814, 22344, 8699, 20657, 11834, 2944, 42599, 19359, 654, 9956, 1277, 44748, 5147, 19599, 36, 34926, 286, 16093, 4206, 4955, 15048, 6110, 49232, 49293, 39310, 43019, 28541, 1115, 26928, 45070, 8277, 5175, 35648, 6715, 42425, 48815, 27567, 14578, 21118, 2841, 32008, 1141, 22393, 12565, 37364, 33573, 25857, 18037, 6529, 30677, 37864, 16257, 43827, 40965, 10892, 45181, 14379, 43860, 49279, 25083, 34781, 46002, 39498, 14377, 16877, 41192, 39373, 32033, 22692, 10739, 21151, 25384, 6946, 26527, 47035, 42665, 14660, 40218, 306, 35532, 23785, 11347, 22076, 29499, 40930, 45608, 19993, 1429, 1095, 4323, 33916, 41707, 31655, 26606, 39408, 23291, 7977, 14088, 43056, 26273, 35595, 20185, 15336, 22926, 10824, 20278, 27531, 26522, 13329, 47701, 34241, 40904, 44462, 34777, 20226, 26521, 44108, 28777, 49213, 12683, 1943, 41630, 47791, 10897, 32236, 16078, 33592, 29483, 4409, 46223, 4214, 32407, 2847, 28801, 4931, 40595, 9254, 22582, 41850, 22187, 39115, 6847, 34552, 11425, 25308, 5514, 36655, 35221, 35460, 21125, 15241, 7023, 29751, 19640, 40417, 28774, 25825, 14998, 15119, 723, 34738, 37465, 18389, 33038, 7892, 975, 46533, 31180, 38594, 29408, 17782, 17715, 19400, 2132, 23748, 41910, 40881, 7554, 10658, 43951, 3205, 7512, 28908, 46618, 26515, 18330, 30503, 36724, 8892, 30206, 27807, 49790, 37640, 49951, 21419, 9060, 28589, 42928, 31673, 33888, 17210, 11287, 35237, 28613, 48113, 9312, 39677, 39053, 3245, 9026, 26777, 19953, 988, 5944, 5961, 37213, 22942, 300, 27917, 17475, 7483, 41839, 3055, 10068, 31830, 25741, 10481, 494, 47419, 13783, 47492, 31167, 6100, 12940, 16738, 46654, 45939, 28537, 40360, 30283, 19848, 825, 43383, 24897, 19767, 24696, 3477, 10324, 28839, 28911, 20602, 33433, 6489, 11602, 25497, 36855, 31426, 16703, 40818, 11721, 42959, 29809, 16694, 10143, 47216, 4242, 10461, 45473, 11874, 29927, 7301, 34810, 36689, 23575, 18235, 13380, 49695, 43037, 19568, 30388, 40707, 44940, 41211, 18586, 4262, 41940, 48386, 7494, 18469, 9000, 36859, 44504, 44234, 5380, 30976, 30771, 21490, 2227, 31667, 11249, 15637, 25983, 21241, 4377, 29081, 45104, 6757, 3855, 40394, 17923, 6619, 44552, 30280, 41781, 46178, 31798, 758, 14275, 30272, 28390, 40569, 24009, 13901, 14522, 11685, 40792, 10126, 21473, 33681, 45603, 41416, 13808, 42915, 6331, 2339, 11897, 16060, 33913, 33328, 3631, 6499, 3124, 28040, 2548, 20369, 1637, 13851, 30565, 35311, 40022, 24483, 37604, 25242, 17414, 6253, 10580, 18792, 45974, 15152, 18594, 21086, 31263, 48072, 26872, 44796, 20254, 3743, 4095, 1795, 24011, 23531, 47777, 19929, 13914, 36202, 18118, 13807, 38821, 12389, 9440, 8432, 35413, 26210, 37261, 20173, 15442, 2908, 7881, 47078, 21093, 35335, 9025, 28667, 12119, 33076, 5278, 17135, 42319, 27986, 3495, 11082, 11597, 45674, 14438, 8031, 28623, 30917, 20919, 13077, 7999, 30647, 33859, 18631, 11427, 25386, 18143, 16475, 25177, 37881, 18880, 22648, 40353, 23943, 33518, 14272, 23374, 27640, 26907, 15822, 34070, 49669, 39348, 44285, 35777, 37794, 34896, 36675, 32839, 30594, 17522, 10595, 49920, 49378, 5340, 49899, 17233, 12135, 32297, 33981, 19080, 3758, 2039, 17018, 3318, 42628, 29377, 39069, 35280, 39712, 12786, 32939, 21202, 15903, 47864, 11046, 15580, 44790, 14788, 31593, 49745, 22200, 33832, 36581, 25126, 6957, 44453, 45038, 25704, 15132, 2978, 10669, 28807, 29035, 37719, 1226, 48344, 16253, 41003, 22530, 22361, 1270, 36738, 41159, 1966, 29854, 1823, 6681, 44741, 30988, 25380, 33279, 45012, 4103, 47956, 42765, 7303, 6412, 15350, 46888, 21872, 40246, 6318, 1431, 13451, 42586, 47707, 19100, 38291, 39056, 16787, 29878, 15731, 44192, 33359, 32591, 33394, 13093, 41163, 18328, 10613, 1602, 10831, 34848, 42063, 40222, 10079, 3048, 26342, 29023, 1562, 27835, 7842, 30109, 13647, 14295, 6647, 21096, 22954, 35388, 25439, 32125, 43677, 37848, 418, 16867, 43851, 1341, 31892, 40342, 17640, 16530, 14972, 5634, 34955, 34461, 13450, 25923, 46506, 4240, 24422, 34716, 19251, 41345, 10612, 30700, 45386, 26067, 44977, 26437, 22751, 2951, 2056, 18062, 25297, 20324, 39766, 3204, 32268, 33474, 35172, 33500, 11313, 34392, 15074, 1901, 557, 42547, 18512, 48444, 7172, 10056, 8230, 18850, 3909, 45838, 29352, 19090, 31871, 2042, 4295, 2278, 4529, 23671, 38500, 9611, 40646, 1807, 22915, 36026, 40832, 29785, 7147, 29308, 48988, 45152, 19483, 33168, 34852, 39113, 33821, 45938, 20869, 3316, 26500, 32602, 11600, 28101, 30911, 34673, 11714, 24921, 10381, 32741, 27487, 32417, 8207, 49858, 3438, 7471, 36631, 42901, 3040, 9512, 1029, 9746, 43442, 26399, 40083, 18644, 28265, 1136, 16838, 42250, 28888, 14398, 13458, 38171, 47737, 44260, 22190, 39264, 10909, 24178, 40409, 46832, 21695, 29478, 8573, 45147, 28254, 27063, 31194, 24393, 28096, 23431, 32368, 45076, 24919, 45757, 9637, 362, 13318, 43606, 49368, 42783, 18646, 37189, 38538, 24031, 8580, 12926, 31815, 22254, 12408, 35416, 22458, 32188, 42113, 31057, 5791, 8044, 27760, 21273, 28044, 41613, 17716, 46773, 26025, 36360, 15463, 28366, 36800, 27933, 6935, 29255, 7989, 18114, 29395, 47927, 10255, 45431, 49491, 12140, 12160, 32797, 13941, 48938, 48764, 23078, 38299, 39384, 30018, 14687, 35955, 22992, 23950, 27131, 32200, 25612, 16567, 2186, 17097, 15719, 20692, 32582, 47159, 21282, 29506, 28701, 13605, 15878, 23097, 18619, 34087, 7213, 26949, 43873, 4964, 45479, 22233, 22356, 34259, 22625, 14769, 47923, 40628, 46497, 14540, 47974, 30319, 36158, 12821, 10475, 27474, 15210, 26870, 16914, 17058, 42857, 15917, 7710, 18943, 32803, 26170, 36352, 35282, 17496, 29300, 18376, 25687, 15967, 23002, 33224, 37942, 12668, 47749, 20976, 16477, 25791, 41090, 18135, 30416, 7754, 36410, 7325, 25542, 23749, 4721, 15826, 20587, 49421, 23768, 40926, 23297, 9301, 39072, 33520, 29881, 32385, 25633, 29908, 47120, 856, 12579, 46573, 33136, 23698, 11648, 38909, 8498, 46824, 26666, 13558, 15159, 19553, 19856, 35701, 25376, 18602, 11778, 38735, 30051, 23386, 4618, 6074, 42745, 30105, 32823, 37450, 18211, 680, 42533, 28276, 23870, 516, 16385, 36239, 46188, 9269, 9303, 27836, 36479, 36575, 24572, 28752, 4274, 23088, 15331, 21833, 42378, 14729, 1093, 21300, 47751, 31543, 44093, 49044, 9594, 13874, 14898, 3644, 20710, 21723, 1987, 21214, 21986, 23095, 13135, 2965, 29800, 45655, 47699, 23347, 923, 25600, 8741, 16805, 34200, 47550, 35564, 14195, 28100, 1569, 36052, 48425, 20455, 33475, 5408, 42964, 45476, 8427, 8651, 31537, 28118, 1371, 16579, 38050, 25498, 37791, 27857, 42746, 21676, 3786, 19105, 41827, 47656, 31654, 7229, 18518, 23335, 23669, 29175, 37872, 8355, 38229, 28051, 5757, 15641, 11708, 9101, 13298, 5975, 17125, 21956, 27147, 47636, 16660, 11381, 11819, 32677, 46785, 33701, 25640, 28559, 30301, 45456, 33025, 9066, 12188, 45449, 22437, 39380, 11642, 36333, 9614, 42056, 45673, 13279, 10477, 19511, 22408, 42154, 26549, 20982, 14551, 16015, 22928, 37517, 15512, 35552, 7026, 46106, 42543, 22967, 47315, 1564, 15267, 298, 25645, 16416, 26529, 5033, 6386, 21309, 25476, 4197, 13692, 18556, 48941, 44543, 35211, 27345, 30526, 37024, 11751, 5375, 16380, 43688, 15733, 17257, 37918, 14312, 34719, 42392, 24284, 1114, 24467, 16185, 16568, 11388, 32551, 24723, 7120, 1290, 9006, 46389, 35813, 45461, 44448, 6832, 35617, 27274, 27777, 36996, 19420, 10232, 15600, 15108, 49578, 42107, 4921, 33856, 28014, 11717, 47510, 43343, 8222, 2838, 44709, 8545, 38065, 8678, 32183, 41294, 7105, 35503, 2742, 48625, 5926, 20215, 22178, 16986, 32161, 14779, 30351, 16057, 13858, 31367, 22468, 24050, 26357, 1313, 45850, 10404, 45132, 30250, 848, 33348, 25259, 12671, 17288, 25878, 2240, 13210, 19026, 26104, 33391, 28889, 43969, 5150, 12304, 10646, 7789, 39621, 1814, 43217, 22798, 3475, 27879, 49814, 46475, 20938, 32855, 12237, 16357, 41224, 10160, 8338, 4208, 17681, 43574, 42608, 7010, 20396, 10500, 46953, 38489, 7568, 21450, 44158, 3834, 12471, 47720, 32485, 23255, 48029, 12479, 32313, 41704, 22720, 15789, 40395, 6894, 49735, 29555, 16735, 3331, 27427, 39670, 23190, 42634, 27813, 15657, 9481, 25261, 30303, 1982, 20321, 31860, 1745, 37470, 365, 18570, 22118, 24751, 19879, 20484, 794, 12321, 20593, 6714, 41321, 25843, 41032, 45058, 24800, 7432, 43356, 32733, 38778, 11304, 3105, 43880, 1193, 33364, 7883, 19390, 47024, 33438, 25296, 43176, 43345, 6267, 16505, 18315, 22999, 44907, 15266, 17, 18591, 32053, 45057, 11098, 16451, 24488, 17726, 47834, 30434, 27936, 31103, 46386, 40836, 30433, 49907, 37195, 48486, 8886, 47481, 27227, 12847, 35950, 13233, 44718, 14380, 37877, 46246, 28625, 48413, 28528, 1058, 23420, 7427, 16584, 49445, 14150, 36773, 37742, 29711, 36723, 16111, 502, 16282, 31799, 29791, 33461, 16482, 21271, 21066, 7936, 36320, 8794, 9388, 42038, 26086, 36894, 135, 2217, 19761, 28126, 16752, 26753, 34331, 48998, 145, 34185, 41114, 34722, 23428, 22043, 2479, 10300, 13753, 14837, 33643, 36666, 5513, 38998, 39044, 8917, 4540, 42593, 17698, 32096, 5809, 20947, 21810, 17278, 17084, 10949, 12968, 40107, 4162, 20090, 18963, 44200, 42160, 10550, 13213, 18316, 49050, 49067, 32065, 22507, 40729, 4839, 49249, 21260, 47626, 4348, 6689, 5748, 39375, 49457, 10946, 26900, 5723, 28308, 17277, 4680, 5356, 24948, 24516, 31811, 14531, 6263, 17742, 9994, 47716, 46920, 41842, 32215, 29998, 34606, 5892, 29604, 45400, 44352, 18550, 40473, 37322, 49532, 15906, 44355, 24638, 44386, 2591, 2413, 5811, 38351, 44110, 16399, 36326, 30338, 543, 39984, 49675, 33655, 12095, 47536, 33504, 35001, 22616, 36232, 35632, 28112, 20566, 4541, 22935, 9908, 1075, 46028, 22775, 42750, 314, 17244, 15553, 45011, 22524, 21335, 1129, 27925, 7347, 13934, 24191, 47111, 49788, 8308, 20732, 4330, 11649, 38317, 39286, 24579, 5104, 20027, 4305, 1867, 35775, 48636, 36680, 18101, 47758, 30869, 44661, 34556, 23042, 23718, 29981, 46759, 27828, 40325, 6234, 30443, 23241, 38514, 46981, 29235, 22690, 8743, 7927, 16882, 9416, 42148, 21417, 32253, 9523, 24316, 2763, 4751, 48791, 26256, 11005, 24063, 14115, 30687, 12741, 18505, 17494, 5923, 3400, 15806, 7496, 10192, 16308, 35427, 28687, 9081, 21859, 19620, 29871, 39268, 20959, 45516, 49227, 42491, 49242, 16879, 829, 12541, 45275, 8548, 25464, 35766, 36929, 7595, 47427, 16192, 30269, 24016, 35546, 39406, 13238, 17006, 15820, 33122, 17703, 10684, 866, 43387, 47346, 21080, 39430, 4532, 34000, 23817, 35591, 33689, 3210, 14319, 24240, 47768, 36616, 43998, 21523, 17453, 30513, 19789, 45914, 20329, 25855, 7832, 26722, 12706, 2756, 47016, 39119, 3116, 49850, 32501, 24886, 18864, 24286, 45414, 22112, 2549, 9071, 18373, 36048, 40411, 43258, 5182, 46421, 3018, 1820, 48849, 17730, 18999, 24297, 2906, 42696, 25976, 25206, 41725, 13376, 25190, 18517, 43571, 2169, 45101, 6866, 6953, 32463, 23304, 21813, 43558, 18765, 19611, 21850, 14897, 21573, 6993, 28081, 46422, 26623, 25832, 34125, 30299, 9274, 2934, 49134, 40546, 30606, 36976, 42576, 11593, 49909, 18767, 13163, 21204, 16306, 5163, 30288, 32491, 48280, 45750, 44657, 24235, 29340, 32279, 22749, 15209, 41283, 46831, 46537, 35053, 37420, 29498, 39076, 4346, 27286, 3512, 9989, 43407, 27719, 45712, 13418, 36079, 23755, 19350, 21517, 10241, 16808, 40069, 7143, 26178, 4967, 31632, 5413, 42092, 44664, 43472, 5183, 35380, 36233, 39363, 35011, 15459, 23086, 48804, 47299, 16067, 21873, 30323, 12540, 32708, 38560, 30927, 24783, 26413, 4851, 26708, 13265, 1737, 44843, 34223, 28860, 45217, 8404, 19975, 24692, 7664, 38327, 18470, 17933, 10323, 8190, 14964, 2970, 13703, 31891, 38271, 19261, 28536, 32817, 7508, 43679, 19210, 44220, 13660, 5762, 3407, 41720, 43682, 43648, 20376, 16835, 22431, 2667, 43051, 14171, 22806, 49993, 49800, 2602, 14671, 33149, 48647, 18313, 49030, 12024, 42366, 14883, 12154, 10799, 43459, 20491, 39929, 27509, 11116, 6170, 16351, 35422, 29719, 47690, 5531, 33900, 38570, 40443, 4290, 22788, 5283, 16621, 16087, 34441, 19081, 9679, 2099, 20669, 1160, 15543, 44539, 28590, 30939, 39391, 11661, 30737, 35197, 14847, 43808, 720, 44212, 26869, 47141, 20333, 11535, 12493, 40884, 26391, 3691, 12486, 47467, 13274, 41645, 19331, 48195, 12159, 21131, 21336, 19739, 27536, 33631, 5346, 26704, 48953, 19882, 1332, 31274, 12787, 12341, 2613, 22077, 39447, 56, 16952, 17388, 49835, 16043, 39422, 28878, 35386, 3797, 9958, 21440, 7785, 3212, 34562, 39497, 19368, 30778, 49426, 27225, 37228, 47851, 18800, 16673, 2071, 36637, 7996, 17510, 29588, 21861, 5652, 23840, 45982, 1121, 30246, 15292, 29963, 5615, 34842, 7146, 15271, 35167, 6754, 49805, 33243, 15611, 20539, 19299, 46814, 25589, 39695, 22070, 9309, 14682, 46384, 18401, 21097, 18960, 6823, 28766, 17573, 34412, 2674, 42011, 37747, 20944, 31345, 15976, 32157, 739, 49893, 49522, 36353, 37387, 14202, 12978, 40444, 2990, 15224, 15422, 15653, 38895, 28348, 30794, 20493, 24155, 15868, 40242, 45525, 4709, 40450, 1731, 27072, 18146, 48608, 9754, 45776, 5654, 9124, 13728, 47584, 13315, 38992, 38149, 29056, 1344, 3467, 34135, 14227, 13363, 31013, 23260, 37643, 4054, 8463, 45698, 16232, 19798, 17785, 5884, 14733, 14240, 13038, 13507, 45437, 6020, 22743, 27195, 38799, 31118, 19263, 9167, 39761, 29659, 27402, 21715, 20354, 8809, 7139, 14311, 27826, 91, 9360, 47487, 29584, 10111, 6661, 235, 29039, 9867, 14443, 38516, 43290, 61, 47811, 1761, 32440, 34971, 37131, 812, 37409, 18758, 45262, 46392, 3768, 13805, 26238, 23643, 12613, 21985, 627, 4249, 3806, 21010, 21326, 18898, 29319, 46522, 48229, 17068, 30913, 27277, 47316, 16107, 36811, 28977, 39014, 8317, 36865, 36156, 22744, 43854, 17360, 19113, 20341, 38733, 41692, 26637, 10935, 39544, 42940, 40503, 24517, 17527, 19425, 7090, 13833, 48530, 10275, 25440, 36610, 37721, 6338, 12853, 24834, 30380, 13715, 7884, 10485, 19666, 26085, 45134, 26147, 43400, 11746, 45354, 18622, 25219, 36284, 2258, 23369, 33515, 12512, 7632, 45165, 12927, 40359, 35693, 48672, 14221, 25403, 32991, 34588, 16206, 39885, 33061, 38414, 27397, 42889, 22283, 5184, 20073, 5199, 43795, 36711, 18032, 18582, 26229, 39501, 38495, 34705, 27419, 45126, 32104, 46756, 46889, 15994, 7629, 38282, 12509, 15386, 38533, 26873, 3972, 27779, 30605, 38997, 1119, 12039, 33120, 4596, 14465, 22812, 45484, 33256, 3496, 37988, 25535, 15793, 2618, 41742, 5755, 36270, 40095, 34799, 23210, 21144, 43511, 11004, 6746, 48326, 29968, 13656, 17090, 47226, 21537, 19661, 26113, 36945, 3488, 14376, 41436, 21700, 30328, 12425, 43001, 20207, 4656, 41832, 10167, 24646, 23447, 2285, 19092, 46599, 20713, 16471, 42170, 25629, 21649, 26884, 36482, 27956, 31097, 34805, 35136, 37987, 18193, 14956, 32648, 27798, 4473, 4560, 39796, 22160, 11541, 21540, 33703, 8785, 16020, 1974, 9729, 6034, 36883, 20021, 37132, 5706, 25250, 18166, 34315, 10299, 877, 36155, 27047, 16922, 42885, 42308, 38613, 11317, 3852, 44600, 2072, 21475, 34984, 33378, 9121, 31277, 41249, 44811, 45426, 2438, 13804, 35770, 10764, 43118, 23300, 2578, 45385, 22339, 42789, 35704, 29886, 37006, 47632, 8124, 7703, 21395, 16690, 31735, 754, 48335, 32322, 8547, 35577, 43777, 42689, 2190, 12788, 5302, 39857, 12500, 10224, 19717, 44098, 39589, 32306, 15395, 35428, 44609, 22230, 4834, 8273, 13838, 10686, 47230, 3665, 26207, 48186, 9975, 9849, 2107, 36785, 34531, 49903, 13128, 9666, 16013, 8956, 9495, 18575, 44065, 2395, 48234, 40472, 45017, 33861, 41067, 38356, 43628, 7688, 7608, 41983, 39009, 13200, 24427, 45964, 31132, 3669, 7354, 4486, 15289, 42813, 24895, 46713, 10567, 40540, 8488, 49441, 16127, 31825, 7755, 6517, 22407, 2162, 48228, 2615, 28012, 24567, 1721, 6942, 38036, 33963, 23020, 39130, 1386, 19636, 3054, 46354, 36566, 1510, 26187, 43548, 12765, 43841, 10502, 39266, 12168, 24432, 37590, 48717, 29133, 45547, 706, 26572, 8677, 32768, 41443, 26932, 40927, 47123, 15392, 2573, 27426, 12589, 11222, 12187, 25211, 26426, 36164, 40620, 32700, 34147, 39870, 1435, 41490, 1540, 18754, 5664, 20595, 24158, 22115, 18432, 17079, 30591, 27058, 3996, 21947, 18266, 46096, 25180, 46798, 13932, 21385, 5096, 4663, 34334, 38764, 49444, 5538, 23934, 48356, 24329, 36624, 33351, 21194, 29343, 19702, 2146, 47373, 13300, 45487, 31372, 45065, 33005, 7374, 12285, 36212, 23509, 7624, 37998, 2467, 17292, 5912, 35293, 28237, 30048, 25080, 40382, 23760, 7766, 39142, 11154, 13813, 26784, 9387, 749, 43936, 45048, 46292, 17712, 9642, 30370, 446, 22294, 10886, 5476, 36836, 16383, 34530, 30192, 1037, 5348, 19643, 21492, 4711, 38824, 6497, 8382, 45606, 43557, 36210, 19907, 25395, 8836, 47371, 3222, 14625, 24601, 30077, 36850, 18007, 5903, 35605, 13485, 25903, 47322, 32643, 3270, 5400, 45464, 4976, 3514, 47218, 8066, 31071, 7566, 15718, 20541, 29736, 47659, 11895, 43064, 34770, 287, 17964, 47507, 38434, 29043, 1539, 18233, 20522, 33965, 20474, 44594, 42980, 48492, 13606, 14381, 34093, 5851, 37783, 28872, 7276, 45093, 25272, 30482, 24660, 15532, 41888, 25795, 32436, 11574, 4632, 12758, 41171, 28601, 14043, 5345, 21846, 6889, 13907, 19937, 22704, 16628, 16045, 15540, 42811, 16709, 21421, 36131, 40205, 29729, 9529, 43173, 26929, 38464, 4010, 26469, 1006, 16446, 7037, 34532, 20287, 31609, 38985, 48604, 49875, 13764, 4936, 44750, 31388, 42713, 10064, 30955, 44170, 26200, 44993, 48800, 38504, 30055, 48833, 8329, 22495, 49841, 28755, 5854, 15135, 7900, 42985, 9727, 47647, 2552, 35522, 42862, 36599, 39221, 42323, 24179, 2470, 47624, 49026, 15520, 41300, 36526, 9349, 36999, 49569, 45409, 24997, 7333, 14358, 42984, 32853, 48739, 33558, 10898, 13475, 32362, 1523, 38867, 27167, 36268, 46006, 34774, 11195, 32114, 47769, 32230, 6834, 14686, 36740, 14236, 19000, 8776, 23560, 18209, 23114, 48372, 11183, 20013, 40351, 39519, 17378, 7975, 18302, 41838, 14503, 28605, 47787, 12532, 43482, 38527, 2571, 34360, 33542, 41331, 26084, 9175, 22326, 28359, 17208, 12594, 36118, 9472, 35317, 42645, 46449, 19191, 16502, 24956, 39513, 46250, 49704, 22184, 4846, 28695, 32163, 45438, 9048, 46803, 38315, 48308, 36676, 15606, 38250, 49565, 9691, 11151, 7028, 36185, 43788, 36810, 36625, 21648, 4492, 29158, 29673, 30563, 45636, 47513, 11205, 26177, 10198, 18573, 22309, 21685, 10717, 24445, 9937, 41891, 24188, 3050, 41966, 36055, 41262, 42788, 22359, 12002, 15778, 15950, 23487, 28976, 34800, 37484, 21266, 13065, 34141, 33894, 30882, 15281, 30964, 12012, 18502, 14576, 40059, 2019, 20969, 24519, 47073, 26421, 16799, 9172, 42583, 32525, 19519, 24954, 24686, 39876, 28287, 48685, 10959, 28404, 43028, 11650, 30038, 48774, 5446, 13351, 6152, 3142, 37935, 27625, 29949, 22839, 35364, 42241, 39169, 3870, 25145, 15262, 36780, 41788, 27708, 13120, 17561, 38066, 12566, 40238, 4084, 22868, 34155, 16276, 42840, 9247, 8160, 12672, 29520, 9853, 11569, 48083, 2935, 82, 21494, 41123, 26713, 2561, 20168, 20811, 14622, 49124, 49617, 14882, 31453, 48450, 35568, 41721, 7395, 9496, 8437, 32029, 27237, 329, 37183, 21521, 4096, 18694, 34602, 34225, 27739, 19118, 40995, 5323, 18590, 14051, 46862, 29262, 49774, 29623, 45849, 5321, 45857, 19931, 43768, 10405, 12938, 11712, 29999, 21022, 29940, 4765, 28238, 43162, 37832, 35039, 41054, 2891, 44153, 24782, 32938, 25401, 15803, 35900, 39003, 16490, 48179, 21857, 33126, 23690, 35402, 48063, 30314, 29578, 7358, 5332, 44125, 26395, 45916, 16394, 39333, 23488, 41524, 36839, 16338, 31217, 4804, 49440, 19283, 23521, 39347, 9751, 27171, 18213, 13746, 30984, 32647, 13088, 41925, 14937, 25383, 15643, 15655, 1730, 3913, 18632, 18807, 22053, 10473, 35482, 34355, 27464, 47748, 46657, 11457, 6588, 35621, 1174, 49375, 44286, 37681, 32691, 46189, 26023, 910, 36618, 25347, 6188, 11565, 23206, 44521, 12214, 35327, 32462, 16196, 25796, 18267, 12584, 28984, 12782, 31930, 11455, 4014, 42610, 35315, 10562, 1350, 37400, 44673, 37120, 4017, 47797, 2299, 29832, 206, 8564, 37945, 20020, 3193, 43748, 31008, 11148, 35556, 39223, 13882, 9698, 37553, 15743, 31663, 4079, 41991, 12684, 44675, 2332, 21915, 14193, 17262, 5542, 25052, 8392, 43527, 11542, 8125, 43104, 38207, 42143, 49728, 1881, 17230, 25112, 36359, 42904, 34898, 34067, 20353, 35209, 3075, 43438, 47095, 30601, 13347, 5796, 24324, 5550, 1572, 20689, 28431, 15127, 24081, 11846, 14387, 28994, 37103, 40093, 18218, 38150, 37206, 45282, 43405, 30624, 33360, 30768, 15861, 49606, 37267, 11763, 16181, 45, 27862, 5817, 9136, 21981, 11387, 33289, 31446, 11719, 11720, 25117, 37813, 45340, 21172, 34635, 20223, 30238, 38048, 27012, 2483, 43012, 27673, 7992, 19312, 18169, 48821, 3090, 11553, 37312, 9628, 44371, 4611, 45875, 46788, 6174, 23601, 27429, 9263, 42137, 20754, 13688, 35, 23756, 5052, 36376, 37603, 44820, 5374, 885, 43934, 12578, 13001, 14210, 45072, 42003, 3233, 35549, 40745, 32173, 44669, 29384, 25148, 43235, 41342, 38511, 37394, 16898, 47295, 45539, 9014, 25054, 21463, 5842, 28099, 29227, 15405, 29731, 27900, 39737, 33452, 47839, 6049, 30446, 15260, 17783, 29040, 29239, 37199, 29817, 41653, 18993, 10572, 17395, 44215, 1968, 142, 27281, 49976, 38925, 37758, 16339, 14048, 2383, 47847, 7310, 1873, 10246, 5387, 242, 32922, 44780, 49530, 49579, 29652, 24361, 43991, 12956, 1798, 13956, 11911, 9773, 1853, 31998, 18198, 46123, 49465, 44218, 23999, 20468, 5417, 30260, 39259, 30133, 37559, 8634, 32056, 48007, 14677, 35801, 33546, 41311, 25390, 48212, 14116, 44073, 38024, 181, 12203, 30745, 20960, 22572, 23209, 6841, 2047, 2707, 36345, 1605, 38884, 13659, 48825, 19688, 47431, 13508, 19652, 44070, 3112, 9838, 9475, 11848, 382, 15362, 26414, 45205, 10015, 41385, 20195, 13310, 35075, 38219, 14428, 114, 30467, 12605, 43228, 17635, 23961, 26263, 41156, 16473, 28236, 38582, 49105, 17638, 20366, 3715, 23199, 44782, 41770, 20316, 21178, 38702, 27264, 25147, 47898, 1348, 44032, 28630, 9944, 7468, 22828, 18878, 19633, 45423, 957, 1397, 42103, 43174, 49269, 48768, 48109, 35322, 16666, 11687, 11610, 4002, 46907, 5877, 3368, 12974, 28174, 30147, 30501, 49083, 36226, 7914, 43941, 11100, 10918, 3577, 35650, 37671, 28585, 13345, 5744, 28106, 38766, 2343, 34396, 40649, 22471, 4285, 4595, 13124, 20792, 7561, 39214, 26682, 26159, 14589, 49782, 16764, 18615, 6629, 42416, 44004, 34245, 3073, 36145, 34034, 42229, 48493, 48939, 32910, 37361, 27207, 34523, 35969, 32490, 10729, 47050, 49635, 26188, 30688, 29058, 19988, 47267, 19487, 33276, 3357, 7865, 46054, 44332, 43272, 43614, 15856, 7695, 10520, 42415, 29945, 40118, 27469, 482, 38784, 40939, 14069, 43904, 39284, 3779, 19542, 40833, 11193, 41569, 44731, 20191, 23302, 30577, 2384, 6994, 15294, 9616, 38610, 2481, 37392, 42198, 12515, 13402, 8050, 6907, 3243, 18544, 30659, 7193, 11557, 45637, 29572, 5733, 11015, 13574, 30267, 42130, 850, 38835, 3454, 32914, 25195, 8680, 11523, 7225, 16154, 22621, 43862, 33780, 6688, 41581, 45774, 12047, 4257, 33545, 35475, 9043, 47099, 28415, 35074, 49233, 49629, 41568, 38792, 6266, 23923, 17673, 40913, 35049, 28355, 4700, 37168, 46639, 44525, 13849, 12555, 19676, 5662, 27276, 21332, 14246, 1147, 2862, 30522, 14823, 31358, 5225, 8997, 43738, 19486, 18414, 21001, 4351, 14533, 3241, 40851, 47582, 47850, 25318, 42339, 8263, 24588, 7437, 38209, 19257, 7441, 2372, 12011, 35550, 37461, 49310, 35400, 7188, 43883, 9142, 20485, 10609, 18501, 25737, 45999, 25822, 26063, 41676, 1571, 18783, 4047, 47253, 2844, 48776, 46044, 26669, 34303, 28844, 467, 2236, 43884, 38404, 27170, 36523, 14543, 11081, 25656, 5529, 1542, 36778, 11736, 47461, 14536, 22725, 30826, 33803, 43534, 11122, 19048, 35731, 25621, 5444, 36092, 32352, 7924, 18903, 42559, 41817, 41320, 20833, 17099, 35671, 11652, 33409, 43512, 20183, 9911, 45624, 12722, 40747, 18189, 34801, 4263, 19201, 31363, 24384, 25462, 25941, 33897, 37282, 40943, 14375, 6566, 45716, 44538, 19441, 26282, 22461, 11108, 7369, 37367, 1744, 17420, 1502, 30867, 5070, 10515, 23734, 10482, 36107, 16872, 36068, 37412, 22638, 34317, 32558, 22122, 45927, 45349, 9524, 17363, 6818, 6390, 37276, 45913, 46030, 7504, 35752, 24731, 15638, 10895, 32584, 22580, 26225, 17729, 24565, 4633, 22570, 44197, 29313, 22307, 47512, 2280, 42698, 5009, 2390, 16031, 2713, 42481, 22861, 39199, 12695, 16962, 45140, 36447, 15567, 12945, 40803, 41851, 46775, 47724, 17066, 18915, 21226, 22313, 27569, 47351, 18249, 3738, 5675, 20876, 39032, 34725, 6352, 2597, 38558, 34961, 9246, 13627, 13883, 44288, 11021, 18351, 36542, 8740, 27150, 21438, 32051, 9431, 13184, 28568, 417, 5746, 13109, 21276, 42165, 41779, 49983, 22608, 47417, 26059, 7207, 10430, 14873, 14743, 28740, 17500, 17578, 23476, 37896, 16600, 17702, 3949, 42205, 15130, 19836, 47982, 42300, 21899, 11532, 44941, 44211, 39809, 34944, 40158, 4736, 6576, 2248, 41176, 9422, 25232, 595, 25678, 24401, 1246, 34997, 18052, 37799, 44574, 33380, 30429, 23391, 23844, 11329, 37922, 33540, 42776, 7036, 31199, 28330, 41824, 5484, 48699, 32020, 38654, 44400, 5054, 13514, 46565, 33514, 48252, 27500, 3540, 49094, 25962, 25642, 30838, 46872, 17150, 20297, 13525, 3297, 35869, 34276, 23881, 44816, 47892, 47202, 15436, 37821, 25761, 48842, 21413, 24608, 49018, 36757, 32478, 10852, 6250, 39388, 20147, 6501, 42872, 19786, 39516, 29445, 27009, 26551, 33508, 36147, 934, 17656, 31028, 13845, 33556, 18707, 36571, 43465, 801, 37094, 18557, 29360, 14251, 40296, 22097, 13454, 17085, 335, 7451, 20676, 3706, 46284, 2292, 47679, 18053, 15534, 29176, 45444, 19175, 19212, 14281, 49109, 48329, 22989, 45614, 42997, 41512, 39662, 4101, 46603, 42208, 43178, 9398, 7020, 41274, 13439, 39311, 1568, 4145, 42700, 41661, 9633, 48719, 15216, 30454, 23740, 22169, 22104, 42333, 3794, 14707, 21286, 12924, 38023, 30559, 16063, 45258, 867, 6147, 41019, 49154, 48274, 28170, 14626, 15455, 46876, 8055, 7986, 27561, 2922, 42859, 50, 19509, 17811, 36324, 48489, 27794, 4252, 29818, 35338, 9744, 37341, 40826, 14304, 7959, 42615, 47212, 11584, 5604, 32900, 8202, 32530, 7725, 16683, 20472, 30645, 12454, 14523, 41107, 8038, 31630, 45211, 40495, 7674, 26598, 33863, 25016, 18721, 40111, 7355, 49202, 24270, 31723, 36384, 17466, 28180, 33810, 8610, 8363, 42708, 32443, 4483, 31368, 41476, 45923, 46107, 20457, 38346, 27054, 15935, 25417, 46437, 25343, 43312, 39433, 32728, 40859, 33788, 9942, 18492, 2755, 44360, 19145, 14979, 13428, 650, 26088, 10925, 28570, 7251, 12983, 5448, 10775, 30189, 3390, 3501, 10668, 3701, 33489, 36421, 25990, 38298, 31049, 33221, 7537, 43480, 17252, 7822, 40319, 43035, 6197, 31357, 48674, 26484, 45193, 23327, 2616, 49824, 17294, 2658, 3350, 23899, 16096, 19097, 3948, 49654, 31925, 13725, 1662, 39201, 45600, 24900, 49953, 37766, 35005, 1748, 15577, 11269, 40313, 22825, 41382, 40604, 41865, 22297, 21805, 23375, 32995, 43063, 24185, 31282, 7514, 5909, 41455, 26779, 4620, 49544, 29221, 7895, 15927, 2888, 43089, 31069, 36309, 25969, 12256, 8683, 46643, 46280, 2868, 20855, 27230, 21303, 39815, 26346, 8282, 47984, 38157, 15360, 12386, 26206, 39759, 46929, 20319, 23867, 24708, 34311, 28120, 13777, 40978, 6793, 46134, 49045, 3608, 40092, 28374, 35299, 11817, 9424, 48907, 36752, 35841, 46172, 32759, 22150, 38591, 40357, 49410, 49808, 4343, 26593, 38304, 1087, 41650, 28956, 3143, 24366, 290, 178, 39840, 22475, 38260, 37621, 36254, 19787, 29391, 19419, 29449, 15699, 39080, 28299, 8094, 18508, 11548, 30448, 44920, 25119, 20561, 38111, 48635, 25583, 8632, 11463, 29130, 7237, 6816, 23765, 7110, 30918, 6367, 49896, 33259, 10319, 25580, 2620, 36934, 31264, 33412, 27371, 40128, 24547, 42106, 13620, 25231, 4668, 14370, 47692, 38132, 24323, 8583, 48945, 40415, 21123, 4759, 33447, 12651, 25968, 18812, 19490, 5212, 44084, 18779, 34202, 31764, 23696, 16951, 37295, 46653, 49119, 36995, 42669, 16903, 45289, 24631, 33204, 18181, 19823, 28111, 13636, 39818, 15790, 21255, 14252, 47049, 15243, 20143, 44109, 17866, 15197, 42546, 33282, 38188, 16035, 16435, 40343, 28381, 29672, 29697, 40441, 44083, 38974, 1320, 48351, 21886, 14736, 48405, 377, 48813, 32956, 17895, 34424, 29803, 26164, 28072, 961, 38845, 2472, 13220, 27317, 16878, 29387, 38178, 12687, 34561, 5718, 41755, 12367, 28104, 44700, 7672, 34207, 7192, 46823, 13361, 44856, 232, 29608, 48327, 24829, 33758, 36838, 30827, 26615, 26019, 19435, 9289, 27891, 7585, 16939, 48567, 23045, 39022, 18151, 33814, 49384, 43710, 23789, 29669, 38237, 12216, 13312, 7763, 43030, 7931, 35391, 14575, 46212, 47829, 11336, 3601, 34204, 37732, 4774, 24326, 42225, 6822, 41235, 49354, 34819, 34864, 25502, 37898, 29447, 26094, 16032, 33242, 3412, 22245, 26407, 36570, 14710, 23898, 4586, 12903, 16301, 46883, 40602, 46183, 36514, 8351, 44455, 36792, 37501, 28851, 38996, 38234, 42207, 42209, 27972, 25432, 24533, 21530, 14329, 18115, 18161, 12198, 34336, 42747, 31785, 19305, 30315, 12831, 45713, 13138, 8732, 10563, 7308, 39370, 22520, 48548, 37657, 2271, 17415, 2856, 28867, 28391, 38924, 43393, 43408, 4213, 8279, 29137, 29429, 40932, 33815, 49139, 19473, 41520, 10939, 22251, 8882, 19763, 47108, 11785, 22243, 34420, 28240, 25504, 49885, 18940, 21572, 39084, 42123, 18928, 15340, 19356, 30965, 15166, 6038, 10269, 48239, 37831, 47576, 34835, 28319, 27817, 12785, 49657, 4731, 11232, 21426, 535, 2604, 6279, 30888, 26901, 42177, 25560, 6353, 47852, 36910, 13577, 22129, 49923, 44533, 29976, 29831, 44398, 657, 40893, 20225, 48986, 29008, 6097, 34328, 41500, 767, 14382, 47706, 21666, 4179, 29080, 29088, 22121, 42763, 40882, 490, 49229, 22885, 28469, 45360, 35879, 18990, 3271, 12790, 48443, 2106, 31153, 22716, 15473, 40002, 17775, 30037, 18532, 48506, 46621, 10950, 39727, 31524, 188, 30510, 2894, 28805, 38577, 41435, 4271, 40227, 42598, 44323, 23998, 40284, 41386, 29073, 28930, 5342, 39716, 323, 17289, 34967, 828, 45343, 20352, 29118, 17352, 34610, 43999, 12689, 1576, 41666, 29972, 19067, 38781, 24868, 19805, 1311, 6326, 45947, 20431, 28210, 18109, 6159, 23795, 10700, 39077, 44952, 37851, 1207, 19471, 44961, 47239, 8592, 18857, 37995, 49519, 5519, 6768, 44785, 37047, 35923, 37165, 34886, 1701, 6061, 15107, 2947, 10022, 3824, 24766, 24239, 18487, 10288, 2629, 4326, 2842, 42954, 16079, 33857, 26525, 6606, 28591, 1629, 14519, 18439, 2082, 21462, 14593, 49245, 23994, 18884, 3612, 5991, 3083, 37053, 2579, 45392, 48009, 16177, 14951, 3861, 18869, 28194, 13453, 40594, 14891, 48135, 1057, 19184, 45576, 14082, 19412, 22719, 41206, 12126, 8503, 43181, 13861, 22603, 29179, 6675, 30791, 35142, 23548, 11112, 27314, 45116, 25419, 24891, 12373, 37340, 8497, 11097, 43020, 6256, 38626, 48996, 49840, 27141, 17048, 48975, 21182, 45584, 26473, 21753, 2346, 36342, 21779, 39551, 19851, 7611, 20615, 11368, 35374, 33535, 18863, 32304, 26258, 28306, 34472, 48781, 30518, 22918, 15617, 44727, 38541, 22360, 22542, 32961, 34023, 37432, 28859, 36902, 880, 30053, 26702, 26577, 33612, 26681, 7923, 44103, 11630, 41565, 5297, 39572, 16897, 47675, 49602, 25811, 20645, 20871, 12008, 44711, 34265, 32425, 34566, 29895, 43183, 48491, 7879, 34291, 21500, 24667, 46465, 43616, 32388, 46410, 43544, 20839, 4920, 32464, 311, 22096, 27522, 28638, 41933, 21546, 14732, 48258, 3844, 32106, 34720, 47607, 26914, 14521, 49848, 19395, 11338, 22370, 10193, 5022, 42337, 15222, 2666, 11965, 20096, 18668, 3733, 12854, 48281, 19292, 28515, 46236, 4849, 796, 20172, 35877, 30810, 10455, 23191, 45268, 30756, 43080, 36786, 20760, 9385, 16862, 30462, 41643, 23146, 46270, 32963, 28554, 27268, 42879, 49011, 18299, 2632, 41705, 44828, 41139, 2228, 46886, 14078, 6009, 17144, 16188, 13654, 45047, 24172, 47994, 36463, 32771, 28997, 9490, 21607, 49237, 49747, 43113, 9218, 11237, 8751, 49529, 26390, 16744, 29005, 14083, 8708, 49258, 23909, 37339, 14118, 47617, 19392, 30938, 17128, 12815, 36920, 45163, 46909, 30576, 35641, 30335, 19579, 5391, 48094, 32195, 33533, 36006, 46232, 8558, 18214, 21645, 27646, 1961, 41481, 43843, 12487, 536, 24383, 33272, 15010, 4005, 21524, 34729, 19062, 30291, 36633, 21353, 44665, 15178, 38059, 26363, 33824, 10389, 19974, 19558, 5249, 19094, 41783, 6532, 10258, 18354, 17951, 21925, 34632, 6604, 22056, 33146, 25850, 21477, 2528, 8438, 20735, 43098, 39324, 30638, 48162, 19374, 31909, 32280, 69, 49147, 45954, 28214, 38892, 40277, 8337, 45812, 15346, 44057, 28038, 5082, 23848, 32493, 5244, 44630, 30763, 36804, 30034, 36483, 15894, 30912, 4978, 47873, 3825, 6981, 10876, 20633, 12000, 30126, 19027, 19970, 28832, 35162, 13870, 2930, 49766, 20922, 48898, 38186, 49490, 36467, 32122, 9737, 34778, 9350, 7861, 43681, 1197, 10945, 47611, 10600, 48915, 15922, 15887, 9117, 10857, 22006, 46493, 20068, 41968, 41052, 6271, 4646, 25824, 11459, 30944, 14126, 36219, 33401, 10802, 16372, 14326, 46914, 6737, 12443, 19264, 44461, 21016, 12875, 10617, 27938, 33437, 30521, 16432, 42630, 23972, 10836, 37637, 23099, 25006, 26466, 42327, 10385, 26349, 36725, 11773, 38874, 39048, 6660, 26065, 16347, 6237, 14899, 47900, 7367, 27557, 30030, 13205, 14855, 29877, 12105, 24874, 2854, 36968, 24603, 39685, 31176, 38144, 12204, 41603, 44697, 40950, 15191, 39467, 9346, 33822, 22573, 31696, 23607, 1756, 24788, 28087, 34411, 871, 38510, 42201, 21106, 24226, 38729, 7344, 37016, 28917, 8574, 15914, 39932, 22656, 37993, 7234, 33945, 38123, 27503, 9564, 10027, 46853, 29836, 17583, 37948, 24460, 7021, 31497, 19996, 24796, 48559, 35207, 3634, 30317, 16437, 29531, 17050, 49015, 44081, 6436, 46993, 9688, 49429, 49679, 26638, 44054, 1178, 9949, 41398, 39298, 39474, 3174, 49698, 8349, 16342, 14247, 8549, 47573, 15303, 16865, 25141, 27338, 37588, 34547, 38801, 1543, 11468, 39930, 18681, 42592, 47018, 29899, 14075, 927, 47439, 47312, 33572, 42846, 49337, 33939, 4149, 39630, 13036, 9783, 25964, 32012, 9753, 12151, 23543, 32374, 15337, 20666, 7622, 41047, 30236, 8398, 26278, 18562, 26540, 17297, 8757, 10807, 23048, 13305, 9444, 47767, 14566, 31861, 30694, 26631, 42580, 3244, 49152, 15090, 24541, 30439, 28422, 1239, 10999, 36867, 44765, 1199, 25028, 29640, 30952, 42487, 24289, 14450, 16100, 39935, 40183, 11275, 6503, 3763, 30045, 19066, 21592, 44018, 48957, 43108, 34464, 37399, 22858, 47746, 9730, 22550, 43223, 19011, 29897, 3513, 1401, 14190, 4686, 35803, 13151, 48167, 10874, 15622, 3596, 45333, 13769, 4747, 35228, 18274, 1953, 48720, 13975, 16274, 12090, 17516, 26103, 936, 9652, 37508, 18194, 27450, 33779, 39817, 33115, 29226, 8584, 6527, 31949, 7180, 42804, 43040, 19130, 18417, 34243, 20320, 5805, 43281, 36087, 32061, 38084, 11632, 28256, 39180, 31928, 31599, 9154, 30016, 6636, 26360, 15515, 44878, 26356, 33905, 43261, 26735, 31855, 48424, 40551, 48762, 12593, 16169, 43327, 26582, 3920, 10544, 37205, 1879, 29801, 34924, 35754, 47719, 35462, 47051, 9894, 48846, 33229, 27130, 15368, 21347, 40990, 27732, 17978, 11312, 10238, 19475, 5917, 25798, 841, 29924, 2205, 5079, 46476, 41625, 30197, 28810, 19891, 19273, 22228, 9197, 12835, 19227, 16864, 7690, 11426, 160, 23256, 41004, 39816, 27203, 2453, 1024, 26083, 5572, 17542, 8104, 27677, 46609, 45538, 15277, 10987, 2505, 9412, 39764, 49751, 8810, 13440, 25666, 2928, 2680, 40866, 24650, 47220, 32387, 35071, 27971, 38932, 42990, 26195, 9604, 192, 6753, 49132, 11115, 33387, 44580, 8777, 6421, 42657, 14476, 6315, 4893, 39656, 45998, 40784, 31883, 37597, 16327, 40322, 15008, 29368, 21468, 44162, 28894, 28931, 39906, 17331, 29431, 40907, 15595, 18491, 48027, 46592, 21231, 47146, 49506, 648, 28337, 10333, 46490, 9055, 28048, 20865, 39537, 37227, 28464, 15157, 9111, 24691, 43204, 20956, 27467, 44384, 46027, 28707, 33580, 31804, 38761, 10747, 11053, 34060, 15402, 28719, 22214, 6025, 37803, 37907, 25872, 28207, 20638, 34869, 44454, 36436, 22746, 9951, 32319, 27406, 6479, 6028, 42720, 21902, 46700, 10806, 9715, 28803, 43609, 48078, 2941, 153, 31664, 8413, 27687, 12019, 49736, 23615, 7497, 46116, 45612, 29147, 3633, 3968, 48502, 45907, 28284, 47436, 17744, 42653, 36077, 9389, 49123, 9923, 18714, 38836, 13571, 39475, 28352, 122, 37697, 12616, 5997, 45009, 47210, 15383, 36058, 23366, 7247, 18191, 17212, 45016, 38900, 25867, 1366, 46794, 11309, 273, 10525, 26804, 43887, 21952, 40042, 20179, 8077, 31361, 36407, 2488, 31797, 18263, 46964, 1274, 12424, 34807, 48741, 11177, 24428, 17177, 41116, 8543, 360, 13280, 25958, 37135, 27562, 44984, 6900, 13157, 17577, 32785, 12169, 35986, 3598, 33127, 39522, 42450, 48032, 12388, 41018, 25882, 44487, 17383, 38115, 29622, 14271, 39627, 6976, 448, 2254, 23253, 7257, 42563, 5125, 35582, 18344, 30491, 16190, 47086, 9806, 17854, 15924, 31927, 27060, 39806, 43662, 48245, 20691, 3603, 22593, 11539, 8858, 18957, 38143, 25779, 38811, 7351, 5325, 19913, 36695, 47966, 24550, 4874, 38227, 21408, 11382, 36177, 49017, 45971, 35606, 7048, 2324, 48811, 33576, 11350, 41712, 28573, 32535, 15909, 5593, 36967, 12451, 44345, 36709, 10819, 16754, 20346, 21563, 1232, 43469, 6102, 18523, 15882, 21316, 5859, 29074, 46863, 31333, 43190, 46342, 26847, 16598, 25616, 48664, 1704, 25650, 48634, 31352, 33302, 8310, 28078, 25366, 21502, 21262, 29412, 41153, 6350, 48503, 17366, 41964, 8727, 9073, 18324, 909, 15860, 6879, 24622, 6671, 38067, 16953, 586, 19867, 38725, 29442, 44633, 31668, 17351, 44331, 40719, 8616, 12335, 39714, 13296, 34099, 19903, 29967, 1638, 40112, 34694, 23617, 38565, 39863, 10622, 46906, 26624, 39495, 38453, 36532, 47698, 2203, 46259, 9292, 2504, 31322, 16779, 40935, 1829, 2849, 5820, 42769, 46761, 12056, 21446, 33774, 18393, 4349, 12212, 34244, 44973, 40476, 43150, 45250, 7686, 7679, 11865, 9626, 5677, 30720, 32469, 21009, 33722, 48665, 39153, 25842, 43420, 1627, 19797, 23971, 11217, 14212, 30632, 49845, 46613, 6989, 26217, 6885, 1443, 6695, 35108, 581, 16647, 40250, 9380, 33850, 26714, 34383, 32668, 8151, 728, 37856, 26445, 49596, 32870, 23075, 20796, 28024, 30112, 18195, 5394, 36339, 14138, 37027, 26580, 45568, 33230, 9268, 39396, 19722, 22756, 36889, 30733, 42687, 37572, 23184, 27792, 9067, 28732, 26866, 31144, 33467, 41579, 2605, 2962, 16597, 42569, 9809, 45204, 27651, 26075, 28597, 18891, 6356, 48931, 12250, 49289, 9929, 8043, 13776, 48866, 47389, 27460, 37129, 34384, 12362, 12576, 28407, 87, 42256, 10990, 44882, 36027, 20174, 32919, 28232, 6081, 6053, 14090, 46866, 49187, 5524, 4107, 5512, 25437, 35945, 28493, 3099, 3385, 22680, 22761, 40528, 19948, 23294, 44440, 45136, 24418, 38383, 34192, 16925, 28139, 49121, 27823, 29258, 13547, 37897, 48542, 28821, 7627, 30873, 12014, 38910, 36141, 49645, 39419, 6032, 48360, 45990, 16343, 22679, 39346, 3547, 33610, 45764, 34325, 35489, 47064, 23947, 47075, 31424, 30413, 16860, 10560, 8041, 11394, 2239, 42023, 31375, 48572, 21747, 29722, 23030, 18447, 41648, 47266, 49334, 28604, 40968, 7217, 1491, 25099, 44401, 43702, 24848, 21880, 20045, 2736, 12659, 36459, 5355, 37101, 35736, 39413, 37212, 13076, 5579, 25109, 36881, 29453, 43635, 49251, 44467, 17343, 34766, 19614, 41275, 29161, 23465, 26202, 41622, 19163, 18103, 23150, 42444, 49185, 34771, 16562, 16652, 5353, 892, 41960, 9913, 43501, 24104, 47625, 29594, 6116, 47155, 18540, 26438, 48114, 24794, 21002, 10605, 19166, 23570, 37729, 24546, 27353, 21636, 32830, 45890, 42144, 41012, 24573, 4219, 12343, 18819, 33638, 29720, 17121, 49000, 2511, 46813, 22882, 6457, 41279, 8243, 48683, 33133, 10202, 18790, 15146, 21483, 39843, 19815, 40870, 29069, 12811, 13096, 19329, 14143, 17386, 41426, 36589, 34019, 30904, 18855, 44282, 48547, 26232, 46412, 24474, 21868, 23993, 1967, 19199, 32309, 33960, 34009, 19526, 30614, 20000, 23621, 14015, 31304, 30905, 15589, 32102, 38085, 3898, 14571, 29539, 16804, 45253, 30859, 2066, 28050, 25682, 48105, 10304, 33892, 9098, 14211, 46468, 15019, 35795, 13426, 24671, 36756, 16472, 35307, 7764, 14255, 41238, 22107, 5931, 20953, 8048, 8620, 7673, 5237, 33362, 22069, 43136, 12102, 7739, 25201, 30583, 49898, 43697, 34711, 13733, 42188, 41751, 5829, 47047, 15619, 21423, 27722, 3392, 24228, 46272, 40820, 15804, 6965, 10424, 24618, 13717, 38559, 30546, 25489, 16719, 12663, 6605, 1847, 26650, 15594, 33603, 11832, 29765, 28814, 39829, 38487, 16454, 44265, 40739, 39386, 20557, 44587, 26107, 49261, 21381, 22721, 33785, 5208, 7049, 25628, 21297, 860, 13687, 22322, 9454, 17871, 14870, 1944, 41651, 3992, 11285, 2787, 3021, 18954, 18422, 3818, 45891, 39181, 7982, 30251, 33188, 30292, 29407, 21940, 32626, 200, 44968, 17803, 21153, 44243, 5066, 37240, 13726, 43630, 25011, 47187, 21884, 43646, 5936, 23735, 47953, 30908, 17424, 33635, 28140, 46289, 42480, 7898, 33696, 8466, 1426, 44304, 23129, 1217, 8425, 46927, 9266, 20628, 36805, 5743, 33728, 43717, 19854, 28403, 5730, 7462, 16975, 13122, 23572, 47386, 44009, 3017, 47506, 6334, 44900, 34428, 31732, 4806, 48102, 1534, 37012, 36702, 7233, 18270, 32075, 25547, 22484, 20995, 24257, 14515, 29694, 6631, 36311, 13028, 34337, 39258, 34773, 35433, 4293, 14591, 33929, 11742, 28476, 6455, 40253, 27772, 19035, 30368, 44441, 37137, 40782, 25249, 35199, 30278, 42346, 3526, 12241, 13886, 1015, 22620, 40721, 42951, 8148, 46588, 41200, 17993, 15417, 14494, 41418, 22765, 24300, 49385, 98, 18830, 21143, 394, 5872, 25463, 42432, 26938, 30406, 23485, 37065, 39344, 6332, 6321, 23802, 24349, 191, 49153, 29209, 47245, 6036, 184, 13443, 42076, 508, 8323, 16961, 9432, 39019, 7590, 23207, 48523, 918, 9996, 40776, 32328, 28531, 31653, 13064, 27447, 18798, 25197, 20630, 10491, 41841, 23968, 6387, 28376, 28546, 2879, 25647, 45082, 46779, 39944, 31441, 34505, 34998, 23432, 6071, 36807, 15940, 49999, 42800, 12948, 9692, 38326, 13959, 14534, 22985, 12611, 36472, 9128, 13891, 1612, 28914, 25150, 35734, 33795, 5957, 24371, 25452, 7385, 4352, 201, 11323, 32968, 43890, 18584, 15687, 31642, 21937, 13718, 5415, 46214, 16419, 45523, 8786, 40414, 45751, 12177, 14700, 6358, 13448, 10470, 48345, 9011, 3901, 13349, 39104, 5306, 10440, 41989, 23796, 9646, 383, 4653, 6777, 38116, 38272, 25670, 39748, 1149, 11172, 19859, 48323, 39607, 28465, 17695, 30719, 49975, 49006, 35690, 33978, 26843, 14109, 665, 22646, 18301, 43388, 21818, 39317, 40048, 45556, 20834, 39704, 24837, 32837, 15874, 12846, 34046, 1679, 15196, 8292, 12715, 35724, 16493, 22707, 1925, 31431, 18362, 36559, 12129, 11210, 21377, 31866, 49399, 9843, 29181, 38832, 8372, 43205, 38628, 21802, 36973, 31240, 36021, 10248, 172, 49969, 30714, 2335, 28338, 17657, 37921, 3186, 38169, 38117, 14434, 4577, 41652, 21713, 37289, 111, 4698, 14420, 46544, 46970, 45934, 13503, 12278, 10451, 41290, 35649, 16632, 2929, 32762, 12581, 43045, 37488, 38935, 43659, 48364, 18845, 46079, 2406, 38320, 30751, 43025, 35302, 26447, 8511, 2697, 22795, 20001, 26986, 42924, 9193, 44122, 44846, 43893, 27006, 17985, 39033, 48586, 31380, 40758, 26531, 17602, 37204, 16687, 31631, 19693, 27861, 1672, 33347, 45356, 11127, 10217, 14773, 43112, 29217, 36936, 995, 37761, 23567, 13905, 916, 6698, 19684, 29472, 15117, 48459, 3751, 43330, 47740, 35099, 19936, 18927, 36938, 33820, 36430, 26563, 770, 23232, 11904, 9118, 43366, 26918, 30277, 17323, 25885, 7978, 5825, 37326, 32354, 32862, 20218, 23214, 7133, 30597, 10465, 44329, 805, 32036, 14895, 10355, 18314, 9833, 32079, 7455, 11977, 33949, 38898, 32604, 4498, 12884, 36869, 37304, 15953, 42140, 36749, 33157, 41146, 21680, 29048, 37338, 16818, 48183, 4811, 5252, 49811, 25556, 42468, 17819, 24475, 22977, 35006, 38842, 11571, 3775, 21158, 28723, 21285, 47044, 46365, 47314, 35101, 21390, 36357, 10387, 10194, 19980, 26800, 20746, 19254, 3275, 38763, 685, 19478, 26694, 19333, 9684, 22639, 46472, 7383, 4126, 49193, 37996, 28782, 6466, 8475, 35833, 43133, 41585, 17498, 39963, 18015, 35709, 10748, 42842, 10432, 6121, 14892, 3819, 41530, 22670, 37895, 7165, 44301, 29510, 29318, 7795, 16892, 49128, 39823, 37886, 14140, 10018, 11735, 31481, 29664, 2628, 199, 3628, 30173, 11143, 40266, 10888, 24528, 32283, 2005, 13946, 28296, 19961, 48013, 40632, 8934, 42356, 28234, 12497, 18904, 22241, 12844, 21746, 49181, 41166, 6521, 26511, 31437, 33593, 21550, 9148, 19632, 20302, 14220, 14071, 23762, 25108, 21927, 39547, 14662, 9243, 30453, 42430, 644, 27676, 34183, 8628, 6522, 18801, 47151, 47336, 20315, 34212, 24562, 42712, 9632, 38865, 15774, 6952, 41663, 11020, 14841, 16336, 9061, 45836, 6916, 39543, 48484, 28854, 49719, 33799, 30629, 38176, 25780, 37809, 30145, 46939, 26492, 27718, 43732, 40127, 41820, 16068, 787, 39993, 4430, 29286, 45033, 27001, 22627, 1410, 40468, 21522, 15498, 19293, 36165, 11777, 25519, 45501, 5190, 14724, 23461, 11376, 39945, 26825, 27876, 9333, 47423, 36669, 15100, 10850, 42506, 34018, 19886, 38073, 22276, 26677, 14215, 2255, 38465, 29454, 45966, 42851, 49557, 30561, 14906, 5233, 6429, 24197, 42907, 14825, 40994, 48698, 48466, 8063, 36137, 32111, 2001, 35021, 5953, 23417, 23257, 18511, 41973, 46542, 1286, 42186, 3088, 29033, 25424, 20798, 18719, 32040, 48903, 8348, 4616, 17604, 1516, 39802, 8860, 24583, 43982, 44517, 17568, 21367, 14570, 19415, 31189, 24797, 20481, 44072, 38947, 46612, 31371, 3388, 20312, 29790, 20032, 29304, 14970, 47139, 31165, 45351, 5075, 39836, 25237, 1919, 110, 25571, 45560, 7379, 45662, 15556, 21124, 20440, 1643, 2181, 3674, 42446, 37285, 46557, 4270, 33245, 14068, 6772, 7227, 25545, 49215, 43918, 31886, 27205, 41753, 23440, 42079, 10766, 5715, 44513, 27282, 25469, 32095, 29267, 8520, 755, 42382, 15681, 12740, 4475, 4488, 43050, 37243, 8428, 20752, 35448, 39339, 359, 5062, 8723, 21800, 38714, 47869, 44499, 5427, 5273, 17645, 26663, 36560, 29132, 37041, 35578, 26295, 28969, 33344, 28169, 21314, 38816, 47449, 9030, 11403, 10531, 27174, 9347, 35628, 21464, 30842, 25987, 44438, 4975, 25271, 33026, 7521, 43955, 13154, 34965, 41928, 4471, 13404, 21731, 8022, 34423, 16677, 10969, 1877, 42388, 48972, 26844, 22905, 17921, 20256, 28645, 30456, 46591, 37210, 44639, 21198, 27064, 34779, 21535, 46517, 8137, 46100, 36010, 21516, 24756, 1245, 12777, 9723, 25421, 36824, 6408, 15864, 3845, 18956, 49810, 20862, 34589, 35842, 9294, 27545, 24447, 19709, 33990, 19950, 32609, 1728, 4172, 39710, 46427, 49343, 1139, 17794, 18711, 31294, 47206, 46610, 16168, 1855, 24285, 7950, 19905, 7778, 7836, 4138, 45769, 43463, 47696, 23007, 47070, 4928, 43825, 25677, 43424, 35486, 25743, 20518, 30233, 46305, 14817, 29331, 15772, 30316, 35058, 8710, 43445, 13880, 49013, 28877, 27234, 37234, 2740, 18331, 23689, 37981, 36809, 37107, 35295, 44876, 9578, 35105, 8971, 38857, 33454, 18690, 22401, 25904, 27597, 41662, 42007, 3170, 47710, 2330, 9017, 6835, 20473, 17753, 48550, 7153, 46686, 9441, 19892, 17118, 14094, 16932, 4984, 38975, 43200, 26676, 46227, 32798, 15919, 48246, 45909, 31140, 16400, 26588, 38978, 37752, 40054, 26508, 4640, 12574, 31821, 33337, 19453, 36681, 22569, 25638, 28220, 4829, 29090, 34196, 1998, 23614, 13048, 29220, 28770, 18482, 5360, 37451, 18188, 34134, 3554, 44601, 31618, 39807, 43376, 14910, 22548, 33035, 45829, 127, 39667, 24674, 29200, 6112, 2802, 20348, 39596, 14726, 13293, 32014, 23783, 9058, 12081, 4369, 8888, 29735, 19785, 9952, 956, 25000, 13146, 4696, 1951, 30572, 7759, 28939, 31980, 42093, 24571, 1125, 22745, 11510, 34214, 264, 12267, 28339, 28262, 22337, 42463, 49927, 3809, 10175, 2177, 36548, 35325, 35406, 16745, 15012, 40004, 31510, 3874, 1550, 483, 40064, 15972, 8524, 32269, 40428, 5949, 470, 10511, 10121, 39101, 34827, 37532, 40019, 16404, 36393, 42036, 49724, 24126, 4901, 18745, 35104, 33411, 47241, 39733, 6095, 36412, 46954, 439, 28862, 327, 44537, 16702, 22285, 18073, 32630, 17581, 30894, 10981, 12490, 2139, 19920, 5835, 9308, 326, 6560, 17839, 334, 2567, 38168, 40779, 4056, 45535, 10016, 17632, 49350, 41684, 20907, 8555, 46306, 36195, 41083, 45766, 20266, 38211, 10643, 39626, 14433, 7515, 45900, 1447, 35836, 31323, 45515, 4681, 31922, 31646, 10940, 30110, 8870, 7647, 28159, 42020, 38658, 20583, 30579, 28321, 17907, 7486, 17454, 37162, 32567, 44733, 41729, 35191, 34421, 8062, 28690, 8835, 15376, 20743, 32154, 43989, 32176, 17463, 15270, 37491, 35082, 49255, 48480, 5086, 41510, 49406, 19783, 19001, 7827, 7343, 2798, 16671, 36337, 29844, 10974, 35707, 36231, 17070, 27574, 45503, 29513, 18843, 3038, 17098, 42629, 15700, 22624, 24319, 40754, 36364, 613, 21589, 16413, 47996, 26454, 1725, 20519, 33509, 12385, 6799, 47484, 21933, 34534, 7556, 12410, 3202, 30924, 21757, 42677, 49270, 5253, 29266, 34194, 39334, 12842, 33178, 43488, 15363, 38490, 44311, 12262, 3338, 44775, 13569, 8489, 40934, 30634, 34689, 26537, 43006, 43460, 18438, 20154, 40142, 4518, 10117, 20086, 31414, 18495, 23534, 30349, 14888, 48299, 25429, 35410, 21441, 11111, 15365, 23082, 17025, 43707, 24845, 15147, 20026, 42194, 16557, 26481, 29868, 3378, 17734, 23244, 21806, 8130, 24614, 41810, 2087, 31005, 17994, 19822, 15240, 17260, 37202, 1501, 2230, 26565, 20160, 20233, 46196, 20748, 36464, 9886, 31591, 33356, 270, 590, 36478, 14491, 17727, 8401, 12211, 22472, 25710, 14384, 21941, 28228, 21081, 13139, 4573, 44151, 26024, 3403, 15541, 44586, 49034, 12691, 5018, 1273, 12361, 30187, 49219, 37826, 38939, 5941, 47910, 1732, 32676, 2665, 36228, 45831, 18595, 12021, 17529, 48172, 41691, 22770, 36234, 31007, 13937, 27108, 37726, 13112, 27894, 40355, 38412, 42820, 24711, 29326, 6191, 4392, 5595, 1809, 34055, 34153, 1485, 33205, 12592, 23600, 144, 47335, 341, 26867, 36656, 405, 8802, 40802, 36078, 29142, 26017, 14938, 46169, 24875, 11369, 9982, 48810, 45137, 18621, 21598, 15548, 41756, 1083, 5767, 46275, 40886, 11892, 13990, 20918, 44760, 46357, 38753, 12774, 28497, 10218, 953, 34458, 139, 20636, 13053, 4246, 39123, 17533, 24425, 24831, 13493, 22566, 6078, 46559, 5119, 37774, 38089, 47883, 41993, 26719, 11747, 34591, 25693, 29985, 25994, 34863, 25960, 2401, 38734, 15866, 49887, 32403, 27412, 22252, 32576, 668, 5938, 10401, 41852, 35748, 28787, 45298, 48671, 36135, 33101, 24352, 6649, 12375, 1137, 42666, 19138, 22014, 4831, 43074, 23496, 2334, 40526, 8303, 14170, 12635, 33446, 31997, 39861, 14270, 34942, 2321, 15751, 49702, 32471, 47895, 18262, 43026, 39784, 18219, 49499, 25291, 16290, 26403, 26041, 27532, 32149, 14276, 8910, 17982, 16725, 16840, 6865, 49577, 2216, 21547, 16907, 49647, 45366, 6830, 16049, 7086, 42711, 42443, 42147, 38375, 17784, 27549, 36659, 36317, 14131, 34449, 7935, 10994, 47478, 26057, 38922, 24269, 42541, 10441, 26255, 15468, 23085, 38637, 13251, 2101, 11363, 25212, 39305, 34511, 48590, 30656, 5094, 8298, 31454, 43828, 15676, 44589, 19187, 13035, 10901, 8075, 24342, 11239, 6339, 41265, 36620, 18514, 13545, 10342, 25482, 29795, 897, 47702, 48801, 35292, 37696, 2422, 4241, 35774, 3854, 14445, 28965, 34750, 36262, 9341, 37275, 35860, 30108, 40692, 16436, 46651, 41739, 42682, 6154, 32016, 21004, 26936, 21456, 19875, 29085, 10505, 27866, 46860, 22390, 28435, 43620, 27878, 38535, 25172, 24108, 14934, 45221, 1667, 29229, 41886, 32281, 28061, 10271, 46374, 29585, 43154, 36541, 42831, 11197, 43156, 5955, 10233, 1524, 41078, 24085, 2261, 12336, 34682, 46616, 16601, 18955, 19195, 36876, 48297, 11260, 13875, 19504, 28578, 17831, 2819, 6731, 25425, 12174, 17637, 45578, 39774, 34876, 16194, 13752, 9735, 25718, 20720, 41221, 12510, 18766, 4895, 23001, 43643, 24288, 22772, 23757, 41497, 13922, 10334, 6513, 38745, 19085, 31030, 49282, 32653, 21415, 49856, 37130, 25681, 45376, 11128, 6303, 23958, 33505, 27639, 15485, 36130, 40665, 42605, 17770, 40275, 4269, 34509, 14774, 44426, 32248, 46745, 22733, 38707, 19921, 15042, 34274, 15815, 26733, 44904, 28157, 38479, 17345, 37370, 37679, 23470, 21531, 49648, 49471, 1496, 5279, 42215, 34453, 8223, 37855, 2853, 48803, 28243, 29381, 28857, 17584, 22032, 19897, 1599, 29768, 26446, 11310, 12330, 38926, 21411, 44860, 5349, 9229, 24107, 41415, 14978, 44373, 38498, 21032, 5507, 34001, 12411, 14104, 38627, 20434, 38218, 33195, 42475, 21209, 48807, 37842, 28063, 37810, 24877, 40366, 11875, 24271, 36222, 39901, 49592, 46635, 17595, 32408, 48389, 48253, 28460, 23390, 41881, 26923, 1799, 21207, 45353, 17166, 45422, 46403, 34960, 5467, 14391, 8144, 27266, 12153, 45435, 33626, 32612, 14842, 15286, 9461, 14474, 39503, 10753, 45639, 2893, 21493, 26201, 31548, 18095, 8235, 41451, 35698, 24876, 15351, 23498, 44221, 3561, 32658, 18930, 21229, 16267, 24434, 9477, 5607, 2301, 4659, 29045, 40585, 43776, 40660, 9158, 3700, 26913, 27090, 26143, 28380, 11858, 5472, 21180, 28593, 42041, 25281, 6896, 34490, 29560, 43731, 39397, 45617, 24676, 16373, 23890, 49960, 46738, 985, 21808, 23434, 13516, 31645, 25446, 35214, 40076, 29823, 31236, 14664, 42142, 28056, 17758, 38388, 44293, 36144, 4913, 49573, 45511, 39970, 28382, 8101, 14401, 45450, 38027, 37349, 6469, 16434, 16247, 49456, 28272, 1515, 11337, 26601, 28144, 35958, 9875, 27541, 26463, 41710, 42613, 8793, 49744, 18558, 1034, 5042, 4666, 16425, 31219, 10772, 7262, 37061, 38121, 20641, 8966, 46209, 48706, 38280, 5053, 1074, 3485, 1372, 17659, 20390, 31847, 3391, 43440, 46181, 5056, 14097, 21839, 23855, 41924, 39372, 32153, 34443, 33197, 21698, 29294, 31947, 17308, 49915, 584, 28409, 17830, 29321, 9113, 33636, 42639, 42150, 13853, 31563, 18448, 1663, 39642, 28440, 21497, 18384, 45344, 19522, 45111, 16377, 5089, 1326, 1957, 39891, 6492, 7115, 9514, 7202, 22541, 44938, 30228, 26953, 14354, 39226, 25040, 40096, 25444, 46040, 9513, 26353, 1707, 39950, 30309, 18093, 35728, 914, 29002, 49663, 5011, 2526, 6741, 24791, 8834, 9756, 1603, 38267, 13931, 4782, 8897, 9910, 15193, 15335, 1644, 48855, 16497, 16701, 7719, 5906, 27788, 24505, 48887, 31706, 25346, 14715, 46022, 12633, 2499, 49985, 36650, 7650, 6123, 34150, 27154, 39131, 24246, 22581, 47180, 32868, 44506, 370, 45950, 6333, 31954, 14504, 46480, 408, 6710, 1965, 41180, 40050, 251, 48044, 12265, 41848, 43338, 20806, 5403, 15083, 18787, 48958, 25734, 4654, 42732, 21067, 28424, 43981, 8533, 38382, 10050, 12845, 6718, 45763, 43481, 5882, 4509, 44351, 28879, 13009, 9601, 47772, 31378, 37180, 5487, 22417, 18026, 44359, 37926, 42490, 36325, 48188, 33503, 1895, 18762, 18725, 22125, 39974, 14946, 49012, 2419, 37878, 20511, 43804, 18829, 13356, 28950, 44152, 19819, 46314, 13524, 33304, 26571, 26215, 32496, 27661, 6913, 46974, 31691, 30359, 7465, 1804, 22841, 24803, 3613, 10971, 4178, 30919, 27595, 44202, 563, 11384, 33951, 31873, 24733, 27394, 38437, 15670, 41335, 44726, 26960, 6949, 37487, 45363, 37058, 37214, 3433, 22328, 45702, 12617, 31575, 40511, 29716, 10320, 21056, 46946, 11833, 13634, 18527, 19072, 37913, 49803, 15916, 31542, 36849, 29629, 35326, 12114, 2077, 29419, 24705, 23123, 10954, 20260, 25575, 24542, 47246, 2287, 44019, 22353, 46912, 36042, 6391, 40865, 11910, 37358, 2704, 3814, 32502, 47255, 5458, 29910, 10289, 38616, 9357, 27212, 5330, 9995, 33130, 32800, 13018, 2234, 39705, 39862, 9279, 22723, 9450, 5952, 26645, 8513, 28156, 21518, 23168, 10253, 38314, 20599, 27177, 10147, 15982, 28064, 45408, 39389, 23425, 35538, 40197, 24219, 16833, 16461, 39249, 9345, 7742, 44466, 14158, 4385, 38424, 49688, 22884, 35403, 38141, 32521, 13788, 13806, 28875, 7820, 33033, 32888, 35619, 2477, 15256, 30840, 42210, 21995, 4455, 42126, 11949, 38040, 32158, 2721, 17787, 35447, 12784, 49010, 43024, 22629, 6375, 11319, 4610, 48997, 37378, 48293, 13444, 35176, 10546, 45390, 22872, 48668, 5381, 40850, 8784, 42042, 37144, 20006, 37128, 46772, 38715, 41690, 46014, 23174, 12272, 13092, 44233, 2193, 11529, 32344, 26790, 43302, 26773, 1333, 18326, 24826, 43491, 42236, 9955, 49739, 19041, 44754, 28608, 39625, 3737, 37079, 13041, 14581, 39270, 48854, 14101, 18162, 48357, 26707, 9531, 49780, 9016, 21040, 38269, 47217, 41232, 573, 35743, 35229, 21609, 26747, 6962, 22072, 15979, 20744, 9397, 15658, 34904, 29344, 437, 18045, 22464, 36678, 39886, 33547, 25146, 45242, 33879, 30367, 16590, 8111, 4231, 15993, 24504, 44307, 33710, 26302, 7100, 40610, 28874, 3132, 12405, 29601, 32581, 22012, 39917, 46460, 37833, 29557, 398, 15199, 16470, 34059, 1792, 30139, 2178, 31573, 25570, 4355, 10212, 31242, 30215, 9131, 17203, 30423, 6625, 14546, 15112, 20717, 11705, 37612, 32561, 17970, 25340, 8921, 9125, 24290, 41668, 12031, 21325, 30001, 29747, 41948, 42203, 46742, 13400, 24464, 18408, 23279, 21900, 21051, 35604, 22513, 34038, 31777, 36748, 40586, 1039, 34239, 19603, 45378, 47729, 27333, 48985, 3371, 24419, 10226, 16369, 18465, 33966, 25288, 21145, 44832, 18738, 35684, 34466, 16630, 47223, 41065, 11686, 12859, 25471, 44810, 42590, 18184, 41271, 9097, 15110, 12874, 7475, 9708, 48663, 39922, 48399, 3705, 30533, 19994, 3238, 17202, 22351, 23887, 30790, 8537, 2498, 18925, 9522, 6298, 23410, 48290, 19746, 2465, 22867, 39227, 25036, 9036, 35674, 21091, 32441, 37967, 26879, 31737, 26795, 33885, 31709, 25438, 23372, 11156, 44753, 22959, 8147, 14893, 46477, 4584, 6564, 16977, 22508, 26417, 12220, 31587, 44471, 2876, 1990, 10106, 46494, 7040, 38567, 36941, 945, 24042, 36489, 11666, 36981, 10240, 2251, 8016, 40909, 16120, 28616, 26982, 33416, 9322, 20024, 747, 36979, 40972, 48818, 48379, 32725, 34154, 18174, 45264, 42427, 49180, 44472, 12872, 17623, 6376, 42668, 47785, 42619, 21772, 12627, 670, 34197, 30342, 12648, 49533, 13573, 48512, 12675, 49944, 49988, 15680, 3447, 33877, 49821, 36397, 11946, 8389, 7678, 32299, 7550, 18894, 44520, 10623, 39395, 23664, 19462, 47673, 23776, 19020, 30346, 24165, 23275, 9132, 31857, 35926, 34873, 37478, 12700, 28665, 44433, 49388, 8250, 14507, 24970, 5725, 11850, 9204, 1578, 15223, 27717, 29969, 4807, 18366, 20322, 7531, 24201, 35824, 47193, 21712, 46817, 10251, 27414, 8402, 41765, 10291, 4638, 35732, 49084, 44721, 43564, 49142, 13460, 26464, 33094, 15168, 2273, 33384, 9355, 31903, 31884, 253, 21189, 30364, 46725, 22058, 38806, 2442, 12301, 4778, 17349, 47168, 44270, 43002, 16025, 49918, 3195, 32786, 25856, 44827, 31820, 48312, 4191, 25067, 22128, 4325, 33557, 48257, 38210, 47176, 45471, 13664, 49363, 42640, 33943, 45405, 1958, 2820, 23276, 2926, 25577, 18016, 24030, 20887, 11377, 7410, 15091, 11279, 16859, 45342, 38068, 3313, 9267, 2645, 2968, 40214, 17815, 5827, 13172, 18932, 1859, 34348, 49409, 34881, 29890, 30711, 42009, 2433, 12730, 25806, 29439, 18546, 31991, 45995, 11320, 15324, 17182, 41560, 27839, 18452, 48632, 32300, 40817, 39952, 13360, 21821, 30675, 46757, 40065, 39134, 7994, 32905, 47901, 7908, 30063, 48611, 19554, 39132, 17833, 46048, 34887, 27377, 36157, 29643, 16005, 24914, 49673, 12051, 33131, 12349, 37663, 45649, 15814, 39668, 38496, 8319, 14843, 7096, 8089, 40207, 19220, 42718, 33974, 40258, 45252, 38006, 272, 9264, 36259, 18269, 18336, 15591, 29796, 11423, 38585, 25235, 684, 48226, 42075, 35370, 11524, 7547, 18441, 24098, 22677, 3979, 4790, 42893, 31959, 12614, 30137, 31342, 22958, 36963, 40117, 40005, 48747, 10162, 45439, 31962, 22366, 12193, 26792, 41674, 44683, 17279, 17925, 48880, 23549, 41024, 14330, 21370, 14957, 2896, 14647, 5203, 37765, 20569, 28959, 22901, 20514, 7970, 13421, 41505, 48184, 19642, 8139, 41975, 28945, 29834, 28269, 2485, 16138, 3796, 24745, 12906, 33036, 47094, 6219, 33587, 27296, 13877, 45068, 35152, 30121, 14323, 9382, 10417, 37219, 40712, 26630, 19501, 44415, 18553, 967, 30290, 35220, 46787, 22563, 25895, 25267, 11689, 44905, 10191, 1411, 32913, 6785, 38966, 42306, 8618, 10257, 49584, 41562, 40507, 46989, 16967, 710, 19751, 37325, 17429, 4039, 38986, 35306, 3160, 23944, 41077, 1190, 15242, 46239, 17502, 25020, 43097, 39865, 10145, 34382, 46690, 29337, 1805, 18965, 35089, 23444, 33816, 30424, 4133, 15737, 3381, 49188, 24355, 7601, 1650, 27633, 39155, 8554, 16829, 43848, 12115, 29982, 38979, 13517, 41980, 19093, 46151, 48740, 48423, 10998, 35168, 18688, 15661, 44851, 36299, 31572, 21658, 18113, 20605, 27596, 14134, 45609, 41716, 32783, 28998, 42462, 36175, 11957, 5834, 25527, 26536, 13033, 32406, 49799, 21669, 42152, 24781, 18638, 45883, 25204, 13408, 31104, 3605, 10279, 36392, 5120, 14657, 46709, 39934, 2513, 38196, 7006, 46809, 32226, 14646, 36862, 37570, 36227, 1566, 24789, 40559, 21225, 4816, 34818, 33236, 3462, 36990, 24139, 635, 11216, 6716, 24977, 2130, 30414, 20306, 47728, 3078, 27870, 31525, 32245, 37984, 46685, 34452, 47524, 9841, 8980, 35669, 45403, 21346, 32751, 16466, 3500, 1949, 39481, 44095, 6257, 23289, 7042, 20677, 12789, 30076, 19398, 27904, 40396, 9291, 36731, 48522, 47805, 29320, 39335, 45106, 32420, 39641, 2918, 45190, 4708, 48019, 15849, 13178, 24629, 12113, 43381, 1703, 41757, 42192, 11263, 15123, 18938, 30615, 982, 1670, 37258, 18290, 8635, 20650, 25074, 34252, 48319, 43496, 5771, 37320, 16618, 32746, 24739, 8932, 16941, 11029, 24508, 10685, 30190, 11248, 45687, 34972, 4060, 45869, 5123, 451, 27010, 47819, 44175, 40233, 7012, 32717, 39888, 30699, 4675, 34107, 43421, 41923, 6476, 41401, 465, 14768, 26233, 28910, 35858, 15640, 27685, 31988, 46607, 23265, 11821, 14623, 15236, 49359, 30320, 12219, 37595, 23501, 3916, 14791, 24089, 963, 8420, 41048, 26743, 46129, 44710, 11298, 13800, 23318, 9540, 37677, 2788, 4025, 6717, 427, 43038, 35047, 24412, 49829, 40991, 38703, 35979, 34278, 17651, 40170, 45965, 32649, 37569, 44223, 798, 21351, 25751, 9149, 786, 16529, 29237, 2030, 43110, 43373, 6423, 20030, 21944, 33934, 44296, 7408, 7539, 49027, 40332, 43567, 31122, 37824, 2875, 35365, 1306, 27556, 33455, 31436, 46301, 33284, 31430, 48714, 38523, 48214, 47046, 49680, 41358, 30480, 17662, 49947, 15492, 37720, 47160, 15237, 48028, 49548, 46960, 9631, 27155, 34808, 3652, 41744, 3051, 26996, 38641, 1353, 31186, 38796, 9304, 42709, 41485, 13284, 44101, 34822, 5254, 29876, 38875, 34541, 19052, 18409, 31011, 49818, 38730, 7641, 12125, 16909, 9640, 32710, 39492, 18914, 14880, 1189, 39005, 30636, 29268, 5149, 22158, 10644, 17410, 2589, 9471, 11093, 626, 43577, 25887, 49277, 10542, 36132, 44992, 14689, 48746, 42625, 23203, 48158, 13563, 36766, 15348, 37152, 45615, 2494, 17020, 9939, 26306, 18076, 6407, 24276, 39985, 46750, 45593, 1387, 3315, 1876, 15858, 43084, 25273, 14060, 12137, 14944, 9870, 11670, 40280, 8001, 7434, 41447, 47197, 15797, 49785, 29467, 3005, 15688, 17276, 11579, 26130, 18935, 21789, 14383, 34467, 48723, 3971, 12179, 13630, 17891, 43948, 2133, 18225, 25810, 43586, 13785, 13913, 24328, 14425, 37373, 19489, 4786, 19551, 433, 30809, 40946, 27343, 2435, 39756, 43276, 29811, 19197, 14317, 17789, 22973, 12071, 11419, 49488, 34575, 39724, 35034, 1408, 14812, 6736, 14111, 23116, 48108, 33570, 45504, 37606, 48104, 20661, 1307, 24133, 2055, 21141, 7791, 22575, 37157, 15825, 48498, 25371, 25203, 33319, 19366, 41898, 44508, 18519, 13075, 32365, 27844, 11774, 9225, 19364, 35575, 25912, 35951, 36611, 19802, 45459, 3795, 42136, 34292, 18466, 1769, 839, 14932, 1060, 32669, 23039, 48130, 47909, 4006, 18604, 38466, 32971, 47480, 3421, 11605, 37850, 31851, 20836, 36446, 17585, 25807, 34016, 12609, 11069, 29276, 24787, 4801, 9847, 40169, 49701, 26655, 17045, 14357, 34535, 34175, 14926, 17492, 34104, 1935, 4333, 40948, 38379, 21769, 29436, 13417, 34820, 30886, 30154, 23066, 21196, 2678, 33757, 28167, 22511, 9821, 16097, 25644, 23882, 38369, 43142, 44858, 9718, 39580, 45880, 659, 8450, 47816, 40145, 9028, 37220, 23081, 32101, 35098, 16543, 43690, 12615, 14184, 14216, 39636, 1077, 4384, 7016, 25046, 16405, 9705, 2863, 42972, 44242, 45897, 26433, 14392, 40160, 10956, 37049, 9519, 31635, 21023, 17296, 46836, 22912, 24441, 44020, 30165, 17850, 8986, 37786, 838, 5315, 8237, 33645, 3507, 9639, 6420, 32500, 20573, 9288, 1930, 36486, 25901, 23254, 45345, 14580, 14730, 47407, 25625, 24468, 7167, 26799, 42227, 43810, 40654, 21069, 32994, 6709, 33548, 34368, 20310, 11804, 20430, 19524, 1509, 28153, 27688, 37356, 4413, 31571, 32089, 10122, 42930, 29537, 6987, 34201, 13051, 24931, 16243, 2915, 46448, 32084, 7965, 5692, 7387, 38474, 6477, 36368, 26966, 15028, 8356, 18044, 6950, 43071, 38008, 27121, 25315, 24307, 12916, 22124, 26212, 43950, 35025, 34911, 7467, 31043, 7918, 2582, 36054, 48325, 33069, 38400, 49822, 10130, 13171, 3798, 42532, 10325]\n"
     ]
    }
   ],
   "source": [
    "print(subset_dataset_sampled_new.subset_indices)"
   ]
  },
  {
   "cell_type": "markdown",
   "id": "3280e627",
   "metadata": {},
   "source": [
    "## Solution2: MDA\n",
    "Data Augumentation"
   ]
  },
  {
   "cell_type": "code",
   "execution_count": 8,
   "id": "3b742e0c",
   "metadata": {
    "collapsed": true
   },
   "outputs": [
    {
     "name": "stdout",
     "output_type": "stream",
     "text": [
      "Requirement already satisfied: Augmentor in /opt/anaconda3/lib/python3.9/site-packages (0.2.12)\n",
      "Requirement already satisfied: Pillow>=5.2.0 in /opt/anaconda3/lib/python3.9/site-packages (from Augmentor) (5.4.1)\n",
      "Requirement already satisfied: numpy>=1.11.0 in /opt/anaconda3/lib/python3.9/site-packages (from Augmentor) (1.23.5)\n",
      "Requirement already satisfied: tqdm>=4.9.0 in /opt/anaconda3/lib/python3.9/site-packages (from Augmentor) (4.64.1)\n",
      "Note: you may need to restart the kernel to use updated packages.\n"
     ]
    }
   ],
   "source": [
    "%pip install Augmentor"
   ]
  },
  {
   "cell_type": "code",
   "execution_count": 8,
   "id": "ac59710a",
   "metadata": {},
   "outputs": [],
   "source": [
    "labels = [cifar100[i][1] for i in range(len(cifar100))]\n",
    "indices = range(len(cifar100))\n",
    "\n",
    "dic = defaultdict(list)\n",
    "cifar_balanced = []\n",
    "\n",
    "for i in range(len(cifar100)):\n",
    "    label = cifar100[i][1]\n",
    "    dic[label].append(i)"
   ]
  },
  {
   "cell_type": "code",
   "execution_count": 9,
   "id": "15c4ddf6",
   "metadata": {},
   "outputs": [],
   "source": [
    "samples = [[] for _ in range(100)]\n",
    "\n",
    "for i, (x,y) in enumerate(cifar_im):\n",
    "    samples[y].append(x)\n",
    "\n",
    "# 新加的\n",
    "for label in dic.keys():\n",
    "    if label >= 50:\n",
    "        selected_indices = dic[label]\n",
    "        sample = []\n",
    "        for i in selected_indices:\n",
    "            sample.append(cifar100[i][0])\n",
    "        samples[label] = sample\n",
    "    \n",
    "length = []\n",
    "for sample in samples:\n",
    "    length.append(len(sample))"
   ]
  },
  {
   "cell_type": "code",
   "execution_count": 10,
   "id": "66cacdea",
   "metadata": {},
   "outputs": [
    {
     "name": "stdout",
     "output_type": "stream",
     "text": [
      "[100, 100, 100, 100, 100, 100, 100, 100, 100, 100, 100, 100, 100, 100, 100, 100, 100, 100, 100, 100, 100, 100, 100, 100, 100, 100, 100, 100, 100, 100, 100, 100, 100, 100, 100, 100, 100, 100, 100, 100, 100, 100, 100, 100, 100, 100, 100, 100, 100, 100, 500, 500, 500, 500, 500, 500, 500, 500, 500, 500, 500, 500, 500, 500, 500, 500, 500, 500, 500, 500, 500, 500, 500, 500, 500, 500, 500, 500, 500, 500, 500, 500, 500, 500, 500, 500, 500, 500, 500, 500, 500, 500, 500, 500, 500, 500, 500, 500, 500, 500]\n"
     ]
    }
   ],
   "source": [
    "print(length)"
   ]
  },
  {
   "cell_type": "code",
   "execution_count": 11,
   "id": "9005f9a2",
   "metadata": {},
   "outputs": [],
   "source": [
    "from torchvision.utils import save_image\n",
    "import os\n",
    "\n",
    "for i in range(100):\n",
    "    if not os.path.exists('./images/class{}/'.format(i)):\n",
    "        os.makedirs('./images/class{}/'.format(i))\n",
    "\n",
    "for i in range(len(samples)):\n",
    "    for j in range(len(samples[i])):\n",
    "        save_image(samples[i][j], './images/class{}/img{}.png'.format(i,j))"
   ]
  },
  {
   "cell_type": "code",
   "execution_count": 12,
   "id": "bdb46a5a",
   "metadata": {
    "collapsed": true
   },
   "outputs": [
    {
     "name": "stdout",
     "output_type": "stream",
     "text": [
      "Initialised with 100 image(s) found.\n",
      "Output directory set to ./images/class0\\output."
     ]
    },
    {
     "name": "stderr",
     "output_type": "stream",
     "text": [
      "Executing Pipeline:   0%|          | 0/400 [00:00<?, ? Samples/s]"
     ]
    },
    {
     "name": "stderr",
     "output_type": "stream",
     "text": [
      "Processing <PIL.Image.Image image mode=RGB size=32x32 at 0x2303D38B760>: 100%|██████████| 400/400 [00:00<00:00, 865.61 Samples/s]                \n"
     ]
    },
    {
     "name": "stdout",
     "output_type": "stream",
     "text": [
      "Initialised with 100 image(s) found.\n",
      "Output directory set to ./images/class1\\output."
     ]
    },
    {
     "name": "stderr",
     "output_type": "stream",
     "text": [
      "Processing <PIL.Image.Image image mode=RGB size=32x32 at 0x2303D3FA620>: 100%|██████████| 400/400 [00:00<00:00, 940.97 Samples/s]                 \n"
     ]
    },
    {
     "name": "stdout",
     "output_type": "stream",
     "text": [
      "Initialised with 100 image(s) found.\n",
      "Output directory set to ./images/class2\\output."
     ]
    },
    {
     "name": "stderr",
     "output_type": "stream",
     "text": [
      "Processing <PIL.Image.Image image mode=RGB size=32x32 at 0x2303D38B3A0>: 100%|██████████| 400/400 [00:00<00:00, 921.45 Samples/s]                 \n"
     ]
    },
    {
     "name": "stdout",
     "output_type": "stream",
     "text": [
      "Initialised with 100 image(s) found.\n",
      "Output directory set to ./images/class3\\output."
     ]
    },
    {
     "name": "stderr",
     "output_type": "stream",
     "text": [
      "Processing <PIL.Image.Image image mode=RGB size=32x32 at 0x2303D3F8220>: 100%|██████████| 400/400 [00:00<00:00, 878.75 Samples/s]                 \n"
     ]
    },
    {
     "name": "stdout",
     "output_type": "stream",
     "text": [
      "Initialised with 100 image(s) found.\n",
      "Output directory set to ./images/class4\\output."
     ]
    },
    {
     "name": "stderr",
     "output_type": "stream",
     "text": [
      "Processing <PIL.Image.Image image mode=RGB size=32x32 at 0x2303D446980>: 100%|██████████| 400/400 [00:00<00:00, 904.77 Samples/s]                 \n"
     ]
    },
    {
     "name": "stdout",
     "output_type": "stream",
     "text": [
      "Initialised with 100 image(s) found.\n",
      "Output directory set to ./images/class5\\output."
     ]
    },
    {
     "name": "stderr",
     "output_type": "stream",
     "text": [
      "Processing <PIL.Image.Image image mode=RGB size=32x32 at 0x2303D47D570>: 100%|██████████| 400/400 [00:00<00:00, 949.90 Samples/s]                 \n"
     ]
    },
    {
     "name": "stdout",
     "output_type": "stream",
     "text": [
      "Initialised with 100 image(s) found.\n",
      "Output directory set to ./images/class6\\output."
     ]
    },
    {
     "name": "stderr",
     "output_type": "stream",
     "text": [
      "Processing <PIL.Image.Image image mode=RGB size=32x32 at 0x2303D38B6D0>: 100%|██████████| 400/400 [00:00<00:00, 921.45 Samples/s]                \n"
     ]
    },
    {
     "name": "stdout",
     "output_type": "stream",
     "text": [
      "Initialised with 100 image(s) found.\n",
      "Output directory set to ./images/class7\\output."
     ]
    },
    {
     "name": "stderr",
     "output_type": "stream",
     "text": [
      "Processing <PIL.Image.Image image mode=RGB size=32x32 at 0x2303D3FA1D0>: 100%|██████████| 400/400 [00:00<00:00, 905.61 Samples/s]                \n"
     ]
    },
    {
     "name": "stdout",
     "output_type": "stream",
     "text": [
      "Initialised with 100 image(s) found.\n",
      "Output directory set to ./images/class8\\output."
     ]
    },
    {
     "name": "stderr",
     "output_type": "stream",
     "text": [
      "Processing <PIL.Image.Image image mode=RGB size=32x32 at 0x2303D3FB4F0>: 100%|██████████| 400/400 [00:00<00:00, 867.49 Samples/s]                \n"
     ]
    },
    {
     "name": "stdout",
     "output_type": "stream",
     "text": [
      "Initialised with 100 image(s) found.\n",
      "Output directory set to ./images/class9\\output."
     ]
    },
    {
     "name": "stderr",
     "output_type": "stream",
     "text": [
      "Processing <PIL.Image.Image image mode=RGB size=32x32 at 0x2303D429B40>: 100%|██████████| 400/400 [00:00<00:00, 943.17 Samples/s]                 \n"
     ]
    },
    {
     "name": "stdout",
     "output_type": "stream",
     "text": [
      "Initialised with 100 image(s) found.\n",
      "Output directory set to ./images/class10\\output."
     ]
    },
    {
     "name": "stderr",
     "output_type": "stream",
     "text": [
      "Processing <PIL.Image.Image image mode=RGB size=32x32 at 0x2303D40DB40>: 100%|██████████| 400/400 [00:00<00:00, 875.52 Samples/s]                 \n"
     ]
    },
    {
     "name": "stdout",
     "output_type": "stream",
     "text": [
      "Initialised with 100 image(s) found.\n",
      "Output directory set to ./images/class11\\output."
     ]
    },
    {
     "name": "stderr",
     "output_type": "stream",
     "text": [
      "Processing <PIL.Image.Image image mode=RGB size=32x32 at 0x2303D429B40>: 100%|██████████| 400/400 [00:00<00:00, 878.90 Samples/s]                 \n"
     ]
    },
    {
     "name": "stdout",
     "output_type": "stream",
     "text": [
      "Initialised with 100 image(s) found.\n",
      "Output directory set to ./images/class12\\output."
     ]
    },
    {
     "name": "stderr",
     "output_type": "stream",
     "text": [
      "Processing <PIL.Image.Image image mode=RGB size=32x32 at 0x2303D3F8100>: 100%|██████████| 400/400 [00:00<00:00, 740.57 Samples/s]                \n"
     ]
    },
    {
     "name": "stdout",
     "output_type": "stream",
     "text": [
      "Initialised with 100 image(s) found.\n",
      "Output directory set to ./images/class13\\output."
     ]
    },
    {
     "name": "stderr",
     "output_type": "stream",
     "text": [
      "Processing <PIL.Image.Image image mode=RGB size=32x32 at 0x2303D38AA10>: 100%|██████████| 400/400 [00:00<00:00, 902.70 Samples/s]                 \n"
     ]
    },
    {
     "name": "stdout",
     "output_type": "stream",
     "text": [
      "Initialised with 100 image(s) found.\n",
      "Output directory set to ./images/class14\\output."
     ]
    },
    {
     "name": "stderr",
     "output_type": "stream",
     "text": [
      "Processing <PIL.Image.Image image mode=RGB size=32x32 at 0x2303D3F8B80>: 100%|██████████| 400/400 [00:00<00:00, 929.99 Samples/s]                 \n"
     ]
    },
    {
     "name": "stdout",
     "output_type": "stream",
     "text": [
      "Initialised with 100 image(s) found.\n",
      "Output directory set to ./images/class15\\output."
     ]
    },
    {
     "name": "stderr",
     "output_type": "stream",
     "text": [
      "Processing <PIL.Image.Image image mode=RGB size=32x32 at 0x2303D4294B0>: 100%|██████████| 400/400 [00:00<00:00, 943.18 Samples/s]                \n"
     ]
    },
    {
     "name": "stdout",
     "output_type": "stream",
     "text": [
      "Initialised with 100 image(s) found.\n",
      "Output directory set to ./images/class16\\output."
     ]
    },
    {
     "name": "stderr",
     "output_type": "stream",
     "text": [
      "Processing <PIL.Image.Image image mode=RGB size=32x32 at 0x2303D389CC0>: 100%|██████████| 400/400 [00:00<00:00, 892.66 Samples/s]                 \n"
     ]
    },
    {
     "name": "stdout",
     "output_type": "stream",
     "text": [
      "Initialised with 100 image(s) found.\n",
      "Output directory set to ./images/class17\\output."
     ]
    },
    {
     "name": "stderr",
     "output_type": "stream",
     "text": [
      "Processing <PIL.Image.Image image mode=RGB size=32x32 at 0x2303D428400>: 100%|██████████| 400/400 [00:00<00:00, 916.13 Samples/s]                 \n"
     ]
    },
    {
     "name": "stdout",
     "output_type": "stream",
     "text": [
      "Initialised with 100 image(s) found.\n",
      "Output directory set to ./images/class18\\output."
     ]
    },
    {
     "name": "stderr",
     "output_type": "stream",
     "text": [
      "Processing <PIL.Image.Image image mode=RGB size=32x32 at 0x2303D3CAC50>: 100%|██████████| 400/400 [00:00<00:00, 887.68 Samples/s]                 \n"
     ]
    },
    {
     "name": "stdout",
     "output_type": "stream",
     "text": [
      "Initialised with 100 image(s) found.\n",
      "Output directory set to ./images/class19\\output."
     ]
    },
    {
     "name": "stderr",
     "output_type": "stream",
     "text": [
      "Processing <PIL.Image.Image image mode=RGB size=32x32 at 0x2303D388FD0>: 100%|██████████| 400/400 [00:00<00:00, 955.57 Samples/s]                 \n"
     ]
    },
    {
     "name": "stdout",
     "output_type": "stream",
     "text": [
      "Initialised with 100 image(s) found.\n",
      "Output directory set to ./images/class20\\output."
     ]
    },
    {
     "name": "stderr",
     "output_type": "stream",
     "text": [
      "Processing <PIL.Image.Image image mode=RGB size=32x32 at 0x2303D3FB220>: 100%|██████████| 400/400 [00:00<00:00, 904.98 Samples/s]                 \n"
     ]
    },
    {
     "name": "stdout",
     "output_type": "stream",
     "text": [
      "Initialised with 100 image(s) found.\n",
      "Output directory set to ./images/class21\\output."
     ]
    },
    {
     "name": "stderr",
     "output_type": "stream",
     "text": [
      "Processing <PIL.Image.Image image mode=RGB size=32x32 at 0x2303D389F90>: 100%|██████████| 400/400 [00:00<00:00, 877.95 Samples/s]                 \n"
     ]
    },
    {
     "name": "stdout",
     "output_type": "stream",
     "text": [
      "Initialised with 100 image(s) found.\n",
      "Output directory set to ./images/class22\\output."
     ]
    },
    {
     "name": "stderr",
     "output_type": "stream",
     "text": [
      "Processing <PIL.Image.Image image mode=RGB size=32x32 at 0x2303D447130>: 100%|██████████| 400/400 [00:00<00:00, 944.26 Samples/s]                 \n"
     ]
    },
    {
     "name": "stdout",
     "output_type": "stream",
     "text": [
      "Initialised with 100 image(s) found.\n",
      "Output directory set to ./images/class23\\output."
     ]
    },
    {
     "name": "stderr",
     "output_type": "stream",
     "text": [
      "Processing <PIL.Image.Image image mode=RGB size=32x32 at 0x2303D389960>: 100%|██████████| 400/400 [00:00<00:00, 918.25 Samples/s]                \n"
     ]
    },
    {
     "name": "stdout",
     "output_type": "stream",
     "text": [
      "Initialised with 100 image(s) found.\n",
      "Output directory set to ./images/class24\\output."
     ]
    },
    {
     "name": "stderr",
     "output_type": "stream",
     "text": [
      "Processing <PIL.Image.Image image mode=RGB size=32x32 at 0x2303D446C80>: 100%|██████████| 400/400 [00:00<00:00, 798.22 Samples/s]                \n"
     ]
    },
    {
     "name": "stdout",
     "output_type": "stream",
     "text": [
      "Initialised with 100 image(s) found.\n",
      "Output directory set to ./images/class25\\output."
     ]
    },
    {
     "name": "stderr",
     "output_type": "stream",
     "text": [
      "Processing <PIL.Image.Image image mode=RGB size=32x32 at 0x2303D428E20>: 100%|██████████| 400/400 [00:00<00:00, 933.27 Samples/s]                \n"
     ]
    },
    {
     "name": "stdout",
     "output_type": "stream",
     "text": [
      "Initialised with 100 image(s) found.\n",
      "Output directory set to ./images/class26\\output."
     ]
    },
    {
     "name": "stderr",
     "output_type": "stream",
     "text": [
      "Processing <PIL.Image.Image image mode=RGB size=32x32 at 0x2303D47E8C0>: 100%|██████████| 400/400 [00:00<00:00, 863.74 Samples/s]                 \n"
     ]
    },
    {
     "name": "stdout",
     "output_type": "stream",
     "text": [
      "Initialised with 100 image(s) found.\n",
      "Output directory set to ./images/class27\\output."
     ]
    },
    {
     "name": "stderr",
     "output_type": "stream",
     "text": [
      "Processing <PIL.Image.Image image mode=RGB size=32x32 at 0x2303D428C40>: 100%|██████████| 400/400 [00:00<00:00, 926.75 Samples/s]                 \n"
     ]
    },
    {
     "name": "stdout",
     "output_type": "stream",
     "text": [
      "Initialised with 100 image(s) found.\n",
      "Output directory set to ./images/class28\\output."
     ]
    },
    {
     "name": "stderr",
     "output_type": "stream",
     "text": [
      "Processing <PIL.PngImagePlugin.PngImageFile image mode=RGB size=32x32 at 0x2303D47D060>: 100%|██████████| 400/400 [00:00<00:00, 932.16 Samples/s] \n"
     ]
    },
    {
     "name": "stdout",
     "output_type": "stream",
     "text": [
      "Initialised with 100 image(s) found.\n",
      "Output directory set to ./images/class29\\output."
     ]
    },
    {
     "name": "stderr",
     "output_type": "stream",
     "text": [
      "Processing <PIL.Image.Image image mode=RGB size=32x32 at 0x2303D3C80D0>: 100%|██████████| 400/400 [00:00<00:00, 860.00 Samples/s]                \n"
     ]
    },
    {
     "name": "stdout",
     "output_type": "stream",
     "text": [
      "Initialised with 100 image(s) found.\n",
      "Output directory set to ./images/class30\\output."
     ]
    },
    {
     "name": "stderr",
     "output_type": "stream",
     "text": [
      "Processing <PIL.Image.Image image mode=RGB size=32x32 at 0x2303D3CB190>: 100%|██████████| 400/400 [00:00<00:00, 861.87 Samples/s]                \n"
     ]
    },
    {
     "name": "stdout",
     "output_type": "stream",
     "text": [
      "Initialised with 100 image(s) found.\n",
      "Output directory set to ./images/class31\\output."
     ]
    },
    {
     "name": "stderr",
     "output_type": "stream",
     "text": [
      "Processing <PIL.Image.Image image mode=RGB size=32x32 at 0x2303D42BB50>: 100%|██████████| 400/400 [00:00<00:00, 936.56 Samples/s]                 \n"
     ]
    },
    {
     "name": "stdout",
     "output_type": "stream",
     "text": [
      "Initialised with 100 image(s) found.\n",
      "Output directory set to ./images/class32\\output."
     ]
    },
    {
     "name": "stderr",
     "output_type": "stream",
     "text": [
      "Processing <PIL.Image.Image image mode=RGB size=32x32 at 0x2303D3F8E20>: 100%|██████████| 400/400 [00:00<00:00, 854.48 Samples/s]                \n"
     ]
    },
    {
     "name": "stdout",
     "output_type": "stream",
     "text": [
      "Initialised with 100 image(s) found.\n",
      "Output directory set to ./images/class33\\output."
     ]
    },
    {
     "name": "stderr",
     "output_type": "stream",
     "text": [
      "Processing <PIL.Image.Image image mode=RGB size=32x32 at 0x2303D40CA00>: 100%|██████████| 400/400 [00:00<00:00, 754.07 Samples/s]                \n"
     ]
    },
    {
     "name": "stdout",
     "output_type": "stream",
     "text": [
      "Initialised with 100 image(s) found.\n",
      "Output directory set to ./images/class34\\output."
     ]
    },
    {
     "name": "stderr",
     "output_type": "stream",
     "text": [
      "Processing <PIL.Image.Image image mode=RGB size=32x32 at 0x2303D3FB730>: 100%|██████████| 400/400 [00:00<00:00, 753.83 Samples/s]                \n"
     ]
    },
    {
     "name": "stdout",
     "output_type": "stream",
     "text": [
      "Initialised with 100 image(s) found.\n",
      "Output directory set to ./images/class35\\output."
     ]
    },
    {
     "name": "stderr",
     "output_type": "stream",
     "text": [
      "Processing <PIL.Image.Image image mode=RGB size=32x32 at 0x2303D3CB1F0>: 100%|██████████| 400/400 [00:00<00:00, 867.48 Samples/s]                 \n"
     ]
    },
    {
     "name": "stdout",
     "output_type": "stream",
     "text": [
      "Initialised with 100 image(s) found.\n",
      "Output directory set to ./images/class36\\output."
     ]
    },
    {
     "name": "stderr",
     "output_type": "stream",
     "text": [
      "Processing <PIL.Image.Image image mode=RGB size=32x32 at 0x2303D4462F0>: 100%|██████████| 400/400 [00:00<00:00, 840.15 Samples/s]                \n"
     ]
    },
    {
     "name": "stdout",
     "output_type": "stream",
     "text": [
      "Initialised with 100 image(s) found.\n",
      "Output directory set to ./images/class37\\output."
     ]
    },
    {
     "name": "stderr",
     "output_type": "stream",
     "text": [
      "Processing <PIL.Image.Image image mode=RGB size=32x32 at 0x2303D389210>: 100%|██████████| 400/400 [00:00<00:00, 845.47 Samples/s]                \n"
     ]
    },
    {
     "name": "stdout",
     "output_type": "stream",
     "text": [
      "Initialised with 100 image(s) found.\n",
      "Output directory set to ./images/class38\\output."
     ]
    },
    {
     "name": "stderr",
     "output_type": "stream",
     "text": [
      "Processing <PIL.Image.Image image mode=RGB size=32x32 at 0x2303D47EDA0>: 100%|██████████| 400/400 [00:00<00:00, 865.60 Samples/s]                \n"
     ]
    },
    {
     "name": "stdout",
     "output_type": "stream",
     "text": [
      "Initialised with 100 image(s) found.\n",
      "Output directory set to ./images/class39\\output."
     ]
    },
    {
     "name": "stderr",
     "output_type": "stream",
     "text": [
      "Processing <PIL.Image.Image image mode=RGB size=32x32 at 0x2303D3C9180>: 100%|██████████| 400/400 [00:00<00:00, 853.07 Samples/s]                \n"
     ]
    },
    {
     "name": "stdout",
     "output_type": "stream",
     "text": [
      "Initialised with 100 image(s) found.\n",
      "Output directory set to ./images/class40\\output."
     ]
    },
    {
     "name": "stderr",
     "output_type": "stream",
     "text": [
      "Processing <PIL.Image.Image image mode=RGB size=32x32 at 0x2303D47E320>: 100%|██████████| 400/400 [00:00<00:00, 913.03 Samples/s]                 \n"
     ]
    },
    {
     "name": "stdout",
     "output_type": "stream",
     "text": [
      "Initialised with 100 image(s) found.\n",
      "Output directory set to ./images/class41\\output."
     ]
    },
    {
     "name": "stderr",
     "output_type": "stream",
     "text": [
      "Processing <PIL.Image.Image image mode=RGB size=32x32 at 0x2303D40D630>: 100%|██████████| 400/400 [00:00<00:00, 870.28 Samples/s]                 \n"
     ]
    },
    {
     "name": "stdout",
     "output_type": "stream",
     "text": [
      "Initialised with 100 image(s) found.\n",
      "Output directory set to ./images/class42\\output."
     ]
    },
    {
     "name": "stderr",
     "output_type": "stream",
     "text": [
      "Processing <PIL.Image.Image image mode=RGB size=32x32 at 0x2303D47F3A0>: 100%|██████████| 400/400 [00:00<00:00, 871.26 Samples/s]                \n"
     ]
    },
    {
     "name": "stdout",
     "output_type": "stream",
     "text": [
      "Initialised with 100 image(s) found.\n",
      "Output directory set to ./images/class43\\output."
     ]
    },
    {
     "name": "stderr",
     "output_type": "stream",
     "text": [
      "Processing <PIL.Image.Image image mode=RGB size=32x32 at 0x2303D45D360>: 100%|██████████| 400/400 [00:00<00:00, 914.04 Samples/s]                \n"
     ]
    },
    {
     "name": "stdout",
     "output_type": "stream",
     "text": [
      "Initialised with 100 image(s) found.\n",
      "Output directory set to ./images/class44\\output."
     ]
    },
    {
     "name": "stderr",
     "output_type": "stream",
     "text": [
      "Processing <PIL.Image.Image image mode=RGB size=32x32 at 0x2303D447DF0>: 100%|██████████| 400/400 [00:00<00:00, 877.56 Samples/s]                 \n"
     ]
    },
    {
     "name": "stdout",
     "output_type": "stream",
     "text": [
      "Initialised with 100 image(s) found.\n",
      "Output directory set to ./images/class45\\output."
     ]
    },
    {
     "name": "stderr",
     "output_type": "stream",
     "text": [
      "Processing <PIL.Image.Image image mode=RGB size=32x32 at 0x2303D47EA10>: 100%|██████████| 400/400 [00:00<00:00, 865.58 Samples/s]                \n"
     ]
    },
    {
     "name": "stdout",
     "output_type": "stream",
     "text": [
      "Initialised with 100 image(s) found.\n",
      "Output directory set to ./images/class46\\output."
     ]
    },
    {
     "name": "stderr",
     "output_type": "stream",
     "text": [
      "Processing <PIL.Image.Image image mode=RGB size=32x32 at 0x2303D389330>: 100%|██████████| 400/400 [00:00<00:00, 896.66 Samples/s]                 \n"
     ]
    },
    {
     "name": "stdout",
     "output_type": "stream",
     "text": [
      "Initialised with 100 image(s) found.\n",
      "Output directory set to ./images/class47\\output."
     ]
    },
    {
     "name": "stderr",
     "output_type": "stream",
     "text": [
      "Processing <PIL.Image.Image image mode=RGB size=32x32 at 0x2303D45E230>: 100%|██████████| 400/400 [00:00<00:00, 869.35 Samples/s]                 \n"
     ]
    },
    {
     "name": "stdout",
     "output_type": "stream",
     "text": [
      "Initialised with 100 image(s) found.\n",
      "Output directory set to ./images/class48\\output."
     ]
    },
    {
     "name": "stderr",
     "output_type": "stream",
     "text": [
      "Processing <PIL.Image.Image image mode=RGB size=32x32 at 0x2303D38AAA0>: 100%|██████████| 400/400 [00:00<00:00, 906.63 Samples/s]                 \n"
     ]
    },
    {
     "name": "stdout",
     "output_type": "stream",
     "text": [
      "Initialised with 100 image(s) found.\n",
      "Output directory set to ./images/class49\\output."
     ]
    },
    {
     "name": "stderr",
     "output_type": "stream",
     "text": [
      "Processing <PIL.Image.Image image mode=RGB size=32x32 at 0x2303D47ED10>: 100%|██████████| 400/400 [00:00<00:00, 923.58 Samples/s]                \n"
     ]
    },
    {
     "name": "stdout",
     "output_type": "stream",
     "text": [
      "Initialised with 500 image(s) found.\n",
      "Output directory set to ./images/class50\\output.Initialised with 500 image(s) found.\n",
      "Output directory set to ./images/class51\\output.Initialised with 500 image(s) found.\n",
      "Output directory set to ./images/class52\\output.Initialised with 500 image(s) found.\n",
      "Output directory set to ./images/class53\\output.Initialised with 500 image(s) found.\n",
      "Output directory set to ./images/class54\\output.Initialised with 500 image(s) found.\n",
      "Output directory set to ./images/class55\\output.Initialised with 500 image(s) found.\n",
      "Output directory set to ./images/class56\\output.Initialised with 500 image(s) found.\n",
      "Output directory set to ./images/class57\\output.Initialised with 500 image(s) found.\n",
      "Output directory set to ./images/class58\\output.Initialised with 500 image(s) found.\n",
      "Output directory set to ./images/class59\\output.Initialised with 500 image(s) found.\n",
      "Output directory set to ./images/class60\\output.Initialised with 500 image(s) found.\n",
      "Output directory set to ./images/class61\\output.Initialised with 500 image(s) found.\n",
      "Output directory set to ./images/class62\\output.Initialised with 500 image(s) found.\n",
      "Output directory set to ./images/class63\\output.Initialised with 500 image(s) found.\n",
      "Output directory set to ./images/class64\\output.Initialised with 500 image(s) found.\n",
      "Output directory set to ./images/class65\\output.Initialised with 500 image(s) found.\n",
      "Output directory set to ./images/class66\\output.Initialised with 500 image(s) found.\n",
      "Output directory set to ./images/class67\\output.Initialised with 500 image(s) found.\n",
      "Output directory set to ./images/class68\\output.Initialised with 500 image(s) found.\n",
      "Output directory set to ./images/class69\\output.Initialised with 500 image(s) found.\n",
      "Output directory set to ./images/class70\\output.Initialised with 500 image(s) found.\n",
      "Output directory set to ./images/class71\\output.Initialised with 500 image(s) found.\n",
      "Output directory set to ./images/class72\\output.Initialised with 500 image(s) found.\n",
      "Output directory set to ./images/class73\\output.Initialised with 500 image(s) found.\n",
      "Output directory set to ./images/class74\\output.Initialised with 500 image(s) found.\n",
      "Output directory set to ./images/class75\\output.Initialised with 500 image(s) found.\n",
      "Output directory set to ./images/class76\\output.Initialised with 500 image(s) found.\n",
      "Output directory set to ./images/class77\\output.Initialised with 500 image(s) found.\n",
      "Output directory set to ./images/class78\\output.Initialised with 500 image(s) found.\n",
      "Output directory set to ./images/class79\\output.Initialised with 500 image(s) found.\n",
      "Output directory set to ./images/class80\\output.Initialised with 500 image(s) found.\n",
      "Output directory set to ./images/class81\\output.Initialised with 500 image(s) found.\n",
      "Output directory set to ./images/class82\\output.Initialised with 500 image(s) found.\n",
      "Output directory set to ./images/class83\\output.Initialised with 500 image(s) found.\n",
      "Output directory set to ./images/class84\\output.Initialised with 500 image(s) found.\n",
      "Output directory set to ./images/class85\\output.Initialised with 500 image(s) found.\n",
      "Output directory set to ./images/class86\\output.Initialised with 500 image(s) found.\n",
      "Output directory set to ./images/class87\\output.Initialised with 500 image(s) found.\n",
      "Output directory set to ./images/class88\\output.Initialised with 500 image(s) found.\n",
      "Output directory set to ./images/class89\\output.Initialised with 500 image(s) found.\n",
      "Output directory set to ./images/class90\\output.Initialised with 500 image(s) found.\n",
      "Output directory set to ./images/class91\\output.Initialised with 500 image(s) found.\n",
      "Output directory set to ./images/class92\\output.Initialised with 500 image(s) found.\n",
      "Output directory set to ./images/class93\\output.Initialised with 500 image(s) found.\n",
      "Output directory set to ./images/class94\\output.Initialised with 500 image(s) found.\n",
      "Output directory set to ./images/class95\\output.Initialised with 500 image(s) found.\n",
      "Output directory set to ./images/class96\\output.Initialised with 500 image(s) found.\n",
      "Output directory set to ./images/class97\\output.Initialised with 500 image(s) found.\n",
      "Output directory set to ./images/class98\\output.Initialised with 500 image(s) found.\n",
      "Output directory set to ./images/class99\\output."
     ]
    }
   ],
   "source": [
    "import Augmentor\n",
    "\n",
    "for i in range(100):\n",
    "    path_to_data = \"./images/class{}\".format(i)\n",
    "    \n",
    "    # Create a pipeline\n",
    "    p = Augmentor.Pipeline(path_to_data)\n",
    "    \n",
    "    # Add a horizontal flip operation to the pipeline:\n",
    "    p.flip_left_right(probability=0.4)\n",
    "\n",
    "    # Add a vertical flip operation to the pipeline:\n",
    "    p.flip_top_bottom(probability=0.8)\n",
    "\n",
    "    # Add a rotate90 operation to the pipeline:\n",
    "    p.rotate90(probability=0.1)\n",
    "\n",
    "    p.skew(0.4, 0.5)\n",
    "\n",
    "    p.zoom(probability = 0.2, min_factor = 1.1, max_factor = 1.5)\n",
    "    \n",
    "    num_of_samples = 500 - length[i]\n",
    "    \n",
    "    if num_of_samples > 0:\n",
    "        # Now we can sample from the pipeline:\n",
    "        p.sample(num_of_samples)"
   ]
  },
  {
   "cell_type": "code",
   "execution_count": 13,
   "id": "92013442",
   "metadata": {},
   "outputs": [],
   "source": [
    "from sklearn.utils import resample\n",
    "\n",
    "for i in range(len(samples)):\n",
    "    if len(samples[i]) > 500:\n",
    "        print('exist')\n",
    "        samples[i] = resample(samples[i],\n",
    "                 replace=True,\n",
    "                 n_samples=500,\n",
    "                 random_state=42)"
   ]
  },
  {
   "cell_type": "code",
   "execution_count": 14,
   "id": "27085dcd",
   "metadata": {},
   "outputs": [],
   "source": [
    "import torchvision\n",
    "\n",
    "augumented_images = [[] for _ in range(100)]\n",
    "\n",
    "for i in range(100):\n",
    "    if length[i] < 500:\n",
    "        files = [f for f in os.listdir('./images/class{}/output/'.format(i)) if 'png' in f]\n",
    "        for f in files:\n",
    "            augumented_images[i].append(torchvision.io.read_image('./images/class{}/output/'.format(i)+f)/256)"
   ]
  },
  {
   "cell_type": "code",
   "execution_count": 15,
   "id": "9b1fe75f",
   "metadata": {
    "collapsed": true
   },
   "outputs": [
    {
     "name": "stdout",
     "output_type": "stream",
     "text": [
      "400\n",
      "400\n",
      "400\n",
      "400\n",
      "400\n",
      "400\n",
      "400\n",
      "400\n",
      "400\n",
      "400\n",
      "400\n",
      "400\n",
      "400\n",
      "400\n",
      "400\n",
      "400\n",
      "400\n",
      "400\n",
      "400\n",
      "400\n",
      "400\n",
      "400\n",
      "400\n",
      "400\n",
      "400\n",
      "400\n",
      "400\n",
      "400\n",
      "400\n",
      "400\n",
      "400\n",
      "400\n",
      "400\n",
      "400\n",
      "400\n",
      "400\n",
      "400\n",
      "400\n",
      "400\n",
      "400\n",
      "400\n",
      "400\n",
      "400\n",
      "400\n",
      "400\n",
      "400\n",
      "400\n",
      "400\n",
      "400\n",
      "400\n",
      "0\n",
      "0\n",
      "0\n",
      "0\n",
      "0\n",
      "0\n",
      "0\n",
      "0\n",
      "0\n",
      "0\n",
      "0\n",
      "0\n",
      "0\n",
      "0\n",
      "0\n",
      "0\n",
      "0\n",
      "0\n",
      "0\n",
      "0\n",
      "0\n",
      "0\n",
      "0\n",
      "0\n",
      "0\n",
      "0\n",
      "0\n",
      "0\n",
      "0\n",
      "0\n",
      "0\n",
      "0\n",
      "0\n",
      "0\n",
      "0\n",
      "0\n",
      "0\n",
      "0\n",
      "0\n",
      "0\n",
      "0\n",
      "0\n",
      "0\n",
      "0\n",
      "0\n",
      "0\n",
      "0\n",
      "0\n",
      "0\n",
      "0\n"
     ]
    }
   ],
   "source": [
    "for sample in augumented_images:\n",
    "    print(len(sample))"
   ]
  },
  {
   "cell_type": "code",
   "execution_count": 16,
   "id": "e79ae974",
   "metadata": {},
   "outputs": [
    {
     "name": "stdout",
     "output_type": "stream",
     "text": [
      "50000\n"
     ]
    }
   ],
   "source": [
    "new_cifar = []\n",
    "for i in range(100):\n",
    "    if len(samples[i]) == 500:\n",
    "        for sample in samples[i]:\n",
    "            new_cifar.append((sample, i))\n",
    "    else:\n",
    "        for sample in samples[i]:\n",
    "            new_cifar.append((sample, i))\n",
    "        for sample in augumented_images[i]:\n",
    "            new_cifar.append((sample, i))\n",
    "print(len(new_cifar))\n",
    "random.shuffle(new_cifar)"
   ]
  },
  {
   "cell_type": "code",
   "execution_count": 17,
   "metadata": {},
   "outputs": [
    {
     "name": "stdout",
     "output_type": "stream",
     "text": [
      "25000 25000\n"
     ]
    }
   ],
   "source": [
    "less50 = 0\n",
    "more50 = 0\n",
    "for x,y in new_cifar:\n",
    "    if y<50:\n",
    "        less50+=1\n",
    "    else:\n",
    "        more50+=1\n",
    "print(less50,more50)"
   ]
  },
  {
   "cell_type": "code",
   "execution_count": 18,
   "metadata": {},
   "outputs": [
    {
     "name": "stdout",
     "output_type": "stream",
     "text": [
      "WARNING:tensorflow:From d:\\anaconda\\anaconda3\\envs\\260d\\lib\\site-packages\\keras\\src\\losses.py:2976: The name tf.losses.sparse_softmax_cross_entropy is deprecated. Please use tf.compat.v1.losses.sparse_softmax_cross_entropy instead.\n",
      "\n",
      "{'net': 'vgg16', 'gpu': True, 'b': 100, 'warm': 1, 'lr': 0.1, 'resume': False}\n",
      "train_data loader is ready\n",
      "Files already downloaded and verified\n",
      "test_data loader is ready\n",
      "Training Epoch: 1 [50000/50000]\tLoss: 4.1055\tLR: 0.100000\n",
      "epoch 1 training time consumed: 87.32s\n",
      "Evaluating Network.....\n",
      "Test set: Epoch: 1, Average loss: 0.0460, Accuracy: 0.0387, Time consumed:17.82s\n",
      "\n"
     ]
    },
    {
     "name": "stderr",
     "output_type": "stream",
     "text": [
      "d:\\anaconda\\anaconda3\\envs\\260d\\lib\\site-packages\\torch\\optim\\lr_scheduler.py:149: UserWarning: The epoch parameter in `scheduler.step()` was not necessary and is being deprecated where possible. Please use `scheduler.step()` to step the scheduler. During the deprecation, if epoch is different from None, the closed form is used instead of the new chainable form, where available. Please open an issue if you are unable to replicate your use case: https://github.com/pytorch/pytorch/issues/new/choose.\n",
      "  warnings.warn(EPOCH_DEPRECATION_WARNING, UserWarning)\n"
     ]
    },
    {
     "name": "stdout",
     "output_type": "stream",
     "text": [
      "Training Epoch: 2 [50000/50000]\tLoss: 3.8204\tLR: 0.100000\n",
      "epoch 2 training time consumed: 57.71s\n",
      "Evaluating Network.....\n",
      "Test set: Epoch: 2, Average loss: 0.0431, Accuracy: 0.0553, Time consumed:14.68s\n",
      "\n",
      "Training Epoch: 3 [50000/50000]\tLoss: 3.7396\tLR: 0.100000\n",
      "epoch 3 training time consumed: 57.43s\n",
      "Evaluating Network.....\n",
      "Test set: Epoch: 3, Average loss: 0.0423, Accuracy: 0.0674, Time consumed:14.92s\n",
      "\n",
      "Training Epoch: 4 [50000/50000]\tLoss: 3.7587\tLR: 0.100000\n",
      "epoch 4 training time consumed: 57.31s\n",
      "Evaluating Network.....\n",
      "Test set: Epoch: 4, Average loss: 0.0420, Accuracy: 0.0834, Time consumed:14.62s\n",
      "\n",
      "Training Epoch: 5 [50000/50000]\tLoss: 3.5754\tLR: 0.100000\n",
      "epoch 5 training time consumed: 56.79s\n",
      "Evaluating Network.....\n",
      "Test set: Epoch: 5, Average loss: 0.0436, Accuracy: 0.0761, Time consumed:14.52s\n",
      "\n",
      "Training Epoch: 6 [50000/50000]\tLoss: 3.6046\tLR: 0.100000\n",
      "epoch 6 training time consumed: 57.14s\n",
      "Evaluating Network.....\n",
      "Test set: Epoch: 6, Average loss: 0.0417, Accuracy: 0.0999, Time consumed:14.69s\n",
      "\n",
      "Training Epoch: 7 [50000/50000]\tLoss: 3.3409\tLR: 0.100000\n",
      "epoch 7 training time consumed: 57.06s\n",
      "Evaluating Network.....\n",
      "Test set: Epoch: 7, Average loss: 0.0403, Accuracy: 0.1018, Time consumed:14.69s\n",
      "\n",
      "Training Epoch: 8 [50000/50000]\tLoss: 3.2418\tLR: 0.100000\n",
      "epoch 8 training time consumed: 57.32s\n",
      "Evaluating Network.....\n",
      "Test set: Epoch: 8, Average loss: 0.0398, Accuracy: 0.1246, Time consumed:14.52s\n",
      "\n",
      "Training Epoch: 9 [50000/50000]\tLoss: 3.0222\tLR: 0.100000\n",
      "epoch 9 training time consumed: 56.89s\n",
      "Evaluating Network.....\n",
      "Test set: Epoch: 9, Average loss: 0.0435, Accuracy: 0.1161, Time consumed:14.63s\n",
      "\n",
      "Training Epoch: 10 [50000/50000]\tLoss: 2.9616\tLR: 0.100000\n",
      "epoch 10 training time consumed: 57.21s\n",
      "Evaluating Network.....\n",
      "Test set: Epoch: 10, Average loss: 0.0384, Accuracy: 0.1477, Time consumed:14.58s\n",
      "\n",
      "saving weights file to checkpoint\\vgg16\\Sunday_03_December_2023_19h_02m_39s\\vgg16-10-regular.pth\n",
      "Training Epoch: 11 [50000/50000]\tLoss: 3.2522\tLR: 0.100000\n",
      "epoch 11 training time consumed: 57.32s\n",
      "Evaluating Network.....\n",
      "Test set: Epoch: 11, Average loss: 0.0403, Accuracy: 0.1272, Time consumed:14.69s\n",
      "\n",
      "Training Epoch: 12 [50000/50000]\tLoss: 3.1230\tLR: 0.100000\n",
      "epoch 12 training time consumed: 57.65s\n",
      "Evaluating Network.....\n",
      "Test set: Epoch: 12, Average loss: 0.0369, Accuracy: 0.1750, Time consumed:14.65s\n",
      "\n",
      "Training Epoch: 13 [50000/50000]\tLoss: 3.0968\tLR: 0.100000\n",
      "epoch 13 training time consumed: 57.30s\n",
      "Evaluating Network.....\n",
      "Test set: Epoch: 13, Average loss: 0.0359, Accuracy: 0.1815, Time consumed:14.71s\n",
      "\n",
      "Training Epoch: 14 [50000/50000]\tLoss: 2.8943\tLR: 0.100000\n",
      "epoch 14 training time consumed: 57.65s\n",
      "Evaluating Network.....\n",
      "Test set: Epoch: 14, Average loss: 0.0401, Accuracy: 0.1612, Time consumed:14.54s\n",
      "\n",
      "Training Epoch: 15 [50000/50000]\tLoss: 2.6905\tLR: 0.100000\n",
      "epoch 15 training time consumed: 56.90s\n",
      "Evaluating Network.....\n",
      "Test set: Epoch: 15, Average loss: 0.0368, Accuracy: 0.1812, Time consumed:14.53s\n",
      "\n",
      "Training Epoch: 16 [50000/50000]\tLoss: 2.5626\tLR: 0.100000\n",
      "epoch 16 training time consumed: 56.98s\n",
      "Evaluating Network.....\n",
      "Test set: Epoch: 16, Average loss: 0.0369, Accuracy: 0.1970, Time consumed:14.62s\n",
      "\n",
      "Training Epoch: 17 [50000/50000]\tLoss: 2.5475\tLR: 0.100000\n",
      "epoch 17 training time consumed: 57.49s\n",
      "Evaluating Network.....\n",
      "Test set: Epoch: 17, Average loss: 0.0389, Accuracy: 0.1892, Time consumed:15.04s\n",
      "\n",
      "Training Epoch: 18 [50000/50000]\tLoss: 2.2117\tLR: 0.100000\n",
      "epoch 18 training time consumed: 56.43s\n",
      "Evaluating Network.....\n",
      "Test set: Epoch: 18, Average loss: 0.0328, Accuracy: 0.2341, Time consumed:14.55s\n",
      "\n",
      "Training Epoch: 19 [50000/50000]\tLoss: 2.2837\tLR: 0.100000\n",
      "epoch 19 training time consumed: 57.31s\n",
      "Evaluating Network.....\n",
      "Test set: Epoch: 19, Average loss: 0.0375, Accuracy: 0.1904, Time consumed:14.59s\n",
      "\n",
      "Training Epoch: 20 [50000/50000]\tLoss: 2.2986\tLR: 0.100000\n",
      "epoch 20 training time consumed: 58.34s\n",
      "Evaluating Network.....\n",
      "Test set: Epoch: 20, Average loss: 0.0368, Accuracy: 0.2125, Time consumed:14.62s\n",
      "\n",
      "saving weights file to checkpoint\\vgg16\\Sunday_03_December_2023_19h_02m_39s\\vgg16-20-regular.pth\n",
      "Training Epoch: 21 [50000/50000]\tLoss: 2.4311\tLR: 0.100000\n",
      "epoch 21 training time consumed: 57.16s\n",
      "Evaluating Network.....\n",
      "Test set: Epoch: 21, Average loss: 0.0334, Accuracy: 0.2423, Time consumed:14.64s\n",
      "\n",
      "Training Epoch: 22 [50000/50000]\tLoss: 2.2513\tLR: 0.100000\n",
      "epoch 22 training time consumed: 57.15s\n",
      "Evaluating Network.....\n",
      "Test set: Epoch: 22, Average loss: 0.0392, Accuracy: 0.2053, Time consumed:14.48s\n",
      "\n",
      "Training Epoch: 23 [50000/50000]\tLoss: 2.0467\tLR: 0.100000\n",
      "epoch 23 training time consumed: 57.18s\n",
      "Evaluating Network.....\n",
      "Test set: Epoch: 23, Average loss: 0.0336, Accuracy: 0.2611, Time consumed:14.56s\n",
      "\n",
      "Training Epoch: 24 [50000/50000]\tLoss: 2.2686\tLR: 0.100000\n",
      "epoch 24 training time consumed: 57.05s\n",
      "Evaluating Network.....\n",
      "Test set: Epoch: 24, Average loss: 0.0404, Accuracy: 0.2094, Time consumed:14.63s\n",
      "\n",
      "Training Epoch: 25 [50000/50000]\tLoss: 2.2441\tLR: 0.100000\n",
      "epoch 25 training time consumed: 57.39s\n",
      "Evaluating Network.....\n",
      "Test set: Epoch: 25, Average loss: 0.0357, Accuracy: 0.2276, Time consumed:14.52s\n",
      "\n",
      "Training Epoch: 26 [50000/50000]\tLoss: 1.9594\tLR: 0.100000\n",
      "epoch 26 training time consumed: 56.79s\n",
      "Evaluating Network.....\n",
      "Test set: Epoch: 26, Average loss: 0.0385, Accuracy: 0.2143, Time consumed:14.57s\n",
      "\n",
      "Training Epoch: 27 [50000/50000]\tLoss: 1.9321\tLR: 0.100000\n",
      "epoch 27 training time consumed: 56.95s\n",
      "Evaluating Network.....\n",
      "Test set: Epoch: 27, Average loss: 0.0357, Accuracy: 0.2289, Time consumed:14.55s\n",
      "\n",
      "Training Epoch: 28 [50000/50000]\tLoss: 2.6364\tLR: 0.100000\n",
      "epoch 28 training time consumed: 57.32s\n",
      "Evaluating Network.....\n",
      "Test set: Epoch: 28, Average loss: 0.0337, Accuracy: 0.2609, Time consumed:14.55s\n",
      "\n",
      "Training Epoch: 29 [50000/50000]\tLoss: 2.1660\tLR: 0.100000\n",
      "epoch 29 training time consumed: 57.73s\n",
      "Evaluating Network.....\n",
      "Test set: Epoch: 29, Average loss: 0.0340, Accuracy: 0.2492, Time consumed:14.61s\n",
      "\n",
      "Training Epoch: 30 [50000/50000]\tLoss: 1.9634\tLR: 0.100000\n",
      "epoch 30 training time consumed: 57.22s\n",
      "Evaluating Network.....\n",
      "Test set: Epoch: 30, Average loss: 0.0376, Accuracy: 0.2418, Time consumed:14.47s\n",
      "\n",
      "saving weights file to checkpoint\\vgg16\\Sunday_03_December_2023_19h_02m_39s\\vgg16-30-regular.pth\n",
      "Training Epoch: 31 [50000/50000]\tLoss: 1.9632\tLR: 0.100000\n",
      "epoch 31 training time consumed: 57.28s\n",
      "Evaluating Network.....\n",
      "Test set: Epoch: 31, Average loss: 0.0332, Accuracy: 0.2624, Time consumed:14.49s\n",
      "\n",
      "Training Epoch: 32 [50000/50000]\tLoss: 1.9949\tLR: 0.100000\n",
      "epoch 32 training time consumed: 56.98s\n",
      "Evaluating Network.....\n",
      "Test set: Epoch: 32, Average loss: 0.0330, Accuracy: 0.2867, Time consumed:14.60s\n",
      "\n",
      "Training Epoch: 33 [50000/50000]\tLoss: 1.9443\tLR: 0.100000\n",
      "epoch 33 training time consumed: 56.88s\n",
      "Evaluating Network.....\n",
      "Test set: Epoch: 33, Average loss: 0.0354, Accuracy: 0.2524, Time consumed:14.56s\n",
      "\n",
      "Training Epoch: 34 [50000/50000]\tLoss: 1.9985\tLR: 0.100000\n",
      "epoch 34 training time consumed: 57.01s\n",
      "Evaluating Network.....\n",
      "Test set: Epoch: 34, Average loss: 0.0345, Accuracy: 0.2456, Time consumed:14.59s\n",
      "\n",
      "Training Epoch: 35 [50000/50000]\tLoss: 1.9491\tLR: 0.100000\n",
      "epoch 35 training time consumed: 56.52s\n",
      "Evaluating Network.....\n",
      "Test set: Epoch: 35, Average loss: 0.0343, Accuracy: 0.2697, Time consumed:14.45s\n",
      "\n",
      "Training Epoch: 36 [50000/50000]\tLoss: 2.1871\tLR: 0.100000\n",
      "epoch 36 training time consumed: 57.20s\n",
      "Evaluating Network.....\n",
      "Test set: Epoch: 36, Average loss: 0.0360, Accuracy: 0.2556, Time consumed:14.76s\n",
      "\n",
      "Training Epoch: 37 [50000/50000]\tLoss: 1.8671\tLR: 0.100000\n",
      "epoch 37 training time consumed: 56.85s\n",
      "Evaluating Network.....\n",
      "Test set: Epoch: 37, Average loss: 0.0344, Accuracy: 0.2690, Time consumed:14.60s\n",
      "\n",
      "Training Epoch: 38 [50000/50000]\tLoss: 1.7011\tLR: 0.100000\n",
      "epoch 38 training time consumed: 57.08s\n",
      "Evaluating Network.....\n",
      "Test set: Epoch: 38, Average loss: 0.0325, Accuracy: 0.2728, Time consumed:15.00s\n",
      "\n",
      "Training Epoch: 39 [50000/50000]\tLoss: 1.7738\tLR: 0.100000\n",
      "epoch 39 training time consumed: 57.12s\n",
      "Evaluating Network.....\n",
      "Test set: Epoch: 39, Average loss: 0.0319, Accuracy: 0.3045, Time consumed:14.51s\n",
      "\n",
      "Training Epoch: 40 [50000/50000]\tLoss: 0.7999\tLR: 0.020000\n",
      "epoch 40 training time consumed: 56.65s\n",
      "Evaluating Network.....\n",
      "Test set: Epoch: 40, Average loss: 0.0294, Accuracy: 0.3981, Time consumed:14.57s\n",
      "\n",
      "saving weights file to checkpoint\\vgg16\\Sunday_03_December_2023_19h_02m_39s\\vgg16-40-regular.pth\n",
      "Training Epoch: 41 [50000/50000]\tLoss: 0.7767\tLR: 0.020000\n",
      "epoch 41 training time consumed: 57.32s\n",
      "Evaluating Network.....\n",
      "Test set: Epoch: 41, Average loss: 0.0315, Accuracy: 0.4002, Time consumed:14.58s\n",
      "\n",
      "Training Epoch: 42 [50000/50000]\tLoss: 0.5564\tLR: 0.020000\n",
      "epoch 42 training time consumed: 56.98s\n",
      "Evaluating Network.....\n",
      "Test set: Epoch: 42, Average loss: 0.0360, Accuracy: 0.3750, Time consumed:14.53s\n",
      "\n",
      "Training Epoch: 43 [50000/50000]\tLoss: 0.6752\tLR: 0.020000\n",
      "epoch 43 training time consumed: 56.87s\n",
      "Evaluating Network.....\n",
      "Test set: Epoch: 43, Average loss: 0.0374, Accuracy: 0.3675, Time consumed:14.49s\n",
      "\n",
      "Training Epoch: 44 [50000/50000]\tLoss: 0.4108\tLR: 0.020000\n",
      "epoch 44 training time consumed: 56.37s\n",
      "Evaluating Network.....\n",
      "Test set: Epoch: 44, Average loss: 0.0381, Accuracy: 0.3700, Time consumed:14.89s\n",
      "\n",
      "Training Epoch: 45 [50000/50000]\tLoss: 0.3989\tLR: 0.020000\n",
      "epoch 45 training time consumed: 56.91s\n",
      "Evaluating Network.....\n",
      "Test set: Epoch: 45, Average loss: 0.0382, Accuracy: 0.3664, Time consumed:14.58s\n",
      "\n",
      "Training Epoch: 46 [50000/50000]\tLoss: 0.2847\tLR: 0.020000\n",
      "epoch 46 training time consumed: 56.82s\n",
      "Evaluating Network.....\n",
      "Test set: Epoch: 46, Average loss: 0.0372, Accuracy: 0.3563, Time consumed:14.46s\n",
      "\n",
      "Training Epoch: 47 [50000/50000]\tLoss: 0.4158\tLR: 0.020000\n",
      "epoch 47 training time consumed: 57.00s\n",
      "Evaluating Network.....\n",
      "Test set: Epoch: 47, Average loss: 0.0372, Accuracy: 0.3748, Time consumed:14.90s\n",
      "\n",
      "Training Epoch: 48 [50000/50000]\tLoss: 0.3335\tLR: 0.020000\n",
      "epoch 48 training time consumed: 56.34s\n",
      "Evaluating Network.....\n",
      "Test set: Epoch: 48, Average loss: 0.0379, Accuracy: 0.3577, Time consumed:14.84s\n",
      "\n",
      "Training Epoch: 49 [50000/50000]\tLoss: 0.3600\tLR: 0.020000\n",
      "epoch 49 training time consumed: 57.19s\n",
      "Evaluating Network.....\n",
      "Test set: Epoch: 49, Average loss: 0.0382, Accuracy: 0.3584, Time consumed:14.61s\n",
      "\n",
      "Training Epoch: 50 [50000/50000]\tLoss: 0.2347\tLR: 0.020000\n",
      "epoch 50 training time consumed: 57.19s\n",
      "Evaluating Network.....\n",
      "Test set: Epoch: 50, Average loss: 0.0423, Accuracy: 0.3399, Time consumed:14.55s\n",
      "\n",
      "saving weights file to checkpoint\\vgg16\\Sunday_03_December_2023_19h_02m_39s\\vgg16-50-regular.pth\n",
      "Training Epoch: 51 [50000/50000]\tLoss: 0.2101\tLR: 0.020000\n",
      "epoch 51 training time consumed: 57.32s\n",
      "Evaluating Network.....\n",
      "Test set: Epoch: 51, Average loss: 0.0427, Accuracy: 0.3253, Time consumed:14.57s\n",
      "\n",
      "Training Epoch: 52 [50000/50000]\tLoss: 0.3232\tLR: 0.020000\n",
      "epoch 52 training time consumed: 56.97s\n",
      "Evaluating Network.....\n",
      "Test set: Epoch: 52, Average loss: 0.0377, Accuracy: 0.3529, Time consumed:14.48s\n",
      "\n",
      "Training Epoch: 53 [50000/50000]\tLoss: 0.2683\tLR: 0.020000\n",
      "epoch 53 training time consumed: 56.86s\n",
      "Evaluating Network.....\n",
      "Test set: Epoch: 53, Average loss: 0.0389, Accuracy: 0.3537, Time consumed:14.55s\n",
      "\n",
      "Training Epoch: 54 [50000/50000]\tLoss: 0.4345\tLR: 0.020000\n",
      "epoch 54 training time consumed: 57.60s\n",
      "Evaluating Network.....\n",
      "Test set: Epoch: 54, Average loss: 0.0405, Accuracy: 0.3316, Time consumed:14.59s\n",
      "\n",
      "Training Epoch: 55 [50000/50000]\tLoss: 0.5349\tLR: 0.020000\n",
      "epoch 55 training time consumed: 57.39s\n",
      "Evaluating Network.....\n",
      "Test set: Epoch: 55, Average loss: 0.0406, Accuracy: 0.3443, Time consumed:14.70s\n",
      "\n",
      "Training Epoch: 56 [50000/50000]\tLoss: 0.4354\tLR: 0.020000\n",
      "epoch 56 training time consumed: 57.04s\n",
      "Evaluating Network.....\n",
      "Test set: Epoch: 56, Average loss: 0.0406, Accuracy: 0.3444, Time consumed:14.55s\n",
      "\n",
      "Training Epoch: 57 [50000/50000]\tLoss: 0.3310\tLR: 0.020000\n",
      "epoch 57 training time consumed: 57.70s\n",
      "Evaluating Network.....\n",
      "Test set: Epoch: 57, Average loss: 0.0410, Accuracy: 0.3368, Time consumed:14.93s\n",
      "\n",
      "Training Epoch: 58 [50000/50000]\tLoss: 0.3275\tLR: 0.020000\n",
      "epoch 58 training time consumed: 56.78s\n",
      "Evaluating Network.....\n",
      "Test set: Epoch: 58, Average loss: 0.0416, Accuracy: 0.3521, Time consumed:14.59s\n",
      "\n",
      "Training Epoch: 59 [50000/50000]\tLoss: 0.2721\tLR: 0.020000\n",
      "epoch 59 training time consumed: 56.98s\n",
      "Evaluating Network.....\n",
      "Test set: Epoch: 59, Average loss: 0.0385, Accuracy: 0.3414, Time consumed:14.58s\n",
      "\n",
      "Training Epoch: 60 [50000/50000]\tLoss: 0.3498\tLR: 0.020000\n",
      "epoch 60 training time consumed: 57.50s\n",
      "Evaluating Network.....\n",
      "Test set: Epoch: 60, Average loss: 0.0398, Accuracy: 0.3405, Time consumed:14.62s\n",
      "\n",
      "saving weights file to checkpoint\\vgg16\\Sunday_03_December_2023_19h_02m_39s\\vgg16-60-regular.pth\n",
      "Training Epoch: 61 [50000/50000]\tLoss: 0.3023\tLR: 0.020000\n",
      "epoch 61 training time consumed: 57.01s\n",
      "Evaluating Network.....\n",
      "Test set: Epoch: 61, Average loss: 0.0416, Accuracy: 0.3226, Time consumed:14.60s\n",
      "\n",
      "Training Epoch: 62 [50000/50000]\tLoss: 0.4290\tLR: 0.020000\n",
      "epoch 62 training time consumed: 57.10s\n",
      "Evaluating Network.....\n",
      "Test set: Epoch: 62, Average loss: 0.0411, Accuracy: 0.3426, Time consumed:14.50s\n",
      "\n",
      "Training Epoch: 63 [50000/50000]\tLoss: 0.3669\tLR: 0.020000\n",
      "epoch 63 training time consumed: 56.79s\n",
      "Evaluating Network.....\n",
      "Test set: Epoch: 63, Average loss: 0.0393, Accuracy: 0.3524, Time consumed:14.62s\n",
      "\n",
      "Training Epoch: 64 [50000/50000]\tLoss: 0.5092\tLR: 0.020000\n",
      "epoch 64 training time consumed: 57.10s\n",
      "Evaluating Network.....\n",
      "Test set: Epoch: 64, Average loss: 0.0426, Accuracy: 0.3294, Time consumed:14.48s\n",
      "\n",
      "Training Epoch: 65 [50000/50000]\tLoss: 0.3095\tLR: 0.020000\n",
      "epoch 65 training time consumed: 56.63s\n",
      "Evaluating Network.....\n",
      "Test set: Epoch: 65, Average loss: 0.0392, Accuracy: 0.3533, Time consumed:14.70s\n",
      "\n",
      "Training Epoch: 66 [50000/50000]\tLoss: 0.4292\tLR: 0.020000\n",
      "epoch 66 training time consumed: 56.79s\n",
      "Evaluating Network.....\n",
      "Test set: Epoch: 66, Average loss: 0.0412, Accuracy: 0.3377, Time consumed:14.46s\n",
      "\n",
      "Training Epoch: 67 [50000/50000]\tLoss: 0.3254\tLR: 0.020000\n",
      "epoch 67 training time consumed: 56.81s\n",
      "Evaluating Network.....\n",
      "Test set: Epoch: 67, Average loss: 0.0392, Accuracy: 0.3497, Time consumed:14.51s\n",
      "\n",
      "Training Epoch: 68 [50000/50000]\tLoss: 0.3281\tLR: 0.020000\n",
      "epoch 68 training time consumed: 56.97s\n",
      "Evaluating Network.....\n",
      "Test set: Epoch: 68, Average loss: 0.0420, Accuracy: 0.3384, Time consumed:14.51s\n",
      "\n",
      "Training Epoch: 69 [50000/50000]\tLoss: 0.3662\tLR: 0.020000\n",
      "epoch 69 training time consumed: 57.42s\n",
      "Evaluating Network.....\n",
      "Test set: Epoch: 69, Average loss: 0.0405, Accuracy: 0.3462, Time consumed:14.84s\n",
      "\n",
      "Training Epoch: 70 [50000/50000]\tLoss: 0.3773\tLR: 0.020000\n",
      "epoch 70 training time consumed: 57.30s\n",
      "Evaluating Network.....\n",
      "Test set: Epoch: 70, Average loss: 0.0419, Accuracy: 0.3459, Time consumed:14.66s\n",
      "\n",
      "saving weights file to checkpoint\\vgg16\\Sunday_03_December_2023_19h_02m_39s\\vgg16-70-regular.pth\n",
      "Training Epoch: 71 [50000/50000]\tLoss: 0.2752\tLR: 0.020000\n",
      "epoch 71 training time consumed: 56.94s\n",
      "Evaluating Network.....\n",
      "Test set: Epoch: 71, Average loss: 0.0416, Accuracy: 0.3240, Time consumed:14.49s\n",
      "\n",
      "Training Epoch: 72 [50000/50000]\tLoss: 0.2743\tLR: 0.020000\n",
      "epoch 72 training time consumed: 57.12s\n",
      "Evaluating Network.....\n",
      "Test set: Epoch: 72, Average loss: 0.0399, Accuracy: 0.3482, Time consumed:14.55s\n",
      "\n",
      "Training Epoch: 73 [50000/50000]\tLoss: 0.3872\tLR: 0.020000\n",
      "epoch 73 training time consumed: 56.62s\n",
      "Evaluating Network.....\n",
      "Test set: Epoch: 73, Average loss: 0.0396, Accuracy: 0.3450, Time consumed:14.67s\n",
      "\n",
      "Training Epoch: 74 [50000/50000]\tLoss: 0.2486\tLR: 0.020000\n",
      "epoch 74 training time consumed: 56.73s\n",
      "Evaluating Network.....\n",
      "Test set: Epoch: 74, Average loss: 0.0413, Accuracy: 0.3474, Time consumed:14.67s\n",
      "\n",
      "Training Epoch: 75 [50000/50000]\tLoss: 0.2814\tLR: 0.020000\n",
      "epoch 75 training time consumed: 57.06s\n",
      "Evaluating Network.....\n",
      "Test set: Epoch: 75, Average loss: 0.0417, Accuracy: 0.3290, Time consumed:14.66s\n",
      "\n",
      "Training Epoch: 76 [50000/50000]\tLoss: 0.2879\tLR: 0.020000\n",
      "epoch 76 training time consumed: 57.11s\n",
      "Evaluating Network.....\n",
      "Test set: Epoch: 76, Average loss: 0.0405, Accuracy: 0.3423, Time consumed:14.71s\n",
      "\n",
      "Training Epoch: 77 [50000/50000]\tLoss: 0.2948\tLR: 0.020000\n",
      "epoch 77 training time consumed: 57.32s\n",
      "Evaluating Network.....\n",
      "Test set: Epoch: 77, Average loss: 0.0403, Accuracy: 0.3522, Time consumed:14.63s\n",
      "\n",
      "Training Epoch: 78 [50000/50000]\tLoss: 0.2387\tLR: 0.020000\n",
      "epoch 78 training time consumed: 56.95s\n",
      "Evaluating Network.....\n",
      "Test set: Epoch: 78, Average loss: 0.0385, Accuracy: 0.3449, Time consumed:14.50s\n",
      "\n",
      "Training Epoch: 79 [50000/50000]\tLoss: 0.2706\tLR: 0.020000\n",
      "epoch 79 training time consumed: 57.30s\n",
      "Evaluating Network.....\n",
      "Test set: Epoch: 79, Average loss: 0.0406, Accuracy: 0.3490, Time consumed:14.58s\n",
      "\n",
      "Training Epoch: 80 [50000/50000]\tLoss: 0.0084\tLR: 0.004000\n",
      "epoch 80 training time consumed: 57.29s\n",
      "Evaluating Network.....\n",
      "Test set: Epoch: 80, Average loss: 0.0382, Accuracy: 0.3923, Time consumed:14.59s\n",
      "\n",
      "saving weights file to checkpoint\\vgg16\\Sunday_03_December_2023_19h_02m_39s\\vgg16-80-regular.pth\n",
      "Training Epoch: 81 [50000/50000]\tLoss: 0.0144\tLR: 0.004000\n",
      "epoch 81 training time consumed: 57.36s\n",
      "Evaluating Network.....\n",
      "Test set: Epoch: 81, Average loss: 0.0392, Accuracy: 0.3960, Time consumed:14.66s\n",
      "\n",
      "saving weights file to checkpoint\\vgg16\\Sunday_03_December_2023_19h_02m_39s\\vgg16-81-best.pth\n",
      "Training Epoch: 82 [50000/50000]\tLoss: 0.0052\tLR: 0.004000\n",
      "epoch 82 training time consumed: 56.94s\n",
      "Evaluating Network.....\n",
      "Test set: Epoch: 82, Average loss: 0.0400, Accuracy: 0.3942, Time consumed:14.61s\n",
      "\n",
      "Training Epoch: 83 [50000/50000]\tLoss: 0.0044\tLR: 0.004000\n",
      "epoch 83 training time consumed: 56.85s\n",
      "Evaluating Network.....\n",
      "Test set: Epoch: 83, Average loss: 0.0400, Accuracy: 0.3966, Time consumed:14.47s\n",
      "\n",
      "saving weights file to checkpoint\\vgg16\\Sunday_03_December_2023_19h_02m_39s\\vgg16-83-best.pth\n",
      "Training Epoch: 84 [50000/50000]\tLoss: 0.0041\tLR: 0.004000\n",
      "epoch 84 training time consumed: 56.53s\n",
      "Evaluating Network.....\n",
      "Test set: Epoch: 84, Average loss: 0.0396, Accuracy: 0.3976, Time consumed:14.80s\n",
      "\n",
      "saving weights file to checkpoint\\vgg16\\Sunday_03_December_2023_19h_02m_39s\\vgg16-84-best.pth\n",
      "Training Epoch: 85 [50000/50000]\tLoss: 0.0043\tLR: 0.004000\n",
      "epoch 85 training time consumed: 56.71s\n",
      "Evaluating Network.....\n",
      "Test set: Epoch: 85, Average loss: 0.0396, Accuracy: 0.3960, Time consumed:14.59s\n",
      "\n",
      "Training Epoch: 86 [50000/50000]\tLoss: 0.0131\tLR: 0.004000\n",
      "epoch 86 training time consumed: 57.02s\n",
      "Evaluating Network.....\n",
      "Test set: Epoch: 86, Average loss: 0.0400, Accuracy: 0.3961, Time consumed:14.60s\n",
      "\n",
      "Training Epoch: 87 [50000/50000]\tLoss: 0.0022\tLR: 0.004000\n",
      "epoch 87 training time consumed: 57.49s\n",
      "Evaluating Network.....\n",
      "Test set: Epoch: 87, Average loss: 0.0398, Accuracy: 0.3974, Time consumed:14.61s\n",
      "\n",
      "Training Epoch: 88 [50000/50000]\tLoss: 0.0016\tLR: 0.004000\n",
      "epoch 88 training time consumed: 56.85s\n",
      "Evaluating Network.....\n",
      "Test set: Epoch: 88, Average loss: 0.0393, Accuracy: 0.3971, Time consumed:14.51s\n",
      "\n",
      "Training Epoch: 89 [50000/50000]\tLoss: 0.0032\tLR: 0.004000\n",
      "epoch 89 training time consumed: 56.76s\n",
      "Evaluating Network.....\n",
      "Test set: Epoch: 89, Average loss: 0.0393, Accuracy: 0.3972, Time consumed:14.59s\n",
      "\n",
      "Training Epoch: 90 [50000/50000]\tLoss: 0.0221\tLR: 0.004000\n",
      "epoch 90 training time consumed: 57.35s\n",
      "Evaluating Network.....\n",
      "Test set: Epoch: 90, Average loss: 0.0390, Accuracy: 0.3974, Time consumed:14.47s\n",
      "\n",
      "saving weights file to checkpoint\\vgg16\\Sunday_03_December_2023_19h_02m_39s\\vgg16-90-regular.pth\n",
      "Training Epoch: 91 [50000/50000]\tLoss: 0.0019\tLR: 0.004000\n",
      "epoch 91 training time consumed: 57.33s\n",
      "Evaluating Network.....\n",
      "Test set: Epoch: 91, Average loss: 0.0395, Accuracy: 0.3952, Time consumed:14.54s\n",
      "\n",
      "Training Epoch: 92 [50000/50000]\tLoss: 0.0021\tLR: 0.004000\n",
      "epoch 92 training time consumed: 60.86s\n",
      "Evaluating Network.....\n",
      "Test set: Epoch: 92, Average loss: 0.0388, Accuracy: 0.3980, Time consumed:15.16s\n",
      "\n",
      "saving weights file to checkpoint\\vgg16\\Sunday_03_December_2023_19h_02m_39s\\vgg16-92-best.pth\n",
      "Training Epoch: 93 [50000/50000]\tLoss: 0.0035\tLR: 0.004000\n",
      "epoch 93 training time consumed: 71.68s\n",
      "Evaluating Network.....\n",
      "Test set: Epoch: 93, Average loss: 0.0386, Accuracy: 0.3971, Time consumed:16.41s\n",
      "\n",
      "Training Epoch: 94 [50000/50000]\tLoss: 0.0021\tLR: 0.004000\n",
      "epoch 94 training time consumed: 66.99s\n",
      "Evaluating Network.....\n",
      "Test set: Epoch: 94, Average loss: 0.0385, Accuracy: 0.3987, Time consumed:15.54s\n",
      "\n",
      "saving weights file to checkpoint\\vgg16\\Sunday_03_December_2023_19h_02m_39s\\vgg16-94-best.pth\n",
      "Training Epoch: 95 [50000/50000]\tLoss: 0.0047\tLR: 0.004000\n",
      "epoch 95 training time consumed: 71.16s\n",
      "Evaluating Network.....\n",
      "Test set: Epoch: 95, Average loss: 0.0390, Accuracy: 0.3977, Time consumed:16.71s\n",
      "\n",
      "Training Epoch: 96 [50000/50000]\tLoss: 0.0021\tLR: 0.004000\n",
      "epoch 96 training time consumed: 67.17s\n",
      "Evaluating Network.....\n",
      "Test set: Epoch: 96, Average loss: 0.0386, Accuracy: 0.3992, Time consumed:17.14s\n",
      "\n",
      "saving weights file to checkpoint\\vgg16\\Sunday_03_December_2023_19h_02m_39s\\vgg16-96-best.pth\n",
      "Training Epoch: 97 [50000/50000]\tLoss: 0.0051\tLR: 0.004000\n",
      "epoch 97 training time consumed: 68.10s\n",
      "Evaluating Network.....\n",
      "Test set: Epoch: 97, Average loss: 0.0390, Accuracy: 0.3976, Time consumed:14.84s\n",
      "\n",
      "Training Epoch: 98 [50000/50000]\tLoss: 0.0027\tLR: 0.004000\n",
      "epoch 98 training time consumed: 60.65s\n",
      "Evaluating Network.....\n",
      "Test set: Epoch: 98, Average loss: 0.0383, Accuracy: 0.3981, Time consumed:14.56s\n",
      "\n",
      "Training Epoch: 99 [50000/50000]\tLoss: 0.0038\tLR: 0.004000\n",
      "epoch 99 training time consumed: 58.11s\n",
      "Evaluating Network.....\n",
      "Test set: Epoch: 99, Average loss: 0.0385, Accuracy: 0.4001, Time consumed:14.55s\n",
      "\n",
      "saving weights file to checkpoint\\vgg16\\Sunday_03_December_2023_19h_02m_39s\\vgg16-99-best.pth\n",
      "Training Epoch: 100 [50000/50000]\tLoss: 0.0022\tLR: 0.004000\n",
      "epoch 100 training time consumed: 59.88s\n",
      "Evaluating Network.....\n",
      "Test set: Epoch: 100, Average loss: 0.0378, Accuracy: 0.4014, Time consumed:15.95s\n",
      "\n",
      "saving weights file to checkpoint\\vgg16\\Sunday_03_December_2023_19h_02m_39s\\vgg16-100-best.pth\n",
      "Training Epoch: 101 [50000/50000]\tLoss: 0.0021\tLR: 0.004000\n",
      "epoch 101 training time consumed: 58.36s\n",
      "Evaluating Network.....\n",
      "Test set: Epoch: 101, Average loss: 0.0381, Accuracy: 0.3989, Time consumed:14.73s\n",
      "\n",
      "Training Epoch: 102 [50000/50000]\tLoss: 0.0022\tLR: 0.004000\n",
      "epoch 102 training time consumed: 59.27s\n",
      "Evaluating Network.....\n",
      "Test set: Epoch: 102, Average loss: 0.0385, Accuracy: 0.3971, Time consumed:15.07s\n",
      "\n",
      "Training Epoch: 103 [50000/50000]\tLoss: 0.0023\tLR: 0.004000\n",
      "epoch 103 training time consumed: 62.30s\n",
      "Evaluating Network.....\n",
      "Test set: Epoch: 103, Average loss: 0.0375, Accuracy: 0.4000, Time consumed:14.91s\n",
      "\n",
      "Training Epoch: 104 [50000/50000]\tLoss: 0.0024\tLR: 0.004000\n",
      "epoch 104 training time consumed: 60.59s\n",
      "Evaluating Network.....\n",
      "Test set: Epoch: 104, Average loss: 0.0381, Accuracy: 0.3993, Time consumed:15.03s\n",
      "\n",
      "Training Epoch: 105 [50000/50000]\tLoss: 0.0187\tLR: 0.004000\n",
      "epoch 105 training time consumed: 59.29s\n",
      "Evaluating Network.....\n",
      "Test set: Epoch: 105, Average loss: 0.0380, Accuracy: 0.4000, Time consumed:14.74s\n",
      "\n",
      "Training Epoch: 106 [50000/50000]\tLoss: 0.0065\tLR: 0.004000\n",
      "epoch 106 training time consumed: 63.40s\n",
      "Evaluating Network.....\n",
      "Test set: Epoch: 106, Average loss: 0.0380, Accuracy: 0.4020, Time consumed:14.85s\n",
      "\n",
      "saving weights file to checkpoint\\vgg16\\Sunday_03_December_2023_19h_02m_39s\\vgg16-106-best.pth\n",
      "Training Epoch: 107 [50000/50000]\tLoss: 0.0021\tLR: 0.004000\n",
      "epoch 107 training time consumed: 59.72s\n",
      "Evaluating Network.....\n",
      "Test set: Epoch: 107, Average loss: 0.0377, Accuracy: 0.4009, Time consumed:14.53s\n",
      "\n",
      "Training Epoch: 108 [50000/50000]\tLoss: 0.0024\tLR: 0.004000\n",
      "epoch 108 training time consumed: 57.55s\n",
      "Evaluating Network.....\n",
      "Test set: Epoch: 108, Average loss: 0.0373, Accuracy: 0.4007, Time consumed:14.43s\n",
      "\n",
      "Training Epoch: 109 [50000/50000]\tLoss: 0.0028\tLR: 0.004000\n",
      "epoch 109 training time consumed: 58.91s\n",
      "Evaluating Network.....\n",
      "Test set: Epoch: 109, Average loss: 0.0384, Accuracy: 0.3999, Time consumed:14.93s\n",
      "\n",
      "Training Epoch: 110 [50000/50000]\tLoss: 0.0023\tLR: 0.000800\n",
      "epoch 110 training time consumed: 58.98s\n",
      "Evaluating Network.....\n",
      "Test set: Epoch: 110, Average loss: 0.0381, Accuracy: 0.3986, Time consumed:14.85s\n",
      "\n",
      "saving weights file to checkpoint\\vgg16\\Sunday_03_December_2023_19h_02m_39s\\vgg16-110-regular.pth\n",
      "Training Epoch: 111 [50000/50000]\tLoss: 0.0025\tLR: 0.000800\n",
      "epoch 111 training time consumed: 60.95s\n",
      "Evaluating Network.....\n",
      "Test set: Epoch: 111, Average loss: 0.0383, Accuracy: 0.3988, Time consumed:15.05s\n",
      "\n",
      "Training Epoch: 112 [50000/50000]\tLoss: 0.0049\tLR: 0.000800\n",
      "epoch 112 training time consumed: 56.50s\n",
      "Evaluating Network.....\n",
      "Test set: Epoch: 112, Average loss: 0.0374, Accuracy: 0.3999, Time consumed:14.61s\n",
      "\n",
      "Training Epoch: 113 [50000/50000]\tLoss: 0.0018\tLR: 0.000800\n",
      "epoch 113 training time consumed: 55.58s\n",
      "Evaluating Network.....\n",
      "Test set: Epoch: 113, Average loss: 0.0385, Accuracy: 0.4014, Time consumed:15.82s\n",
      "\n",
      "Training Epoch: 114 [50000/50000]\tLoss: 0.0018\tLR: 0.000800\n",
      "epoch 114 training time consumed: 58.61s\n",
      "Evaluating Network.....\n",
      "Test set: Epoch: 114, Average loss: 0.0383, Accuracy: 0.3989, Time consumed:14.68s\n",
      "\n",
      "Training Epoch: 115 [50000/50000]\tLoss: 0.0021\tLR: 0.000800\n",
      "epoch 115 training time consumed: 60.70s\n",
      "Evaluating Network.....\n",
      "Test set: Epoch: 115, Average loss: 0.0380, Accuracy: 0.3982, Time consumed:14.66s\n",
      "\n",
      "Training Epoch: 116 [50000/50000]\tLoss: 0.0241\tLR: 0.000800\n",
      "epoch 116 training time consumed: 57.78s\n",
      "Evaluating Network.....\n",
      "Test set: Epoch: 116, Average loss: 0.0371, Accuracy: 0.4021, Time consumed:14.77s\n",
      "\n",
      "saving weights file to checkpoint\\vgg16\\Sunday_03_December_2023_19h_02m_39s\\vgg16-116-best.pth\n",
      "Training Epoch: 117 [50000/50000]\tLoss: 0.0024\tLR: 0.000800\n",
      "epoch 117 training time consumed: 58.18s\n",
      "Evaluating Network.....\n",
      "Test set: Epoch: 117, Average loss: 0.0380, Accuracy: 0.4021, Time consumed:14.57s\n",
      "\n",
      "Training Epoch: 118 [50000/50000]\tLoss: 0.0024\tLR: 0.000800\n",
      "epoch 118 training time consumed: 57.96s\n",
      "Evaluating Network.....\n",
      "Test set: Epoch: 118, Average loss: 0.0379, Accuracy: 0.3995, Time consumed:14.66s\n",
      "\n",
      "Training Epoch: 119 [50000/50000]\tLoss: 0.0024\tLR: 0.000800\n",
      "epoch 119 training time consumed: 57.60s\n",
      "Evaluating Network.....\n",
      "Test set: Epoch: 119, Average loss: 0.0379, Accuracy: 0.4008, Time consumed:14.64s\n",
      "\n",
      "Training Epoch: 120 [50000/50000]\tLoss: 0.0026\tLR: 0.000800\n",
      "epoch 120 training time consumed: 57.62s\n",
      "Evaluating Network.....\n",
      "Test set: Epoch: 120, Average loss: 0.0375, Accuracy: 0.4002, Time consumed:14.72s\n",
      "\n",
      "saving weights file to checkpoint\\vgg16\\Sunday_03_December_2023_19h_02m_39s\\vgg16-120-regular.pth\n",
      "Training Epoch: 121 [50000/50000]\tLoss: 0.0034\tLR: 0.000800\n",
      "epoch 121 training time consumed: 57.10s\n",
      "Evaluating Network.....\n",
      "Test set: Epoch: 121, Average loss: 0.0383, Accuracy: 0.3984, Time consumed:15.03s\n",
      "\n",
      "Training Epoch: 122 [50000/50000]\tLoss: 0.0023\tLR: 0.000800\n",
      "epoch 122 training time consumed: 58.39s\n",
      "Evaluating Network.....\n",
      "Test set: Epoch: 122, Average loss: 0.0380, Accuracy: 0.3991, Time consumed:14.68s\n",
      "\n",
      "Training Epoch: 123 [50000/50000]\tLoss: 0.0025\tLR: 0.000800\n",
      "epoch 123 training time consumed: 58.84s\n",
      "Evaluating Network.....\n",
      "Test set: Epoch: 123, Average loss: 0.0378, Accuracy: 0.4000, Time consumed:14.79s\n",
      "\n",
      "Training Epoch: 124 [50000/50000]\tLoss: 0.0035\tLR: 0.000800\n",
      "epoch 124 training time consumed: 56.32s\n",
      "Evaluating Network.....\n",
      "Test set: Epoch: 124, Average loss: 0.0378, Accuracy: 0.3994, Time consumed:14.91s\n",
      "\n",
      "Training Epoch: 125 [50000/50000]\tLoss: 0.0026\tLR: 0.000800\n",
      "epoch 125 training time consumed: 57.10s\n",
      "Evaluating Network.....\n",
      "Test set: Epoch: 125, Average loss: 0.0380, Accuracy: 0.3989, Time consumed:14.59s\n",
      "\n",
      "Training Epoch: 126 [50000/50000]\tLoss: 0.0019\tLR: 0.000800\n",
      "epoch 126 training time consumed: 57.31s\n",
      "Evaluating Network.....\n",
      "Test set: Epoch: 126, Average loss: 0.0377, Accuracy: 0.3997, Time consumed:14.54s\n",
      "\n",
      "Training Epoch: 127 [50000/50000]\tLoss: 0.0022\tLR: 0.000800\n",
      "epoch 127 training time consumed: 57.23s\n",
      "Evaluating Network.....\n",
      "Test set: Epoch: 127, Average loss: 0.0373, Accuracy: 0.4021, Time consumed:14.65s\n",
      "\n",
      "Training Epoch: 128 [50000/50000]\tLoss: 0.0022\tLR: 0.000800\n",
      "epoch 128 training time consumed: 57.15s\n",
      "Evaluating Network.....\n",
      "Test set: Epoch: 128, Average loss: 0.0373, Accuracy: 0.4029, Time consumed:14.80s\n",
      "\n",
      "saving weights file to checkpoint\\vgg16\\Sunday_03_December_2023_19h_02m_39s\\vgg16-128-best.pth\n",
      "Training Epoch: 129 [50000/50000]\tLoss: 0.0232\tLR: 0.000800\n",
      "epoch 129 training time consumed: 57.76s\n",
      "Evaluating Network.....\n",
      "Test set: Epoch: 129, Average loss: 0.0380, Accuracy: 0.3978, Time consumed:14.51s\n",
      "\n",
      "Training Epoch: 130 [50000/50000]\tLoss: 0.0046\tLR: 0.000800\n",
      "epoch 130 training time consumed: 57.40s\n",
      "Evaluating Network.....\n",
      "Test set: Epoch: 130, Average loss: 0.0377, Accuracy: 0.3998, Time consumed:14.63s\n",
      "\n",
      "saving weights file to checkpoint\\vgg16\\Sunday_03_December_2023_19h_02m_39s\\vgg16-130-regular.pth\n",
      "Training Epoch: 131 [50000/50000]\tLoss: 0.0025\tLR: 0.000800\n",
      "epoch 131 training time consumed: 57.85s\n",
      "Evaluating Network.....\n",
      "Test set: Epoch: 131, Average loss: 0.0371, Accuracy: 0.4036, Time consumed:14.65s\n",
      "\n",
      "saving weights file to checkpoint\\vgg16\\Sunday_03_December_2023_19h_02m_39s\\vgg16-131-best.pth\n",
      "Training Epoch: 132 [50000/50000]\tLoss: 0.0028\tLR: 0.000800\n",
      "epoch 132 training time consumed: 57.69s\n",
      "Evaluating Network.....\n",
      "Test set: Epoch: 132, Average loss: 0.0376, Accuracy: 0.4018, Time consumed:14.58s\n",
      "\n",
      "Training Epoch: 133 [50000/50000]\tLoss: 0.0023\tLR: 0.000800\n",
      "epoch 133 training time consumed: 57.74s\n",
      "Evaluating Network.....\n",
      "Test set: Epoch: 133, Average loss: 0.0377, Accuracy: 0.3990, Time consumed:14.64s\n",
      "\n",
      "Training Epoch: 134 [50000/50000]\tLoss: 0.0038\tLR: 0.000800\n",
      "epoch 134 training time consumed: 57.86s\n",
      "Evaluating Network.....\n",
      "Test set: Epoch: 134, Average loss: 0.0372, Accuracy: 0.4019, Time consumed:15.39s\n",
      "\n",
      "Training Epoch: 135 [50000/50000]\tLoss: 0.0027\tLR: 0.000800\n",
      "epoch 135 training time consumed: 62.77s\n",
      "Evaluating Network.....\n",
      "Test set: Epoch: 135, Average loss: 0.0374, Accuracy: 0.4013, Time consumed:14.75s\n",
      "\n",
      "Training Epoch: 136 [50000/50000]\tLoss: 0.0028\tLR: 0.000800\n",
      "epoch 136 training time consumed: 60.53s\n",
      "Evaluating Network.....\n",
      "Test set: Epoch: 136, Average loss: 0.0377, Accuracy: 0.3984, Time consumed:14.45s\n",
      "\n",
      "Training Epoch: 137 [50000/50000]\tLoss: 0.0019\tLR: 0.000800\n",
      "epoch 137 training time consumed: 59.50s\n",
      "Evaluating Network.....\n",
      "Test set: Epoch: 137, Average loss: 0.0379, Accuracy: 0.4001, Time consumed:14.48s\n",
      "\n",
      "Training Epoch: 138 [50000/50000]\tLoss: 0.0030\tLR: 0.000800\n",
      "epoch 138 training time consumed: 57.53s\n",
      "Evaluating Network.....\n",
      "Test set: Epoch: 138, Average loss: 0.0371, Accuracy: 0.3999, Time consumed:14.70s\n",
      "\n",
      "Training Epoch: 139 [50000/50000]\tLoss: 0.0023\tLR: 0.000800\n",
      "epoch 139 training time consumed: 59.50s\n",
      "Evaluating Network.....\n",
      "Test set: Epoch: 139, Average loss: 0.0363, Accuracy: 0.4032, Time consumed:14.61s\n",
      "\n",
      "Training Epoch: 140 [50000/50000]\tLoss: 0.0047\tLR: 0.000800\n",
      "epoch 140 training time consumed: 57.38s\n",
      "Evaluating Network.....\n",
      "Test set: Epoch: 140, Average loss: 0.0373, Accuracy: 0.4012, Time consumed:14.72s\n",
      "\n",
      "saving weights file to checkpoint\\vgg16\\Sunday_03_December_2023_19h_02m_39s\\vgg16-140-regular.pth\n"
     ]
    }
   ],
   "source": [
    "from train_changedata import main\n",
    "\n",
    "best_acc, confusion_matrix , best_f1, best_recall = main(train_dataset= new_cifar)"
   ]
  },
  {
   "cell_type": "code",
   "execution_count": 19,
   "metadata": {},
   "outputs": [
    {
     "name": "stdout",
     "output_type": "stream",
     "text": [
      "best accuracy: tensor(0.4036, device='cuda:0')\n",
      "best f1score tensor(0.4036)\n",
      "best recall tensor(0.4036)\n",
      "[[52  0  0 ...  0  0  0]\n",
      " [ 0 10  0 ...  0  1  2]\n",
      " [ 0  0 15 ...  1 30  0]\n",
      " ...\n",
      " [ 0  0  0 ... 55  0  0]\n",
      " [ 0  0  1 ...  1 56  1]\n",
      " [ 0  0  1 ...  0  0 53]]\n"
     ]
    },
    {
     "data": {
      "image/png": "[encoded data removed]",
      "text/plain": [
       "<Figure size 800x600 with 1 Axes>"
      ]
     },
     "metadata": {},
     "output_type": "display_data"
    }
   ],
   "source": [
    "print('best accuracy:',best_acc)\n",
    "print('best f1score',best_f1)\n",
    "print('best recall',best_recall)\n",
    "\n",
    "print(confusion_matrix)\n",
    "import matplotlib.pyplot as plt\n",
    "\n",
    "classes = range(100)\n",
    "fig, ax = plt.subplots(1,1,figsize=(8,6))\n",
    "ax.matshow(confusion_matrix, aspect='auto', vmin=0, vmax=1000, cmap=plt.get_cmap('Blues'))\n",
    "plt.ylabel('Actual Category')\n",
    "plt.yticks(range(100), classes)\n",
    "plt.xlabel('Predicted Category')\n",
    "plt.xticks(range(100), classes)\n",
    "plt.show()"
   ]
  },
  {
   "cell_type": "markdown",
   "metadata": {},
   "source": [
    "### train on subset"
   ]
  },
  {
   "cell_type": "code",
   "execution_count": 20,
   "id": "677f3c49",
   "metadata": {},
   "outputs": [
    {
     "name": "stderr",
     "output_type": "stream",
     "text": [
      "Subset Selection:: 100%|██████████| 99/99 [00:03<00:00, 26.90it/s]"
     ]
    },
    {
     "name": "stdout",
     "output_type": "stream",
     "text": [
      "Subset Size: 40000\n",
      "Discarded 10000 examples\n"
     ]
    },
    {
     "name": "stderr",
     "output_type": "stream",
     "text": [
      "\n"
     ]
    }
   ],
   "source": [
    "import torch\n",
    "net = torch.load(\"proxy-cifar100-resnet10-399-net.pt\", map_location=torch.device('cuda:0'))\n",
    "critic = torch.load(\"proxy-cifar100-resnet10-399-critic.pt\", map_location=torch.device('cuda:0'))\n",
    "proxy_model = ProxyModel(net, critic)\n",
    "device = \"cuda:0\"\n",
    "     \n",
    "subset_dataset_new = SASSubsetDataset(\n",
    "    dataset=new_cifar,\n",
    "    subset_fraction=0.8,\n",
    "    num_downstream_classes=100,\n",
    "    device=device,\n",
    "    proxy_model=proxy_model,\n",
    "    approx_latent_class_partition=partition,\n",
    "    verbose=True\n",
    ")"
   ]
  },
  {
   "cell_type": "code",
   "execution_count": 21,
   "id": "ea159958",
   "metadata": {},
   "outputs": [
    {
     "data": {
      "text/plain": [
       "39962"
      ]
     },
     "execution_count": 21,
     "metadata": {},
     "output_type": "execute_result"
    }
   ],
   "source": [
    "len(subset_dataset_new.subset_indices)"
   ]
  },
  {
   "cell_type": "code",
   "execution_count": 148,
   "id": "266ed259",
   "metadata": {},
   "outputs": [
    {
     "name": "stdout",
     "output_type": "stream",
     "text": [
      "{0: 62, 1: 180, 2: 138, 3: 150, 4: 178, 5: 177, 6: 100, 7: 92, 8: 55, 9: 60, 10: 99, 11: 110, 12: 80, 13: 28, 14: 149, 15: 138, 16: 40, 17: 90, 18: 184, 19: 125, 20: 53, 21: 178, 22: 33, 23: 136, 24: 40, 25: 141, 26: 147, 27: 198, 28: 132, 29: 73, 30: 176, 31: 163, 32: 175, 33: 111, 34: 186, 35: 125, 36: 163, 37: 61, 38: 177, 39: 37, 40: 171, 41: 52, 42: 106, 43: 153, 44: 162, 45: 98, 46: 134, 47: 83, 48: 42, 49: 180, 50: 177, 51: 82, 52: 3, 53: 3, 54: 58, 55: 175, 56: 25, 57: 50, 58: 19, 59: 13, 60: 33, 61: 10, 62: 34, 63: 123, 64: 145, 65: 178, 66: 100, 67: 171, 68: 21, 69: 151, 70: 29, 71: 91, 72: 137, 73: 129, 74: 195, 75: 72, 76: 107, 77: 138, 78: 60, 79: 212, 80: 191, 81: 15, 82: 19, 83: 22, 84: 52, 85: 41, 86: 22, 87: 67, 88: 64, 89: 25, 90: 33, 91: 102, 92: 58, 93: 131, 94: 17, 95: 107, 96: 40, 97: 94, 98: 69, 99: 127}\n"
     ]
    }
   ],
   "source": [
    "count_new = {}\n",
    "for x,y in subset_dataset_new:\n",
    "    if y not in count_new:\n",
    "        count_new[y] = 1\n",
    "    else:\n",
    "        count_new[y]+=1\n",
    "\n",
    "Keys = list(count_new.keys())\n",
    "Keys.sort()\n",
    "sorted_dict_new = {i: count_new[i] for i in Keys}\n",
    "print(sorted_dict_new)"
   ]
  },
  {
   "cell_type": "code",
   "execution_count": 149,
   "id": "934591b5",
   "metadata": {},
   "outputs": [
    {
     "name": "stdout",
     "output_type": "stream",
     "text": [
      "5921 4037\n"
     ]
    }
   ],
   "source": [
    "num_less50 = 0\n",
    "num_bigger50 = 0\n",
    "\n",
    "for i in Keys:\n",
    "    if i < 50:\n",
    "        num_less50 += count_new[i]\n",
    "    else:\n",
    "        num_bigger50 += count_new[i]\n",
    "        \n",
    "print(num_less50, num_bigger50)"
   ]
  },
  {
   "cell_type": "code",
   "execution_count": 151,
   "id": "3085ab3c",
   "metadata": {
    "collapsed": true
   },
   "outputs": [
    {
     "name": "stdout",
     "output_type": "stream",
     "text": [
      "[45771, 16569, 34922, 26385, 16186, 28639, 29780, 12800, 27538, 20138, 26261, 5824, 46290, 28954, 30777, 1850, 9423, 41699, 44006, 8360, 20214, 18628, 3840, 9482, 44742, 10093, 30729, 31415, 41367, 40658, 25588, 9878, 48051, 31790, 22153, 42125, 49453, 6658, 32015, 7709, 47308, 28138, 1279, 17847, 4038, 25838, 25925, 35874, 9561, 44531, 30452, 15104, 27045, 4410, 15279, 7009, 29824, 48061, 8252, 37140, 46215, 5920, 2412, 39578, 9420, 3718, 27164, 41938, 48275, 5979, 10746, 15984, 1821, 1749, 34290, 14583, 0, 34017, 34999, 7706, 37176, 37308, 35624, 44140, 38484, 41243, 48889, 18660, 40743, 15495, 48472, 13710, 25069, 15493, 33559, 42867, 38287, 39074, 44475, 21853, 243, 180, 2200, 41840, 34119, 30909, 1177, 28922, 35275, 22955, 43053, 3225, 46156, 32295, 1, 14307, 2622, 8789, 14605, 43105, 42411, 4737, 46138, 3171, 38046, 16221, 22477, 48436, 8504, 1904, 18030, 36573, 2348, 4001, 41592, 33896, 15542, 41777, 49987, 20747, 43521, 9726, 29943, 11706, 23569, 43168, 711, 677, 238, 27433, 10037, 6438, 3723, 16942, 4480, 35739, 35971, 7059, 25053, 11349, 20402, 14513, 353, 42441, 22906, 43177, 7155, 28058, 33137, 44327, 23137, 14688, 19745, 40928, 13342, 15777, 46039, 17245, 41947, 31134, 47215, 48001, 8512, 3057, 19134, 29399, 41396, 42631, 10958, 14444, 18223, 8065, 15813, 22030, 30064, 459, 16785, 38482, 18744, 4200, 34660, 4990, 24192, 30442, 26819, 49554, 32076, 31966, 21328, 14869, 13622, 42660, 42077, 27636, 33690, 45171, 48562, 7498, 33148, 24160, 31398, 15701, 3936, 27759, 48138, 21752, 822, 49883, 34631, 11943, 4691, 48751, 39278, 27459, 15105, 19245, 44606, 32404, 37812, 16633, 48395, 22545, 45103, 42445, 1626, 2264, 7136, 24134, 26006, 41248, 36693, 49497, 15085, 2500, 15758, 34921, 42738, 16844, 28581, 38333, 13214, 6707, 28121, 34782, 6406, 28281, 355, 22024, 33661, 45509, 27519, 49930, 20975, 17456, 44933, 30748, 1664, 37573, 23683, 31348, 30166, 1908, 47339, 44409, 37736, 25065, 19281, 4897, 34095, 6692, 39427, 37015, 28354, 2535, 23859, 8621, 31495, 16582, 20082, 23702, 11620, 10855, 49625, 22963, 22712, 39415, 45925, 26940, 16495, 16697, 12359, 23869, 29771, 36549, 41797, 29423, 2270, 1992, 35109, 43943, 3131, 36905, 25745, 25402, 48528, 21782, 8335, 9473, 39900, 37975, 32679, 20888, 44449, 25293, 12394, 9443, 31089, 3931, 43473, 25405, 39412, 22047, 21874, 26761, 8646, 49768, 48020, 4011, 24695, 45304, 11508, 32475, 39715, 41393, 65, 4994, 12629, 34814, 20270, 35300, 7033, 42791, 48893, 38732, 49967, 40626, 26123, 19515, 40147, 4366, 15992, 4099, 12270, 16248, 18029, 31754, 37914, 16350, 44919, 41660, 18022, 44565, 36626, 33720, 45411, 7216, 11912, 12107, 34489, 35464, 46398, 42839, 38361, 47889, 4934, 26817, 21591, 4203, 18371, 48054, 36180, 7252, 23186, 34795, 42852, 14797, 4750, 6825, 6657, 24706, 23597, 5226, 30167, 19410, 42983, 34642, 1648, 41959, 48848, 254, 3351, 15457, 14556, 879, 39055, 5185, 45300, 29541, 14294, 10445, 18385, 23578, 37302, 32459, 5582, 49687, 13816, 35438, 47959, 14059, 18732, 30372, 25138, 552, 40955, 3904, 31708, 49364, 7444, 33003, 21102, 8649, 49062, 3654, 11228, 45292, 6575, 25639, 31142, 8045, 36923, 22667, 14921, 38680, 24879, 27647, 48977, 31554, 6627, 36904, 9057, 20883, 29369, 39325, 10979, 3884, 9188, 4504, 8946, 16576, 6069, 20079, 13693, 45754, 11105, 45121, 2037, 21635, 21306, 46531, 11596, 43431, 17841, 15870, 16665, 6377, 31316, 23791, 44671, 14828, 41380, 42897, 35216, 18355, 32343, 44841, 43636, 1504, 816, 858, 24395, 41922, 5200, 10559, 31755, 44694, 13334, 12323, 28147, 31982, 28047, 38182, 3201, 21437, 25341, 30848, 4866, 40556, 33032, 19742, 32689, 15817, 36852, 7919, 39402, 35243, 32179, 36710, 4042, 25357, 37347, 11816, 20361, 32132, 19699, 28399, 45863, 37777, 39698, 33742, 23832, 27679, 34056, 41304, 41904, 44226, 30557, 29406, 41795, 20778, 15728, 25698, 16304, 34889, 14241, 36023, 45053, 29373, 14035, 9860, 23134, 26106, 48927, 10305, 4089, 15753, 6166, 14876, 34475, 36375, 17467, 6755, 38837, 22441, 29957, 18607, 49571, 9703, 12816, 20344, 41430, 49284, 26919, 41259, 6934, 6810, 5623, 34132, 18818, 18217, 19940, 26660, 20411, 3523, 6826, 41286, 35668, 22578, 48500, 41318, 41883, 6569, 35691, 34858, 17491, 27572, 8449, 19806, 48173, 45740, 36019, 19484, 21164, 14620, 46777, 32286, 29685, 21041, 37959, 34237, 18347, 28080, 44969, 21811, 17256, 44165, 41854, 22832, 10788, 48362, 24693, 6042, 22179, 6642, 14588, 8196, 48756, 21672, 18361, 25849, 24262, 38461, 22533, 3688, 40653, 43175, 36955, 12462, 9046, 46313, 6844, 21836, 3380, 33306, 11496, 10675, 43256, 14079, 26641, 11980, 7377, 34680, 41041, 9075, 39975, 40290, 19153, 33775, 7794, 22151, 25379, 19310, 29742, 30218, 1645, 20591, 46443, 38032, 9183, 25017, 29, 15741, 36896, 47262, 38756, 7488, 19990, 46263, 35899, 14386, 8612, 3197, 5423, 45987, 30498, 17835, 33723, 23903, 22822, 2855, 6480, 39718, 25187, 38374, 8911, 18769, 45527, 16293, 34308, 32503, 23651, 5138, 6221, 37407, 33399, 24530, 41700, 24971, 12472, 12442, 22037, 41389, 35270, 18312, 43871, 8977, 38372, 49725, 17615, 48165, 13445, 12970, 26821, 17611, 8177, 39329, 1871, 22325, 43846, 49417, 31335, 45429, 27581, 14984, 44108, 27299, 15624, 4950, 42217, 7892, 47701, 48066, 47568, 43056, 14496, 26522, 38777, 49198, 19537, 3369, 25550, 10818, 46304, 3862, 30059, 32140, 37260, 27099, 34398, 1686, 7899, 4538, 46223, 10892, 29416, 26273, 24275, 44748, 5108, 10897, 29499, 38668, 30103, 19359, 13819, 3383, 15119, 25283, 37429, 29534, 19916, 7512, 38090, 3284, 25299, 13158, 33323, 2156, 36264, 286, 24426, 36655, 32033, 8760, 31606, 48461, 48222, 30362, 47025, 40292, 28906, 975, 3300, 10735, 4175, 3401, 24135, 38827, 49102, 40259, 20524, 35102, 38540, 25384, 16325, 45608, 5522, 5313, 1161, 9254, 36686, 14810, 35532, 16728, 16886, 7612, 46623, 29704, 1685, 8668, 21905, 3922, 7223, 14006, 13592, 9916, 306, 47035, 34738, 29621, 18666, 22060, 46287, 6101, 25168, 19160, 36497, 11135, 49232, 40930, 46366, 30851, 36022, 45980, 8976, 26832, 41707, 41782, 35595, 421, 6665, 11425, 6529, 28774, 17782, 39654, 39292, 42876, 9733, 38427, 44076, 29231, 38079, 36593, 42982, 18608, 16857, 16389, 27807, 30206, 48196, 25055, 27236, 39749, 34156, 3442, 11575, 26112, 42338, 32821, 37849, 6946, 39012, 42425, 47817, 13329, 9383, 35893, 3187, 5587, 26045, 31109, 35119, 21965, 9954, 16877, 12751, 39808, 37465, 4206, 23834, 11681, 40220, 41850, 6715, 37862, 5782, 48948, 1105, 47619, 37979, 13364, 48850, 3387, 12346, 14053, 39602, 18325, 4925, 30870, 20671, 44462, 49309, 19028, 34915, 14740, 42781, 48313, 27041, 48651, 32865, 12439, 2428, 23533, 2889, 10281, 43538, 49695, 18226, 19910, 42614, 22042, 26568, 19409, 25686, 3245, 39438, 47419, 30159, 30044, 46505, 17618, 26435, 42773, 7801, 43305, 5694, 18879, 5944, 5659, 31426, 39463, 41211, 4262, 37155, 19427, 9060, 43922, 18235, 40680, 46654, 48629, 45792, 6169, 36689, 26452, 36281, 10230, 17055, 30960, 348, 13783, 33907, 32815, 4426, 652, 12052, 84, 14649, 4242, 33316, 2245, 16241, 12618, 7494, 4582, 13078, 8624, 11034, 23221, 48535, 25948, 16703, 35753, 10800, 8246, 11755, 7649, 426, 18815, 11721, 35279, 41400, 29529, 30449, 2349, 31167, 44880, 8735, 17892, 38080, 14417, 34004, 39233, 45651, 2550, 30879, 20135, 15537, 6619, 13989, 4164, 31993, 26137, 2812, 44504, 33125, 15066, 5508, 47169, 32241, 7228, 18469, 46514, 36554, 46005, 6148, 30976, 30667, 5380, 31078, 28935, 21852, 37526, 31762, 38941, 45734, 15152, 2548, 3630, 41036, 26649, 25242, 16028, 26625, 27608, 36468, 37737, 18046, 5339, 2908, 19929, 12877, 21473, 10693, 35196, 21217, 6016, 42702, 15637, 14472, 41416, 34749, 16615, 3172, 7260, 17628, 16340, 46717, 17204, 12191, 29931, 41420, 33681, 49844, 10636, 32105, 48595, 11685, 3743, 26988, 5278, 28333, 45603, 1500, 21086, 10110, 16104, 26927, 23352, 9448, 1554, 3548, 19115, 43660, 49438, 29212, 1541, 15656, 20510, 25659, 24926, 14913, 33425, 33180, 10408, 15309, 12482, 27059, 33116, 35973, 42650, 42361, 664, 33981, 2311, 46764, 14272, 3495, 24369, 40856, 30307, 32416, 12786, 44453, 36675, 3745, 9110, 7493, 30917, 21265, 22776, 42628, 38834, 5340, 29377, 48544, 6957, 20644, 49693, 600, 18147, 49900, 14438, 166, 49155, 34874, 1494, 2213, 6795, 41341, 29450, 8962, 11011, 23215, 16682, 22227, 32297, 15, 38395, 12025, 37857, 8422, 1446, 23668, 35244, 156, 11427, 27640, 36238, 37727, 27032, 11822, 30788, 42301, 32835, 47340, 27895, 16249, 15980, 49378, 2214, 48247, 17018, 19357, 28623, 18875, 15148, 18034, 44315, 33832, 47456, 28405, 45631, 5525, 19664, 13540, 37863, 45386, 41879, 10919, 36868, 14347, 14039, 47786, 45623, 6073, 847, 13301, 36475, 13105, 28807, 10613, 22109, 18467, 42825, 37013, 12832, 23625, 10079, 18850, 10677, 21096, 12092, 13611, 32009, 20758, 42063, 45705, 33760, 4350, 47142, 5871, 9611, 501, 11633, 19251, 32293, 29108, 17290, 3282, 8302, 18062, 35848, 40648, 49228, 31702, 45365, 16991, 7303, 19332, 25297, 1659, 5030, 43289, 14295, 25380, 59, 44062, 11313, 48976, 29106, 43570, 24473, 36917, 11853, 24075, 49093, 16787, 11503, 19100, 25381, 4077, 40056, 49964, 11095, 1750, 16654, 37082, 17587, 17883, 14296, 36668, 25353, 34852, 26541, 6681, 11637, 49524, 14389, 16530, 29878, 37928, 31738, 45308, 778, 40690, 29657, 26933, 30012, 44960, 18328, 13057, 20028, 26632, 29207, 29046, 35483, 8018, 15731, 38501, 31868, 17640, 42571, 31613, 3740, 34772, 23566, 49526, 34461, 40342, 39762, 6318, 3163, 29190, 42765, 18480, 36244, 17853, 1939, 2392, 38883, 41163, 30802, 35388, 10290, 14753, 13141, 29035, 36334, 1036, 34422, 33924, 46017, 2056, 22067, 39766, 19646, 48235, 8274, 8070, 34608, 9512, 41900, 34471, 32368, 18644, 19657, 23130, 10309, 47124, 318, 33298, 45189, 33729, 22190, 38888, 46908, 37781, 3486, 14057, 8291, 21991, 3221, 27297, 26471, 32175, 44213, 12926, 19817, 29650, 3726, 2753, 8253, 45076, 16791, 26501, 6173, 39637, 31156, 49858, 35336, 32602, 39264, 24715, 8207, 43606, 5073, 25922, 27053, 23681, 47319, 23719, 34305, 1029, 34875, 28254, 11470, 18922, 10909, 18917, 34517, 24852, 26399, 8580, 11449, 49838, 43765, 16905, 43320, 23468, 47753, 42413, 12668, 35889, 1433, 18846, 19784, 10131, 811, 16893, 46583, 3436, 37985, 13941, 9539, 26477, 2035, 13000, 31490, 26962, 27176, 4117, 47695, 34439, 11871, 17705, 44958, 36221, 44663, 20176, 23466, 20900, 2186, 28882, 31, 33706, 17097, 41654, 21282, 27528, 14877, 1724, 41090, 33090, 49403, 35955, 26495, 33589, 11411, 234, 30196, 23145, 16567, 43516, 29618, 10464, 28485, 39612, 35580, 36800, 18255, 31057, 38299, 33441, 25038, 19521, 14769, 42857, 44036, 13, 38737, 9781, 11378, 27068, 18620, 10255, 28447, 5985, 39296, 3473, 40542, 11762, 26653, 40430, 6935, 33762, 44021, 48938, 28366, 4590, 49538, 30085, 16850, 28858, 7969, 43873, 18561, 25170, 39103, 41613, 20841, 40577, 2864, 46324, 42012, 46318, 11961, 18777, 36257, 2797, 30266, 24121, 8476, 2283, 34951, 583, 5301, 37060, 15331, 34477, 49454, 10711, 46228, 23009, 13558, 10035, 22134, 25140, 24109, 20558, 30887, 34270, 34930, 21214, 38660, 924, 22860, 34251, 39191, 2220, 33136, 32735, 5622, 2945, 40464, 5707, 49311, 9208, 48003, 22815, 45485, 34790, 8219, 28276, 1093, 21525, 38337, 35355, 41561, 33047, 40391, 30819, 28848, 11041, 8749, 30598, 13690, 13222, 18211, 36239, 12692, 47640, 23060, 15159, 10549, 29881, 15576, 34258, 27496, 45476, 8654, 856, 24642, 12902, 20455, 23749, 19834, 25451, 24963, 4274, 18568, 7074, 130, 31100, 31537, 49419, 17653, 3207, 49294, 9925, 28752, 2977, 14989, 11783, 23167, 30182, 23918, 6673, 20100, 5844, 12476, 12984, 4406, 31687, 12328, 21689, 35393, 45010, 23126, 25820, 21890, 34744, 5563, 36052, 25891, 9594, 13235, 27086, 36540, 454, 31540, 35368, 1964, 1747, 46157, 8222, 33502, 7137, 48941, 19253, 2872, 38391, 8545, 34172, 9094, 6092, 1555, 22793, 25035, 8674, 4838, 7286, 5866, 27301, 29966, 43468, 34500, 32392, 2599, 4500, 2874, 11789, 40081, 16606, 7120, 35617, 27008, 37918, 34354, 37872, 15733, 31370, 10798, 22304, 47353, 20982, 7101, 12023, 922, 3653, 4591, 48198, 27737, 6895, 5640, 41735, 28295, 7255, 33385, 7699, 16659, 47792, 8678, 45489, 1564, 6084, 38915, 31476, 26491, 49492, 34346, 47469, 35212, 47344, 25509, 21309, 5001, 19518, 27274, 10098, 43940, 22028, 39445, 37517, 13089, 14551, 39380, 8744, 44423, 27425, 31228, 42856, 13716, 22811, 34794, 5759, 37814, 30005, 2952, 32713, 11819, 9230, 27306, 20548, 39754, 18327, 46667, 33457, 3286, 26648, 6903, 15867, 37549, 17310, 34945, 22748, 35747, 38065, 10571, 1818, 33609, 3566, 7946, 5566, 1255, 43316, 22303, 18232, 18556, 2319, 11027, 44510, 25843, 5014, 6255, 30020, 29638, 42838, 47845, 46110, 16735, 11176, 27400, 7339, 32045, 47714, 11415, 19956, 848, 23583, 33662, 14712, 432, 16586, 28544, 24972, 29509, 342, 33339, 27713, 794, 11837, 35662, 6251, 1193, 16057, 46300, 49752, 45287, 45721, 47198, 49140, 6708, 15266, 10177, 48314, 18870, 33043, 41551, 48627, 39254, 8341, 22300, 12034, 34912, 19270, 5046, 16268, 27813, 48174, 15614, 419, 1313, 25261, 2979, 32438, 26104, 48015, 11953, 21135, 44494, 1810, 47872, 47329, 43785, 37797, 27427, 25475, 16986, 33574, 5150, 13243, 36248, 30351, 31367, 31718, 5926, 5734, 48624, 44097, 8499, 49735, 46953, 6157, 13237, 41695, 33249, 5338, 28082, 40711, 14459, 24775, 48021, 3887, 29199, 45176, 22440, 47608, 10695, 1322, 16881, 10404, 36290, 13187, 3398, 22826, 12304, 46475, 1982, 5204, 3558, 45132, 41130, 25077, 41638, 31693, 22801, 1745, 46043, 6040, 32053, 2424, 12418, 10962, 49599, 41972, 145, 43546, 6893, 39874, 43987, 44857, 25694, 23428, 34606, 22106, 22467, 37713, 19987, 24047, 30489, 11622, 24600, 25884, 38622, 24512, 24191, 35257, 27483, 27396, 3042, 29654, 41366, 34331, 10300, 43549, 14834, 2124, 16966, 22143, 45057, 41577, 45643, 23047, 42603, 8794, 28189, 36282, 20479, 43016, 49905, 16558, 15180, 10581, 32518, 21335, 47229, 16740, 27936, 36232, 30523, 28293, 43252, 4162, 19322, 4428, 45400, 20781, 28090, 42172, 37564, 42835, 45389, 6724, 4360, 22507, 4933, 43663, 42593, 31952, 46130, 45973, 29711, 44118, 7685, 7936, 48150, 24905, 28320, 8005, 42672, 27185, 21271, 43886, 8917, 41762, 19761, 33504, 29914, 27151, 16335, 5986, 36266, 35710, 44798, 32276, 4541, 17336, 48413, 23622, 6014, 19548, 40442, 37966, 47536, 9245, 12400, 31124, 41356, 7000, 46045, 37923, 22775, 7319, 3553, 9047, 15723, 11680, 38686, 12437, 45011, 19621, 21389, 12796, 31084, 26900, 35826, 21159, 5513, 16111, 12127, 12596, 31580, 13934, 16451, 29448, 20418, 17120, 19114, 49050, 41114, 3977, 2892, 27190, 27365, 29991, 17452, 39291, 39455, 5464, 47274, 8886, 4309, 17277, 1880, 42750, 40921, 10949, 6648, 32065, 11993, 11527, 14692, 14655, 20090, 36569, 48025, 23518, 29098, 42456, 18550, 7277, 29302, 44776, 47481, 32215, 24025, 38154, 47764, 31545, 32917, 31684, 17044, 35956, 20970, 24112, 10553, 48504, 21918, 44664, 27719, 13095, 18999, 8916, 34124, 31632, 24016, 46430, 39220, 45780, 5984, 36277, 4667, 36768, 29871, 41322, 8640, 35053, 13191, 14457, 2756, 13418, 593, 11679, 27293, 8849, 12316, 35011, 34125, 45414, 12398, 14545, 716, 21859, 34866, 2715, 37046, 19350, 49322, 9979, 48164, 16067, 4071, 14986, 33369, 11037, 49408, 5802, 30956, 11475, 45657, 46774, 17024, 883, 17551, 39119, 17006, 13238, 15116, 28161, 1867, 45210, 40411, 21007, 32467, 43240, 49177, 17056, 47346, 20612, 40374, 38096, 3098, 6047, 26245, 36079, 39144, 44840, 41169, 1309, 19981, 31634, 9273, 12225, 5798, 38458, 26583, 35844, 205, 11008, 45802, 39850, 39286, 5808, 40069, 42729, 5481, 29288, 25048, 19611, 30185, 8582, 48095, 46831, 35978, 46759, 21724, 37571, 49881, 23148, 37516, 27828, 4346, 10171, 30602, 34301, 23499, 21175, 38679, 2994, 24543, 48966, 15807, 48684, 45905, 28992, 33232, 38587, 9906, 41099, 14950, 24886, 43472, 47130, 39163, 17677, 28002, 27678, 24770, 48121, 40325, 4189, 46034, 11049, 26647, 49787, 28614, 21951, 46421, 41673, 6993, 25855, 28075, 37563, 11651, 39343, 3938, 11649, 11220, 2590, 7595, 23397, 8308, 22183, 45089, 4967, 30308, 35366, 43483, 48791, 28538, 42491, 3230, 19690, 1337, 8423, 24303, 10078, 12540, 18341, 37947, 18535, 38354, 46371, 13824, 44766, 4532, 36119, 28934, 8571, 40798, 25753, 43974, 5137, 37870, 17163, 962, 4851, 18199, 43906, 36608, 12626, 49550, 38329, 1209, 46792, 36319, 33191, 27286, 26284, 47768, 49259, 46560, 8525, 32841, 39841, 46163, 10684, 2735, 4892, 866, 11182, 38552, 476, 25474, 21147, 9898, 30844, 28753, 7281, 48862, 10185, 10353, 10791, 40452, 32553, 12787, 23437, 49150, 30389, 35078, 49023, 17764, 56, 47485, 1467, 3924, 44220, 35755, 29963, 39391, 11244, 33900, 18803, 41720, 10627, 14351, 10124, 35827, 21603, 4418, 19655, 47596, 9552, 49878, 26642, 35385, 49212, 33096, 10759, 27922, 33020, 1594, 19206, 3407, 7828, 37990, 15530, 40011, 37976, 22410, 2765, 32055, 16266, 43459, 8383, 16217, 24658, 25919, 28089, 29004, 4550, 31207, 45184, 29873, 34506, 30496, 38542, 18828, 38675, 16673, 13701, 21440, 30893, 6065, 1616, 23162, 16418, 35331, 48623, 1445, 14847, 4140, 30957, 41931, 49854, 29014, 34455, 40765, 9511, 37585, 28590, 46937, 28730, 35386, 39368, 26494, 20075, 23810, 37228, 39929, 42314, 17780, 2602, 42557, 30737, 47986, 29719, 43868, 19036, 11787, 47672, 48540, 43722, 4658, 41780, 35259, 48195, 28926, 15691, 42739, 29699, 30680, 49886, 5111, 4181, 2098, 8844, 24238, 34127, 31031, 26783, 78, 19541, 18800, 11330, 10323, 22945, 25886, 26253, 41425, 22788, 28684, 15881, 38798, 20276, 6128, 23545, 47597, 22731, 1620, 2071, 29201, 26704, 26869, 41645, 14505, 49649, 47972, 12353, 49307, 2400, 119, 22021, 36900, 38943, 33139, 18728, 5900, 49636, 17512, 4775, 12896, 10313, 3467, 10369, 15932, 39695, 31013, 44612, 7668, 45208, 47264, 15868, 39778, 22075, 48608, 36209, 40954, 37458, 12199, 16291, 48773, 26230, 46918, 39548, 49216, 6239, 34885, 44597, 38149, 34013, 5234, 34842, 2529, 44544, 28348, 9124, 36215, 35019, 29056, 13363, 8691, 8463, 10749, 47584, 21115, 36818, 17573, 20944, 25589, 37479, 21063, 3217, 9492, 48935, 8439, 9581, 6115, 40571, 40714, 35802, 42477, 1580, 19606, 38309, 14874, 41974, 45525, 21368, 23238, 14985, 20493, 44946, 20978, 36937, 43854, 48984, 30855, 8972, 48494, 39501, 47199, 11826, 25159, 46332, 30300, 34203, 41357, 42894, 45706, 22851, 18582, 6930, 49582, 5714, 7433, 14484, 20786, 13507, 627, 4476, 39349, 33161, 47863, 8809, 28583, 1771, 49540, 37131, 43348, 34641, 1157, 5740, 40359, 22091, 9207, 12506, 31511, 12863, 9099, 40503, 1761, 47290, 17857, 15115, 14680, 26548, 35524, 48426, 20341, 19088, 42438, 5142, 48531, 22595, 34519, 25440, 29182, 46998, 36610, 21924, 13881, 42889, 25328, 21311, 28483, 25403, 42206, 22543, 44867, 19057, 26637, 41015, 7805, 39499, 12039, 26597, 36439, 15749, 25602, 49092, 27949, 37233, 19607, 428, 20178, 17370, 27385, 19425, 41692, 14443, 312, 14221, 41517, 24456, 6338, 46154, 7714, 42554, 32991, 29042, 30046, 28467, 18758, 31741, 46009, 9969, 32104, 39418, 21576, 22708, 47316, 42472, 12245, 13833, 42022, 1119, 38733, 49994, 30380, 42407, 20379, 46124, 44516, 17527, 47811, 43290, 15960, 3496, 38928, 31714, 36980, 26643, 18622, 43341, 44149, 3019, 23559, 22606, 13805, 42958, 20902, 19050, 47054, 40168, 10153, 12853, 46957, 31225, 34971, 31281, 22283, 15249, 33697, 19505, 2043, 39561, 46392, 36960, 48814, 21326, 13894, 13050, 47033, 2662, 38533, 47144, 7312, 43400, 16167, 17368, 20216, 42122, 3995, 12254, 14119, 40888, 39179, 34805, 43011, 10092, 33936, 21700, 15140, 42521, 23210, 10920, 1548, 27601, 43511, 28717, 47556, 34108, 41436, 4580, 43237, 46938, 43881, 17507, 34862, 45339, 36945, 4473, 47188, 13249, 35190, 1533, 33173, 3711, 11306, 47226, 31607, 30828, 13004, 27821, 21537, 45448, 20678, 42371, 41067, 37006, 11233, 20613, 46096, 7405, 16984, 45846, 23321, 22666, 9880, 24019, 43275, 13391, 40406, 42520, 15220, 46782, 8627, 42511, 41490, 6297, 18166, 19289, 29133, 27793, 703, 35428, 34751, 24598, 33443, 33466, 20469, 48717, 49903, 7798, 32202, 45742, 10692, 16020, 13128, 40999, 14185, 40927, 5982, 26144, 40733, 46242, 44723, 35663, 17307, 9438, 45653, 29783, 31090, 2562, 44585, 13200, 16127, 38401, 39870, 6268, 46796, 17629, 31287, 29576, 12415, 17079, 19645, 12142, 36242, 13838, 42689, 7755, 35770, 40132, 27047, 4034, 16013, 49591, 22115, 2395, 29684, 7203, 47164, 15446, 42308, 706, 35148, 1354, 39267, 18923, 24764, 29889, 45630, 29723, 45458, 19922, 36454, 4247, 4619, 17302, 31627, 34531, 14510, 24895, 16058, 6958, 14681, 15407, 48186, 4674, 45739, 48446, 48545, 35570, 27628, 40614, 49955, 24392, 20447, 9597, 19995, 1487, 36187, 25754, 44482, 20439, 5898, 46113, 39266, 3839, 7054, 31403, 1471, 29552, 5555, 5716, 4370, 18077, 11956, 35351, 31208, 40852, 43131, 32322, 18929, 11166, 3755, 38136, 197, 18916, 43954, 19720, 22160, 33435, 31604, 11541, 19347, 23905, 13276, 49718, 42386, 6464, 25412, 8825, 10341, 8547, 4741, 43323, 46144, 33623, 19623, 48127, 31735, 38164, 21947, 4486, 44600, 4834, 17824, 1122, 25783, 18575, 44065, 36133, 19741, 17760, 36465, 2578, 1870, 49762, 1352, 13519, 12187, 23320, 36142, 19654, 18838, 45787, 14530, 2375, 40540, 49046, 5851, 36289, 35515, 7570, 44555, 33671, 24549, 29043, 10053, 45606, 19888, 12268, 11895, 22294, 25080, 16383, 38751, 7393, 38949, 13455, 22052, 13505, 30192, 18741, 41164, 38866, 46925, 32972, 26784, 34846, 8836, 6630, 22017, 35080, 20300, 30672, 11526, 24079, 37717, 36435, 33351, 22426, 13231, 35688, 23759, 30077, 19643, 48059, 43352, 47483, 9983, 47659, 48356, 21721, 2639, 16239, 46816, 20474, 35637, 15926, 20522, 11154, 33049, 23175, 5845, 8884, 35456, 11893, 17232, 16801, 3984, 26183, 32302, 5348, 45816, 28445, 49129, 1382, 40862, 446, 31256, 17712, 24322, 47507, 44199, 7348, 6932, 7382, 17964, 17631, 19345, 38921, 31346, 36850, 13449, 2811, 30482, 26478, 19414, 24660, 31372, 7558, 39138, 20551, 24843, 7634, 28595, 9946, 43725, 23926, 36521, 46339, 10065, 8382, 3849, 33082, 42281, 47379, 11155, 27066, 41406, 45093, 8138, 19907, 8676, 30847, 14407, 13328, 47790, 32577, 39221, 34456, 42323, 28943, 19937, 10561, 33921, 1864, 30612, 22500, 4010, 39618, 41171, 43528, 24413, 21012, 25907, 36599, 44244, 10628, 38061, 34932, 46984, 18674, 17416, 32853, 40364, 45553, 37284, 24997, 15762, 16830, 38701, 32484, 13431, 42985, 13475, 48084, 1194, 33273, 19965, 36423, 27716, 20234, 5639, 2145, 6889, 10543, 9349, 26720, 3770, 42525, 2448, 23932, 43061, 36466, 31394, 12501, 30146, 14334, 26203, 38464, 45117, 17291, 17064, 17330, 984, 23261, 18279, 6921, 43514, 5026, 5276, 31856, 44228, 40763, 12711, 6515, 14722, 29295, 10166, 49895, 43076, 9691, 21760, 39021, 4386, 27360, 33, 25385, 23138, 16203, 17652, 19619, 16990, 33079, 27237, 33498, 11758, 6162, 11393, 21648, 47803, 26979, 26818, 40759, 32163, 13330, 29949, 36432, 6022, 18209, 11205, 44850, 15509, 39519, 20496, 29389, 29574, 16456, 49495, 48685, 30754, 8758, 36055, 13065, 46250, 24188, 15262, 9496, 7395, 1861, 4820, 18502, 23953, 39999, 28605, 11151, 37183, 9842, 44701, 17314, 33708, 33265, 37201, 31311, 25908, 32885, 6804, 11489, 17844, 15393, 10948, 14046, 15684, 7248, 29184, 41721, 6176, 13413, 7183, 18000, 8437, 37005, 5720, 18528, 37472, 41788, 37753, 17208, 30616, 1521, 36211, 12980, 35759, 38250, 939, 15404, 22114, 24519, 15606, 30273, 1601, 35390, 27784, 16692, 3735, 27697, 27764, 49704, 49738, 38413, 14576, 9937, 37965, 12923, 18302, 37406, 48402, 47661, 49868, 25485, 12374, 23798, 21119, 25770, 27463, 13522, 444, 43726, 43454, 12756, 45036, 2218, 9778, 7588, 25853, 45726, 27693, 16153, 17061, 31526, 22946, 30195, 13486, 49054, 11183, 40693, 30038, 24359, 9040, 24954, 13856, 38205, 21511, 15095, 24686, 41480, 20248, 40720, 23608, 32453, 9825, 40351, 4148, 42419, 23598, 25173, 24479, 461, 9533, 23125, 12399, 36676, 17561, 24548, 14287, 46615, 14257, 11650, 27708, 14745, 26713, 32908, 14214, 4546, 14080, 19000, 19191, 43, 41905, 27724, 39597, 16799, 26330, 48077, 20420, 1350, 16149, 16092, 12368, 24902, 20572, 32998, 49892, 45531, 1621, 13882, 38532, 18632, 6884, 35556, 3145, 39333, 33059, 35491, 38190, 5821, 8900, 18213, 30430, 37159, 37120, 30314, 14051, 8508, 8362, 13438, 20492, 11825, 23040, 31262, 4078, 37832, 36413, 21176, 47879, 18237, 29912, 13649, 24299, 40668, 33126, 35315, 4765, 41775, 37748, 18036, 6586, 37241, 43162, 10845, 3397, 37681, 35031, 22315, 16803, 33725, 41299, 20245, 27739, 49727, 39507, 21909, 43908, 30502, 18764, 11864, 35134, 46657, 6774, 36105, 48556, 22505, 22389, 33510, 42854, 15213, 2329, 47446, 37945, 1570, 15630, 15429, 45581, 34227, 25347, 3585, 35621, 42175, 38954, 23298, 29892, 12438, 9392, 36618, 24718, 25748, 44387, 27278, 16196, 43899, 40194, 45098, 9932, 48179, 26068, 36124, 27738, 15265, 16112, 49375, 30841, 15643, 11655, 42633, 48303, 43353, 44486, 7957, 32691, 5155, 21224, 35466, 40621, 47743, 7545, 45135, 18853, 24577, 47748, 1223, 17558, 3474, 25465, 16037, 3248, 35435, 34602, 12967, 41054, 6454, 10562, 35611, 35039, 43078, 17421, 47313, 14210, 38360, 14538, 3090, 4629, 15260, 41315, 9795, 36964, 5005, 3990, 34758, 23516, 26691, 35976, 20632, 6049, 6572, 13257, 20423, 49064, 12422, 34730, 44302, 21864, 27092, 27416, 5052, 8826, 39360, 30774, 25148, 22750, 28517, 12578, 36706, 38871, 4781, 33289, 35, 36024, 25937, 47295, 8907, 700, 31626, 43686, 30601, 851, 17076, 37394, 49369, 2775, 32606, 10779, 24312, 14387, 26318, 6129, 14244, 2803, 34394, 46267, 14286, 30128, 27012, 49740, 2581, 48361, 27811, 4793, 40340, 20258, 24345, 48287, 37206, 46241, 358, 8400, 9050, 16626, 43875, 38511, 47095, 20626, 18496, 41342, 42137, 13722, 2086, 19371, 28741, 35981, 14403, 49728, 30973, 25052, 48821, 12641, 29040, 43235, 21465, 5842, 24070, 22597, 17010, 17911, 33091, 23756, 431, 18536, 35281, 27037, 33764, 11905, 1162, 38555, 18478, 43952, 12654, 23371, 11542, 42143, 30892, 32042, 19135, 11318, 11417, 3075, 32820, 8850, 13867, 27673, 42904, 19182, 2689, 16515, 30467, 30176, 2902, 17680, 2904, 33218, 16452, 25733, 6901, 47261, 44070, 44667, 41053, 42754, 24883, 35345, 5921, 44218, 9964, 7562, 1916, 49327, 19688, 1798, 26072, 11432, 11831, 34484, 39259, 37199, 49547, 46532, 21653, 6969, 12605, 20085, 41095, 47443, 29652, 36806, 48103, 21657, 18770, 20139, 25673, 46926, 44215, 11684, 1968, 23415, 27444, 20769, 44073, 15227, 21586, 49482, 39791, 23511, 13969, 47836, 7851, 878, 5584, 6841, 4040, 20847, 1328, 46198, 5435, 42793, 44245, 47275, 599, 45882, 11230, 34599, 49530, 30745, 29342, 2585, 7840, 25217, 38345, 14218, 16603, 41311, 2376, 13310, 12324, 18236, 49105, 13999, 1899, 13008, 31383, 23999, 12956, 40362, 2011, 2093, 27413, 13956, 28097, 18033, 41776, 42595, 45368, 4308, 27816, 25306, 30090, 24177, 31351, 49269, 28630, 1718, 30248, 28414, 3715, 26546, 12028, 41050, 14833, 47091, 23506, 21318, 11374, 26596, 17029, 9668, 41686, 44100, 36673, 47009, 11628, 16129, 4285, 40060, 37385, 18531, 2343, 39202, 31279, 13340, 23923, 24659, 8050, 30147, 35322, 28731, 27292, 19204, 26574, 30779, 31817, 5816, 14243, 31211, 15856, 15752, 45637, 5598, 48120, 25473, 10834, 1184, 48826, 49183, 35969, 18043, 7747, 36090, 32712, 46527, 44838, 26071, 695, 1235, 39136, 34672, 34832, 10702, 21187, 30577, 39639, 18158, 27666, 26995, 28585, 41453, 14486, 20436, 48552, 19423, 30705, 23700, 43614, 6994, 48780, 4275, 12084, 24087, 43941, 40709, 31145, 34540, 16154, 15294, 49233, 13759, 14013, 41581, 41569, 23737, 7193, 21565, 21391, 43862, 24668, 40913, 34279, 3223, 40833, 38610, 20962, 45086, 36145, 28106, 38835, 34767, 4684, 21696, 36116, 14226, 47733, 13468, 34733, 14920, 48081, 34433, 47806, 41568, 34240, 45465, 38099, 48493, 8248, 21039, 31990, 43272, 23624, 14501, 17301, 31588, 46903, 40649, 45559, 2312, 48298, 40118, 48939, 37348, 49370, 38245, 6629, 35897, 42198, 48033, 5440, 26485, 36764, 13345, 30845, 9857, 28174, 42415, 17673, 45367, 10786, 15662, 850, 49203, 10215, 31870, 47774, 9033, 37461, 46815, 36847, 14844, 11652, 22292, 42370, 40974, 8025, 14929, 9142, 42230, 5576, 20238, 36643, 19911, 9045, 10995, 42531, 35731, 33744, 11308, 1140, 16668, 18783, 6758, 14804, 11122, 17896, 24630, 34446, 34982, 7903, 31401, 204, 26063, 42671, 35528, 13859, 28201, 13215, 1298, 49080, 14823, 10609, 15491, 39780, 17229, 8267, 8652, 5731, 47582, 20833, 30415, 47041, 43625, 6094, 15089, 45624, 18001, 36009, 46041, 49412, 16676, 15215, 8221, 8515, 6622, 16363, 515, 29870, 17065, 18501, 9687, 21976, 3750, 9020, 2265, 31003, 37237, 15228, 38736, 31439, 43883, 23742, 1610, 10209, 45848, 14608, 16650, 23438, 27098, 15563, 26204, 32592, 34111, 2219, 37957, 5908, 45633, 37416, 5225, 4700, 28054, 3667, 14543, 9241, 10174, 25941, 3932, 47166, 32513, 12580, 38503, 12857, 22781, 44432, 40282, 19201, 16972, 22461, 16872, 15013, 18494, 22385, 29215, 21114, 29272, 49313, 40679, 23734, 34152, 17960, 43282, 32558, 10515, 17425, 46030, 19408, 7078, 21263, 2034, 1607, 14708, 40027, 17731, 20775, 24007, 32694, 2825, 44538, 25812, 37141, 3164, 6836, 29986, 38596, 49247, 41140, 20239, 26505, 32584, 39170, 5573, 42010, 33976, 42624, 12673, 36699, 20759, 9168, 9406, 45271, 43415, 47744, 10532, 14209, 5591, 19221, 47027, 20149, 22212, 39032, 15232, 42165, 8611, 5530, 2905, 3949, 3506, 12695, 43504, 45140, 1791, 19421, 30149, 18249, 30529, 42481, 6382, 27249, 35954, 15571, 24799, 9551, 25143, 20681, 22783, 21733, 27898, 32924, 9431, 43157, 35202, 152, 28168, 16375, 8546, 42109, 4173, 37126, 46947, 28360, 18973, 37627, 43921, 27359, 38558, 19196, 5178, 27819, 13952, 16600, 13548, 26716, 13627, 3347, 17162, 15526, 38215, 16733, 34445, 8766, 17987, 22952, 19399, 27620, 46184, 28373, 7046, 41010, 3648, 1865, 44816, 35678, 39746, 1797, 25689, 8638, 39311, 8856, 9153, 29358, 7151, 2899, 40296, 22152, 34142, 35566, 7103, 43938, 38855, 41274, 7932, 39120, 10555, 20940, 38162, 42426, 5797, 41494, 29183, 1391, 16062, 47660, 8447, 29815, 15534, 29902, 20676, 10854, 3153, 44306, 21503, 29827, 47488, 48839, 32007, 40704, 1246, 44205, 4889, 20410, 1690, 16756, 15287, 19756, 5606, 7986, 41685, 2248, 3029, 42270, 15776, 33698, 20071, 16726, 49265, 42859, 40538, 44400, 30454, 47800, 12197, 14203, 44189, 39809, 40787, 23881, 867, 38297, 10614, 2303, 12768, 25962, 35291, 17103, 17273, 21934, 14489, 36509, 2714, 40673, 43364, 41677, 29776, 5266, 24463, 43508, 15371, 31116, 23873, 9633, 13398, 18900, 44819, 16337, 37577, 545, 33093, 45700, 41084, 42208, 35421, 12965, 2028, 564, 14516, 4938, 29176, 48274, 23193, 25680, 46603, 44128, 44975, 15216, 31162, 42872, 14010, 32020, 36621, 45722, 13454, 32805, 9694, 39662, 2277, 32073, 46834, 20128, 13042, 39385, 47679, 23100, 12458, 34573, 32757, 11673, 36571, 48656, 12949, 9851, 11180, 19758, 33540, 30213, 36988, 1001, 1465, 38726, 47663, 4311, 31630, 24851, 36846, 37699, 43443, 36679, 6276, 9749, 650, 27518, 19662, 18203, 5298, 13419, 44567, 38346, 37341, 20832, 36591, 9270, 8038, 4678, 32443, 15325, 16645, 19695, 20457, 9562, 49276, 20706, 16683, 3546, 12454, 7355, 22877, 25534, 35056, 8485, 46149, 38001, 6451, 10206, 31027, 4545, 30007, 6910, 28202, 32874, 47082, 42497, 47212, 37248, 42114, 9744, 9942, 46727, 47862, 17953, 11851, 20153, 6794, 43189, 1000, 32900, 2430, 25461, 6592, 43864, 39116, 11209, 11697, 30050, 47613, 17649, 49087, 3292, 24730, 8791, 13725, 48721, 14040, 5909, 32121, 8157, 34712, 14509, 45611, 9548, 4620, 20051, 21235, 19488, 49586, 596, 22338, 20091, 22240, 18945, 26121, 17356, 20459, 21595, 660, 22033, 47541, 6305, 25135, 42845, 22372, 40384, 33221, 23067, 15577, 39815, 32651, 18605, 28587, 29501, 30738, 25667, 39767, 6178, 46650, 3115, 22162, 41823, 25773, 46976, 19388, 9166, 2616, 17252, 29847, 49863, 18013, 31324, 31349, 24185, 36193, 46134, 49045, 35630, 40319, 21154, 1760, 40313, 22380, 11465, 21971, 1975, 18755, 18572, 13639, 10688, 24415, 14309, 37217, 12994, 49280, 11699, 28120, 29799, 11269, 22297, 36032, 928, 675, 6793, 41890, 47341, 49824, 29091, 4797, 4299, 12621, 26424, 41893, 8282, 45193, 31357, 316, 33714, 7633, 18851, 36613, 5919, 45005, 49290, 29018, 34061, 20143, 48405, 8015, 13177, 207, 3052, 1134, 33519, 13174, 42684, 21372, 46146, 29590, 11434, 4000, 45410, 24323, 27051, 28679, 37621, 12293, 14373, 38564, 41219, 42898, 36382, 45756, 38845, 27311, 19233, 45984, 7979, 15408, 3846, 8344, 15775, 37343, 46653, 36992, 44595, 12202, 38591, 30473, 11463, 20750, 28235, 1133, 24366, 32822, 15243, 20012, 39611, 6367, 10851, 49567, 34202, 29382, 41755, 7987, 35544, 31837, 17684, 33259, 49808, 49136, 24127, 18887, 43201, 25539, 31764, 14741, 9119, 13986, 38974, 43568, 18812, 4844, 15748, 290, 19823, 49535, 10231, 49159, 27563, 8840, 32148, 43273, 25050, 6656, 37186, 10590, 19947, 8632, 38092, 48709, 28985, 3618, 13928, 23105, 429, 35960, 22759, 28812, 27981, 30891, 43816, 46924, 49107, 25603, 7787, 178, 12982, 36888, 45889, 4823, 21908, 42106, 23893, 17271, 29691, 29391, 13264, 29608, 21211, 28944, 34285, 29993, 29672, 16460, 7844, 31264, 27726, 1874, 43704, 20187, 43005, 4343, 24232, 30234, 2125, 21978, 34207, 21212, 9625, 3299, 1651, 28921, 30315, 34247, 13700, 17483, 33740, 46883, 19305, 44914, 27548, 15904, 23035, 49081, 47908, 13441, 36942, 24084, 11878, 475, 36240, 25839, 46677, 39370, 636, 48086, 19356, 6781, 10335, 17338, 37332, 8748, 14973, 20925, 20631, 5002, 7931, 24829, 17299, 43944, 18778, 3402, 5401, 27972, 18928, 2822, 674, 42207, 21572, 49139, 16521, 42747, 19317, 32285, 23453, 47303, 18012, 48170, 8279, 2275, 8187, 977, 12785, 42138, 37802, 49070, 49384, 40989, 241, 34855, 19404, 22622, 27449, 38996, 23000, 16444, 49287, 46442, 41732, 44512, 17470, 44839, 41449, 8213, 2856, 20210, 6589, 18911, 13382, 16462, 29259, 27880, 37694, 18349, 42375, 19855, 26405, 2627, 27105, 38546, 34493, 12817, 40494, 45876, 42719, 2013, 28319, 17415, 23838, 3320, 19315, 26034, 35508, 40497, 33915, 17975, 8767, 44396, 12599, 16032, 25198, 3640, 29097, 1819, 32836, 24540, 42963, 12065, 18167, 49855, 11336, 8685, 10563, 27004, 13900, 13287, 9285, 29248, 6548, 23530, 6072, 48239, 37149, 46898, 38425, 37831, 34189, 45777, 8023, 30436, 26782, 43999, 42690, 203, 14155, 9334, 20449, 22885, 578, 40267, 17289, 11806, 19023, 22199, 23363, 47706, 13197, 31665, 12919, 490, 41435, 41402, 34681, 21666, 42538, 48554, 47291, 42841, 19805, 968, 33918, 18130, 33648, 22121, 47705, 6353, 1155, 12289, 598, 32810, 34967, 4671, 24397, 29121, 15598, 20046, 31636, 13020, 16894, 35962, 20594, 49135, 41617, 37463, 15885, 42763, 26419, 18303, 2103, 31153, 12707, 32663, 40893, 25558, 29088, 16261, 767, 3766, 33471, 29118, 18532, 13588, 23795, 42858, 48263, 28210, 38708, 5246, 41666, 7636, 40718, 28469, 323, 42223, 42598, 2317, 41009, 46575, 8983, 3254, 666, 34306, 37084, 47651, 33704, 16164, 21632, 42354, 36245, 12001, 8530, 13787, 18439, 48738, 11416, 24766, 39542, 44554, 10022, 40880, 8592, 13453, 45822, 2463, 9293, 24741, 37047, 34074, 23312, 14519, 37053, 26659, 8830, 1252, 34886, 21904, 39489, 7909, 31416, 19635, 6551, 47963, 30849, 41091, 19858, 31793, 3899, 3146, 46958, 1701, 4028, 25722, 13621, 2629, 22845, 42623, 10182, 1629, 1995, 19566, 20564, 12003, 17143, 33835, 18884, 37995, 6768, 26525, 27654, 42195, 36405, 23548, 26409, 36128, 11112, 10893, 19395, 13645, 45576, 3563, 48079, 30835, 6426, 4817, 35450, 46236, 42344, 45313, 41206, 20112, 4726, 17625, 12126, 48743, 5488, 48281, 4627, 21599, 24287, 12652, 7553, 28542, 18804, 24667, 7578, 11530, 36817, 21646, 19809, 3178, 4130, 22546, 32763, 23631, 46029, 46600, 46410, 40407, 30404, 36015, 47472, 32388, 43181, 4985, 4479, 4867, 20382, 34977, 47682, 6920, 26997, 3732, 27872, 41503, 31139, 39460, 9596, 17934, 2666, 22360, 21088, 44068, 27927, 22719, 31269, 17887, 21706, 47209, 46676, 29179, 760, 95, 37193, 26702, 8289, 22348, 10698, 27351, 30129, 33424, 20945, 28049, 11869, 48916, 40616, 37455, 33670, 8606, 21546, 13861, 22137, 39451, 13085, 28963, 11487, 4727, 7044, 31115, 35536, 5907, 25898, 27035, 971, 10292, 16176, 22093, 28635, 20385, 5753, 2813, 33672, 39164, 49602, 4401, 1165, 15448, 24889, 28145, 22554, 20615, 12008, 23753, 16379, 47615, 8696, 35468, 3721, 11097, 17619, 30903, 33612, 46909, 15966, 14674, 13609, 45163, 27818, 10339, 47125, 3875, 20764, 44116, 2711, 6584, 16310, 3917, 5391, 34342, 29005, 49191, 6532, 34607, 34178, 2038, 41269, 19274, 29198, 33246, 4926, 16862, 23938, 45499, 47116, 640, 4942, 35806, 27787, 14691, 19974, 39357, 17647, 25709, 3860, 46270, 30619, 29361, 3423, 41626, 17951, 9576, 46886, 33334, 26390, 8708, 2728, 10107, 3951, 13029, 32457, 24314, 18888, 6644, 22833, 17122, 4216, 40190, 28307, 5143, 10715, 10389, 43232, 34729, 14083, 23200, 46894, 26448, 7445, 39403, 43587, 7592, 38059, 34144, 2528, 7043, 15828, 34656, 11064, 47548, 18687, 129, 24437, 19558, 11245, 1999, 16113, 8426, 8438, 19579, 32926, 30556, 1892, 35077, 22218, 45083, 10517, 47713, 19326, 2228, 4266, 19062, 48155, 3103, 25799, 19094, 1339, 20092, 3933, 3911, 49766, 5914, 41825, 3757, 46691, 299, 28560, 44057, 23348, 30160, 46153, 39374, 19374, 20359, 2702, 38133, 43170, 28185, 42896, 31291, 41671, 22135, 48159, 49422, 27478, 27643, 37939, 36804, 29010, 30638, 6955, 12932, 39838, 17478, 43833, 47563, 414, 46244, 25651, 15773, 14020, 30163, 28038, 7415, 9669, 33437, 21016, 16372, 37948, 17583, 6312, 37300, 39091, 22922, 26706, 27112, 25787, 6745, 9808, 1756, 35084, 34991, 42201, 38139, 37859, 33901, 45001, 29705, 30558, 26065, 12885, 13888, 38123, 17086, 27240, 9059, 9961, 10731, 38510, 10007, 21401, 37033, 4808, 19168, 31054, 4780, 6723, 37683, 36758, 26543, 44190, 23607, 10027, 41288, 22383, 26834, 10802, 45824, 13140, 1890, 27890, 16670, 6271, 29836, 17996, 31787, 27021, 8306, 22890, 38491, 24802, 714, 44079, 47172, 15029, 37693, 38729, 42327, 42960, 27613, 41182, 38004, 7275, 25695, 37503, 1104, 18710, 15162, 17113, 10345, 8234, 1647, 38398, 8574, 2903, 21722, 31182, 24796, 31996, 13160, 46993, 26916, 25171, 39509, 26466, 38769, 42542, 2083, 15857, 34363, 23359, 1948, 47350, 35267, 27261, 11459, 48609, 3634, 40697, 44522, 38918, 43542, 19495, 38886, 37751, 17503, 23868, 5626, 24040, 13694, 30080, 41968, 15649, 37448, 9732, 30232, 35452, 22573, 25993, 25896, 47098, 29680, 9346, 26297, 46493, 27736, 31147, 39653, 29568, 11773, 31677, 18562, 48069, 72, 23048, 21220, 45080, 26540, 19668, 23790, 24403, 14923, 44295, 5528, 8349, 42921, 9598, 12840, 21184, 15109, 36772, 22000, 29903, 41495, 41072, 726, 1727, 9543, 48736, 43561, 39453, 8594, 31091, 21879, 46492, 34879, 29096, 6355, 16667, 27915, 48902, 47191, 42968, 43108, 3174, 33089, 3662, 3940, 15937, 42487, 35927, 27338, 23234, 41203, 43920, 47573, 33572, 19066, 1543, 46668, 5687, 9528, 3374, 18681, 14751, 15890, 35088, 16974, 11881, 29897, 47422, 43223, 14672, 30952, 1401, 26631, 29260, 17590, 38801, 21050, 31969, 41158, 43812, 44028, 23820, 6381, 13595, 45305, 18413, 8549, 3312, 5496, 37447, 25592, 37601, 43761, 22399, 42592, 24277, 34547, 1199, 24976, 5357, 19038, 15343, 49372, 1459, 19475, 22228, 37316, 12255, 32871, 20084, 42753, 3509, 29292, 48923, 13747, 15552, 4229, 49751, 19104, 44546, 34065, 20782, 48371, 37767, 47195, 26103, 19241, 12858, 16274, 19545, 9143, 15626, 39835, 45164, 9146, 25362, 49416, 21354, 49879, 38416, 9156, 6827, 42804, 17816, 2205, 19273, 45463, 37867, 2453, 11632, 8801, 15458, 32770, 32061, 41845, 22406, 26392, 3504, 12623, 29379, 35377, 45921, 19019, 1169, 1886, 29971, 33113, 34409, 27336, 34592, 11312, 46806, 35228, 30524, 25089, 2651, 23021, 4665, 42204, 20721, 33944, 43257, 33842, 45214, 7859, 41004, 10903, 17102, 8377, 29523, 4747, 36283, 7644, 9412, 10238, 44042, 3893, 26556, 9894, 29593, 32492, 14339, 46488, 41804, 43281, 35754, 11563, 38518, 43137, 38980, 6511, 12063, 14818, 31949, 46082, 29101, 7771, 14327, 39340, 12593, 32640, 39817, 19485, 25152, 41223, 23682, 26728, 26309, 46721, 25533, 39480, 3807, 2478, 31195, 40866, 46700, 10747, 37227, 42962, 31883, 6753, 32110, 11142, 25263, 13657, 45632, 45870, 44078, 22214, 48343, 18083, 18491, 25105, 8662, 6320, 3429, 28207, 44389, 790, 41373, 29609, 31171, 6366, 44518, 10333, 28803, 44132, 29637, 10514, 7095, 26560, 25517, 49941, 8249, 40251, 33865, 19440, 38932, 7420, 22746, 40823, 35914, 43580, 3179, 11461, 45867, 15005, 2272, 7292, 36436, 45404, 8567, 45156, 34623, 21416, 2603, 34444, 26272, 48414, 30811, 20337, 16428, 17508, 23523, 42001, 24072, 39906, 8965, 32727, 25666, 6699, 47962, 48557, 13313, 10113, 41005, 33392, 25433, 26827, 33580, 12724, 49861, 153, 32275, 9111, 1512, 40393, 39537, 22323, 5027, 122, 18808, 19602, 29147, 2179, 26709, 42742, 33566, 46273, 33521, 3754, 47436, 22672, 49123, 36246, 23592, 45319, 35198, 10525, 41689, 17133, 26165, 22897, 30032, 6325, 42755, 16110, 7247, 21549, 24595, 17346, 190, 32563, 42721, 46736, 12436, 29984, 5447, 15383, 39452, 47210, 28775, 3719, 33073, 36918, 25607, 48618, 41189, 24707, 9566, 10447, 12329, 30981, 21952, 18295, 33317, 14974, 2029, 31666, 37135, 25958, 16957, 15239, 24666, 31927, 46964, 679, 7257, 41208, 36609, 20912, 45231, 3603, 12057, 25779, 1766, 9725, 5165, 45123, 30491, 23845, 11060, 36407, 29762, 33300, 20108, 13326, 16016, 31797, 6906, 17577, 33343, 16388, 2515, 44487, 26434, 4631, 8730, 21780, 42514, 19439, 37714, 5311, 5325, 31303, 19913, 46141, 3175, 20691, 42450, 32607, 38642, 3516, 48445, 25574, 36098, 6900, 45826, 34761, 19318, 19954, 28846, 6976, 21170, 22593, 4446, 40042, 39931, 30358, 12572, 29206, 49619, 37305, 36198, 3702, 19753, 39605, 25650, 48634, 15437, 37722, 9812, 3058, 11382, 23411, 10184, 42247, 49537, 34859, 44729, 7677, 13223, 49017, 29610, 81, 31833, 9858, 34079, 13427, 11350, 41745, 10178, 48811, 2907, 33190, 35480, 27934, 32702, 21563, 32289, 38159, 1674, 38334, 14725, 10820, 44382, 21262, 17634, 124, 47143, 49131, 46822, 16387, 22990, 45249, 8625, 33722, 27645, 7916, 22876, 21759, 16099, 46482, 9181, 2845, 7116, 32870, 17280, 27466, 1638, 39153, 21107, 49100, 25503, 40513, 8151, 30632, 40935, 43894, 29053, 15824, 32378, 37337, 24616, 29442, 49853, 19647, 8040, 15860, 39050, 43057, 37804, 39676, 18759, 2504, 2449, 46338, 29979, 34302, 10443, 23038, 32247, 46237, 8569, 28582, 14138, 14819, 12335, 14865, 20611, 42141, 15974, 40014, 622, 26855, 15585, 47968, 34432, 9460, 16230, 39031, 32151, 39265, 36630, 21009, 34495, 7131, 37845, 21967, 41326, 37051, 2004, 4891, 14498, 47430, 26590, 2700, 3211, 19748, 17406, 18375, 42844, 49431, 27551, 37119, 43150, 15310, 12212, 48277, 31107, 42334, 20796, 11790, 47056, 17693, 29953, 33159, 14154, 34007, 7925, 507, 43203, 11865, 40476, 21686, 39863, 36813, 23819, 18195, 49148, 29258, 10990, 22386, 44877, 1148, 8531, 44655, 44859, 9083, 35864, 43510, 14492, 5865, 39063, 32165, 15388, 11499, 12014, 46416, 33467, 12587, 19592, 34192, 27210, 13479, 49187, 39567, 45568, 2962, 18002, 30310, 8043, 49329, 6053, 20450, 37345, 25437, 23160, 27823, 27473, 45918, 4260, 19722, 10347, 42256, 40737, 25005, 5498, 28821, 27460, 22518, 22680, 29009, 8391, 45136, 35968, 35626, 18891, 12391, 42664, 21737, 35945, 43265, 4107, 32919, 6721, 2289, 16597, 43041, 27707, 2089, 16755, 28579, 20784, 33613, 17728, 35436, 22221, 32527, 19948, 33941, 25674, 33230, 35313, 18736, 38910, 35871, 47835, 87, 31144, 21434, 13993, 24116, 42267, 31424, 10560, 36881, 42741, 30726, 5364, 17918, 48683, 10947, 45887, 4328, 15925, 41960, 20163, 33429, 9249, 15696, 22613, 31375, 2417, 24573, 17354, 39346, 47722, 45293, 21484, 14054, 9019, 41929, 7687, 27475, 5579, 9399, 26202, 28430, 43702, 47625, 36459, 29453, 2736, 17343, 32520, 30431, 3321, 25943, 5370, 3609, 19091, 10526, 25996, 49340, 2238, 28309, 46979, 3744, 25109, 32937, 43695, 9656, 17121, 12502, 17762, 48572, 35939, 17482, 43601, 46525, 41237, 49000, 21636, 15018, 15225, 20045, 32943, 43569, 47526, 47015, 24738, 33258, 2117, 32795, 19738, 29722, 40279, 33295, 10583, 22823, 24498, 23989, 6192, 38785, 49251, 36821, 10374, 18669, 20725, 47038, 33021, 42761, 19291, 47503, 33206, 39538, 6116, 46436, 41188, 48114, 45532, 29194, 10541, 24701, 31304, 40691, 28433, 14777, 19749, 4506, 22038, 36395, 32916, 32331, 38098, 33210, 20425, 17213, 3646, 39320, 38085, 11074, 20000, 17142, 29353, 33462, 20208, 14204, 10513, 48499, 32545, 45253, 1967, 11118, 7583, 44232, 37636, 15589, 47930, 43543, 48962, 46412, 32309, 16631, 42792, 22376, 10032, 44086, 39432, 40216, 23529, 44282, 11671, 16163, 21483, 47501, 39843, 16213, 5644, 21439, 40593, 27379, 3311, 36502, 16827, 30292, 39405, 21423, 48786, 23225, 7673, 45719, 7571, 22976, 3121, 36183, 35541, 29743, 39093, 29407, 36805, 32046, 3039, 37229, 35540, 2259, 47348, 2095, 1976, 40368, 16506, 6293, 37580, 29814, 11626, 41751, 24618, 44691, 26404, 46644, 27067, 48558, 34216, 7744, 26954, 7819, 46927, 26337, 2995, 16679, 23450, 5469, 12295, 48628, 45370, 40361, 26214, 43422, 30251, 46414, 18760, 39228, 47867, 18852, 32626, 18526, 40286, 32006, 21381, 7666, 7426, 15400, 38249, 37589, 18422, 14560, 46289, 22463, 23739, 7739, 30546, 20628, 18954, 10872, 13115, 11716, 26069, 15736, 34836, 8425, 5087, 40018, 6168, 37408, 7898, 14239, 33942, 36367, 31558, 17013, 40854, 15102, 25021, 35177, 35379, 10790, 49957, 22322, 3392, 42095, 31853, 3021, 34349, 33262, 10142, 40998, 37936, 17942, 44611, 43630, 13426, 18716, 860, 41094, 37868, 8620, 33728, 43923, 43359, 34929, 38113, 43784, 1549, 24349, 25356, 5470, 25547, 41418, 47844, 1936, 22329, 4794, 6322, 738, 6581, 22925, 14802, 6455, 40776, 39344, 15111, 41963, 37266, 27554, 29209, 35298, 29579, 11511, 39089, 36117, 2546, 32655, 7912, 14264, 37583, 21302, 25966, 394, 35786, 45635, 628, 21996, 30914, 4660, 16346, 11730, 38062, 1063, 7961, 42951, 46291, 12778, 17422, 37255, 38052, 35433, 4256, 33459, 45492, 34337, 38590, 28506, 163, 12908, 4466, 8566, 40348, 546, 38330, 2672, 11124, 2114, 35233, 1534, 17946, 26351, 6332, 21363, 17609, 49700, 40285, 3915, 47134, 39957, 17138, 41200, 25776, 191, 13122, 38671, 37065, 20253, 13780, 5730, 1014, 36702, 12060, 46261, 25463, 29006, 39533, 1019, 32038, 21616, 35208, 1796, 45958, 5399, 18238, 6071, 40414, 39243, 48345, 9987, 20478, 46779, 44420, 11281, 21910, 18910, 9918, 46799, 10471, 15246, 30068, 38389, 8778, 43644, 9815, 14479, 14340, 14999, 43890, 49048, 48430, 38899, 43309, 19039, 13349, 17215, 49761, 27137, 5863, 23493, 38127, 28376, 39057, 14567, 16575, 37552, 12622, 43226, 47104, 9692, 12224, 14466, 14700, 15470, 1612, 32756, 2771, 36344, 34232, 16797, 19139, 346, 25150, 24450, 26163, 38952, 5415, 14534, 36358, 27447, 40663, 3359, 31642, 9128, 31865, 22671, 5957, 16038, 12802, 7015, 4073, 42679, 12645, 10217, 15484, 16324, 5836, 31318, 40269, 22694, 20694, 11127, 29840, 36559, 14109, 24865, 42574, 41652, 26087, 43902, 4364, 35099, 35919, 41128, 1869, 8384, 37618, 18806, 30662, 31536, 11447, 22336, 42578, 31004, 49969, 26004, 14795, 19569, 34933, 8060, 20917, 9487, 15947, 28743, 1090, 41741, 48323, 46992, 37251, 26526, 16687, 35055, 31631, 38169, 32997, 38935, 8035, 20001, 49653, 14550, 20814, 12846, 15073, 29748, 32881, 46302, 6281, 949, 4585, 691, 2406, 41758, 43392, 39033, 34249, 45601, 11236, 12963, 12278, 36962, 33403, 9693, 22646, 34046, 35576, 25224, 39709, 46970, 29390, 25411, 28718, 49975, 45477, 7501, 49706, 10451, 28465, 41769, 38612, 9302, 38879, 45545, 4577, 4372, 39743, 21480, 25396, 23567, 26931, 1925, 44980, 27960, 4713, 1656, 19563, 14404, 8394, 16115, 19463, 5306, 16004, 28006, 15625, 18908, 13889, 48411, 47011, 14792, 1544, 20741, 22660, 41995, 12744, 44590, 43025, 27285, 27524, 18144, 20804, 27884, 28150, 20882, 16133, 38116, 17263, 1672, 33347, 36335, 15794, 29225, 3449, 24379, 18137, 2096, 44201, 26061, 22639, 12221, 6121, 7179, 34064, 43579, 17411, 18426, 37384, 49273, 25556, 7869, 13909, 8318, 8484, 11085, 43122, 47314, 15050, 48742, 4354, 12048, 38548, 17380, 26563, 5825, 17796, 36670, 12036, 35312, 18936, 32523, 2942, 45828, 19478, 32791, 35126, 35757, 40333, 22242, 38720, 4863, 10748, 6590, 35101, 32862, 39643, 4126, 38363, 25329, 43857, 965, 11571, 3722, 10387, 27036, 27472, 21073, 13768, 35143, 35059, 35008, 19155, 8265, 21216, 7383, 36749, 1808, 36642, 20968, 42627, 22794, 757, 36938, 9888, 37996, 32851, 47993, 44329, 49958, 41790, 4411, 22384, 22534, 16851, 15844, 46541, 45481, 36801, 27848, 30277, 30597, 35085, 447, 34035, 30874, 30499, 19980, 31506, 30890, 6413, 47057, 43673, 43444, 1188, 17633, 31481, 22197, 3014, 10737, 41728, 33015, 8737, 16760, 16828, 39962, 45495, 32686, 9479, 46171, 2931, 39750, 10479, 11057, 48619, 20003, 14140, 26557, 20801, 633, 40639, 10211, 39168, 759, 35985, 199, 2840, 20291, 8901, 35666, 14186, 32437, 17096, 27755, 38649, 25188, 34161, 45680, 14654, 9577, 3819, 2628, 18254, 18904, 13946, 3907, 14100, 36095, 6521, 41135, 33664, 35115, 42473, 29286, 23738, 15023, 49001, 33536, 18703, 8914, 23863, 25059, 40994, 20393, 15000, 40735, 48049, 41914, 2539, 4903, 27876, 45033, 27997, 34183, 44648, 9892, 17919, 2762, 21570, 6838, 35579, 7845, 36623, 4215, 13025, 47423, 38779, 30817, 23080, 13742, 45874, 44808, 5429, 40813, 14724, 397, 31671, 48769, 21642, 29454, 37299, 21854, 10274, 13406, 45723, 46010, 33586, 41264, 39054, 21594, 29297, 24138, 42712, 45945, 16073, 36843, 23949, 11305, 26544, 31427, 7640, 20482, 36669, 10394, 4458, 3848, 27038, 42345, 31185, 7156, 48698, 49837, 42851, 19681, 16924, 43308, 22081, 48429, 29524, 2294, 17567, 6290, 34378, 442, 34776, 4493, 26517, 24599, 27163, 45966, 32509, 26492, 47221, 18379, 42054, 11340, 34510, 39140, 22167, 31694, 3088, 40028, 17078, 39697, 11399, 45956, 25213, 11501, 24523, 27282, 47337, 18775, 44631, 29792, 33225, 6141, 42232, 8520, 17535, 3685, 3956, 1919, 31371, 32347, 20729, 26102, 44071, 4270, 18454, 11421, 40181, 10706, 25524, 38276, 27471, 28035, 20247, 5667, 36574, 30485, 15183, 16758, 34684, 3139, 26168, 26520, 46058, 32135, 47869, 34162, 38947, 45351, 40509, 23556, 6418, 34402, 15051, 1526, 44864, 31189, 44106, 28969, 46038, 18719, 9114, 17548, 3080, 34954, 36560, 755, 30724, 5534, 31886, 4268, 44499, 31462, 24169, 36949, 110, 11615, 17327, 18246, 653, 29033, 3388, 28793, 8701, 37257, 17511, 32498, 17797, 3106, 27928, 43322, 14970, 11482, 24593, 2815, 15069, 4465, 34008, 49616, 359, 5247, 38714, 37041, 45827, 3645, 15681, 20231, 42651, 46739, 33393, 5894, 32693, 13461, 42387, 46711, 27702, 37107, 16762, 932, 8412, 45993, 22345, 16168, 2670, 42328, 9681, 11409, 12103, 6875, 6045, 7825, 9347, 47696, 3836, 25421, 48901, 13583, 44458, 12331, 8864, 34737, 34470, 45157, 19950, 25490, 39811, 41892, 18711, 24606, 5682, 13132, 37253, 32181, 31044, 7726, 9591, 35328, 8474, 24313, 1855, 35516, 2330, 7963, 6134, 2733, 45044, 28716, 12521, 4993, 3533, 42352, 34423, 20518, 24722, 18662, 38822, 116, 42135, 32609, 487, 28520, 1824, 22401, 26327, 38288, 27101, 15934, 18690, 33189, 36010, 49970, 44121, 44821, 12280, 8660, 27005, 48177, 10351, 12647, 49810, 16146, 25540, 36856, 7944, 47878, 16427, 2116, 10969, 39833, 29282, 30374, 39776, 32628, 24110, 20288, 20325, 12498, 38104, 38857, 6378, 37749, 27234, 15772, 6929, 19692, 39007, 20739, 11770, 35295, 21628, 8665, 15573, 30363, 23014, 41277, 45199, 16677, 3157, 19644, 30169, 38025, 4267, 39797, 3170, 42482, 3622, 35164, 35628, 19380, 18333, 25508, 20737, 24485, 247, 45401, 13821, 5360, 13048, 40365, 37710, 30150, 21875, 6112, 48246, 37153, 8991, 44271, 24077, 12148, 39667, 31651, 12081, 1113, 44953, 45928, 19099, 8880, 46348, 26290, 47392, 9952, 17949, 13230, 22569, 7670, 16722, 48382, 11255, 22498, 29200, 12517, 6927, 37980, 45025, 15919, 33035, 17513, 47042, 18156, 48806, 38975, 28286, 25000, 44435, 15082, 11514, 3491, 23041, 14094, 26676, 25942, 41816, 37362, 1492, 43172, 43953, 4334, 11473, 13599, 10214, 16126, 43101, 26508, 45903, 744, 28292, 9731, 17247, 13335, 39101, 27028, 6685, 40089, 38441, 15943, 10175, 15087, 39102, 19437, 23636, 24558, 32269, 333, 24968, 20537, 42036, 10016, 13987, 35836, 30312, 30512, 3532, 21662, 12459, 21142, 48182, 48765, 49166, 46551, 34877, 24929, 334, 26171, 1081, 9053, 13758, 31922, 12490, 40597, 30110, 41620, 9233, 49158, 11847, 20266, 5739, 9212, 41083, 5552, 8641, 38631, 23782, 42529, 16404, 26838, 11979, 12309, 27978, 24376, 1369, 23860, 38512, 45291, 15313, 7759, 15359, 39306, 15291, 2910, 38657, 35067, 46954, 45515, 12206, 22920, 28899, 2382, 8396, 21072, 36789, 40708, 21692, 39987, 8555, 10511, 17795, 38211, 17047, 13652, 16887, 25032, 23942, 36961, 11646, 911, 46674, 34214, 9271, 5308, 28746, 7837, 10643, 21112, 16944, 37038, 20663, 44537, 23277, 30717, 31803, 5238, 49253, 6531, 1396, 12743, 15948, 13283, 25039, 30123, 372, 23503, 12385, 17463, 1536, 8290, 30634, 2368, 42169, 37846, 22881, 37596, 32031, 33390, 35191, 2052, 14238, 7278, 7827, 25816, 16671, 23642, 24306, 11385, 14875, 26925, 10992, 20974, 14341, 17255, 8587, 3068, 7543, 26315, 20704, 14077, 43439, 40229, 2281, 46481, 12804, 43460, 44744, 12649, 4128, 10789, 8201, 5253, 48200, 40754, 11889, 31831, 43214, 6799, 40638, 48480, 20456, 30579, 37491, 13542, 7343, 47189, 22321, 18201, 21625, 28681, 23557, 4211, 44625, 39619, 15726, 44775, 30702, 33953, 12850, 32423, 40198, 37265, 34624, 27574, 14947, 14328, 2679, 8309, 7864, 26603, 23122, 15171, 10573, 17736, 15678, 9469, 15365, 270, 45127, 4730, 19037, 14491, 30968, 47115, 11188, 23082, 28652, 25893, 13139, 38483, 28228, 29667, 1773, 18395, 37124, 21941, 6308, 7152, 25739, 31007, 14755, 32301, 11201, 15920, 2320, 44632, 558, 26481, 37083, 11701, 34101, 6797, 21882, 48172, 45226, 13246, 40264, 12211, 4879, 5018, 27350, 13379, 41587, 27508, 37512, 36234, 21081, 41573, 9924, 6441, 14879, 10436, 44041, 46797, 21683, 17674, 21806, 43707, 317, 16757, 16512, 20405, 36415, 8401, 30801, 9232, 12757, 9720, 19555, 44222, 22472, 27958, 17939, 7080, 6664, 9456, 13245, 20941, 9886, 10835, 40142, 31810, 38939, 31591, 35347, 19243, 20742, 405, 24935, 40334, 45871, 21762, 26926, 32403, 4434, 22993, 5262, 5595, 43233, 3430, 24849, 26748, 45141, 36065, 36078, 27404, 15501, 6261, 25115, 41129, 42821, 15672, 10218, 37724, 4512, 41941, 39912, 40492, 10837, 34543, 13053, 36288, 37774, 1244, 46162, 11369, 1137, 30757, 22924, 43676, 6191, 3538, 263, 14129, 36656, 48978, 2353, 28787, 45306, 44272, 222, 24875, 49008, 19017, 8448, 9776, 19053, 23394, 42913, 8845, 8251, 32129, 23496, 38604, 45137, 9336, 20448, 32039, 35616, 10422, 39577, 484, 22229, 6078, 45988, 10401, 22288, 5088, 38780, 24810, 31319, 32608, 4522, 5102, 31538, 29213, 341, 668, 32794, 43529, 28474, 6546, 19219, 36070, 9985, 33812, 16487, 15983, 19624, 46264, 29507, 17544, 46357, 3045, 10661, 27387, 47440, 21195, 18950, 29571, 32115, 36620, 33275, 45329, 24242, 27549, 18168, 6154, 33591, 11277, 41031, 22878, 40692, 8381, 19187, 31768, 42826, 6865, 34950, 39393, 17541, 20625, 43964, 5041, 9410, 43433, 27214, 19830, 24318, 9671, 27812, 27829, 8170, 18097, 10054, 3866, 7160, 492, 32489, 29165, 40868, 47702, 2657, 18262, 30108, 30104, 24269, 29103, 22238, 3854, 20502, 23325, 39083, 12882, 35633, 34732, 13035, 907, 6044, 40847, 6534, 21668, 25609, 19610, 48801, 32780, 2518, 41276, 4784, 29795, 2101, 43187, 5785, 29306, 39784, 46732, 33446, 11644, 26209, 37933, 41244, 34356, 37275, 26569, 18696, 26066, 40780, 17580, 18081, 42971, 9052, 10901, 42147, 32471, 10545, 22762, 1187, 37828, 29656, 35837, 15676, 41421, 5341, 49577, 4184, 11764, 1259, 34682, 27393, 12448, 10315, 31489, 36876, 27639, 41221, 21209, 47158, 7534, 36984, 14441, 31461, 45618, 27221, 41920, 7838, 24271, 41191, 19949, 2282, 3649, 9152, 1440, 23084, 27222, 42616, 37376, 9974, 35458, 18041, 8565, 36991, 13908, 32248, 8293, 36438, 5410, 2084, 5265, 17211, 9673, 46745, 47983, 48067, 18500, 34367, 44888, 44904, 10271, 35061, 29336, 49842, 11061, 12165, 17088, 23272, 42535, 35987, 46307, 6601, 1317, 18651, 4399, 13555, 6792, 48560, 34509, 38156, 22987, 3269, 19796, 12915, 38745, 25681, 21411, 6547, 6742, 21744, 13066, 49151, 31788, 40006, 29504, 48644, 44483, 44703, 33105, 10556, 37142, 3155, 23784, 15911, 18782, 46167, 26911, 43620, 33233, 38411, 43059, 22390, 38829, 36222, 23657, 3490, 21378, 23672, 49996, 45598, 1599, 1592, 7376, 11260, 29585, 32266, 33195, 43096, 35502, 1468, 19497, 35343, 5705, 12914, 39726, 8939, 12336, 48803, 14748, 22769, 23402, 48539, 22186, 22246, 15269, 19921, 6303, 49939, 16341, 17226, 37810, 9365, 11999, 938, 47068, 36541, 236, 34636, 17770, 37891, 15233, 36130, 48341, 39555, 25794, 48283, 17104, 46932, 22291, 40350, 23022, 44210, 32435, 11796, 38990, 2434, 44802, 28061, 15449, 38515, 30088, 39794, 43294, 28480, 16401, 3731, 49613, 12167, 13474, 9477, 43992, 7406, 43933, 32408, 44353, 14474, 1799, 45639, 23147, 45772, 1403, 21459, 31483, 5472, 15781, 44542, 17840, 3451, 16074, 15853, 8347, 32373, 6119, 4659, 30029, 6005, 2408, 48010, 2080, 46218, 35046, 16688, 3016, 47745, 39942, 24434, 40660, 23390, 44221, 43068, 17017, 9947, 32612, 37567, 20391, 29045, 26143, 12881, 10825, 24940, 30749, 45353, 26868, 32957, 45422, 18871, 20829, 21493, 20827, 29093, 20241, 29839, 45502, 8101, 1595, 45043, 14440, 19491, 35014, 31055, 34335, 31802, 23855, 32231, 29349, 11226, 19303, 332, 46286, 16247, 30331, 584, 25837, 16377, 45617, 33919, 48593, 8339, 48157, 7202, 25512, 33324, 3443, 5445, 16156, 15511, 2223, 32721, 39372, 32153, 35350, 28239, 44480, 14097, 45511, 33658, 6274, 11247, 2158, 48039, 8455, 29556, 21827, 40241, 1707, 39397, 49663, 27919, 303, 1034, 31921, 21974, 9835, 21627, 2426, 39642, 4167, 6492, 11303, 29291, 3767, 14634, 17332, 18384, 13054, 34482, 24933, 4524, 33197, 25082, 35214, 2049, 22522, 38629, 1603, 257, 39950, 40484, 2215, 45760, 14401, 44956, 32730, 9875, 40076, 16434, 935, 3479, 10772, 2684, 5548, 9113, 6609, 19685, 5011, 4837, 803, 23519, 3537, 18304, 34165, 16642, 41039, 45384, 2207, 31219, 37061, 2794, 31847, 6896, 46738, 11337, 36305, 37650, 8340, 29766, 15167, 41954, 14554, 37349, 32267, 20641, 28176, 1349, 7880, 14477, 49573, 44255, 31563, 25623, 36113, 22846, 31382, 30948, 3028, 23135, 32808, 24910, 45111, 44014, 44034, 18558, 36484, 27788, 32868, 15569, 44678, 28259, 19336, 1170, 41222, 1841, 40892, 44702, 48271, 16497, 8868, 44464, 44553, 20870, 45950, 27614, 195, 37435, 45046, 26944, 37790, 21644, 49452, 48044, 4957, 44863, 41144, 23537, 34150, 44291, 45191, 48375, 17648, 1965, 20985, 41086, 36150, 43981, 4509, 40050, 6718, 46724, 6252, 48887, 10741, 32652, 44862, 9137, 49985, 8585, 33870, 48855, 48089, 7282, 22565, 46363, 8579, 48112, 24505, 13997, 34076, 28424, 12058, 1644, 5403, 10377, 14679, 14715, 46515, 46874, 1705, 29202, 10320, 46737, 41335, 41867, 1804, 37913, 26960, 48273, 27590, 22665, 5164, 4740, 47131, 6949, 24918, 19846, 36627, 44359, 22800, 42490, 44740, 20509, 39974, 8681, 18527, 13714, 13634, 33878, 30919, 30983, 45543, 24679, 44348, 42518, 47390, 37934, 26215, 28362, 11384, 40643, 1092, 25061, 30093, 31542, 6471, 22171, 13524, 32906, 30459, 31106, 17910, 43634, 20415, 33908, 28642, 1368, 27558, 13641, 20273, 4313, 30743, 30812, 17426, 202, 2419, 11261, 11139, 8995, 48393, 9192, 27684, 21817, 28290, 22125, 29263, 18277, 33625, 6727, 27810, 24759, 5853, 15040, 32502, 43441, 17442, 693, 40912, 32981, 40346, 21386, 38167, 38081, 5458, 34775, 8800, 23164, 9995, 49042, 5806, 48555, 39249, 5638, 42635, 36043, 21029, 5330, 2982, 26805, 27789, 2188, 42895, 36931, 32534, 47255, 8513, 38295, 29842, 48516, 13164, 39705, 47442, 29289, 31192, 27924, 30253, 2256, 25041, 39124, 26645, 6807, 44229, 4385, 32692, 1613, 47628, 9357, 36913, 36303, 40231, 43236, 22723, 10484, 7922, 22787, 4163, 8229, 33039, 1461, 5596, 18129, 21758, 19078, 37468, 29495, 7134, 2128, 20006, 12355, 13782, 49390, 6136, 15320, 35103, 2738, 48668, 46315, 11252, 21820, 43024, 41419, 48260, 18185, 48598, 11090, 10081, 44887, 46014, 30840, 7615, 4549, 32923, 34671, 20527, 5105, 14282, 45419, 8784, 4514, 42274, 13444, 36089, 2559, 13661, 1882, 40558, 48293, 3692, 17598, 33052, 17807, 18479, 10284, 38444, 32358, 34319, 13260, 2777, 46772, 9526, 24295, 23299, 35819, 31108, 24099, 32240, 27534, 41589, 13041, 1794, 5286, 11031, 17687, 15103, 22450, 19282, 12272, 49924, 43621, 13788, 7820, 6187, 18091, 42318, 24119, 2676, 21145, 19234, 15786, 1319, 7246, 20582, 4511, 7316, 35182, 48638, 14813, 16048, 9963, 23769, 22930, 3752, 48925, 1375, 46780, 33018, 7808, 47729, 45128, 49910, 40902, 8714, 4795, 35537, 9667, 34890, 31565, 47174, 46199, 48168, 15439, 22293, 30367, 22464, 6456, 39917, 22423, 42590, 37520, 20680, 22497, 11776, 13754, 35604, 42658, 48878, 26685, 6945, 23435, 14790, 18408, 9109, 46763, 12186, 38863, 9531, 41168, 19540, 26766, 3128, 35465, 43180, 44307, 2921, 37833, 42510, 4968, 28572, 43760, 44690, 44039, 36125, 29601, 21609, 46356, 9125, 17080, 13736, 30544, 36258, 31520, 11274, 15525, 45932, 31699, 48524, 45332, 4045, 37515, 33012, 8120, 17168, 12364, 42321, 40119, 31191, 31573, 31149, 437, 30215, 5614, 34179, 12447, 8204, 761, 26617, 38269, 32958, 8921, 18465, 30139, 11136, 27197, 23857, 21560, 31539, 11067, 42967, 23692, 27408, 15668, 44399, 11533, 29687, 9822, 32670, 22120, 27910, 34507, 14969, 24449, 26257, 47917, 8754, 26879, 40138, 22867, 3705, 29104, 43755, 27267, 2876, 45149, 29810, 24378, 22579, 4644, 17059, 23019, 49658, 29417, 12453, 40960, 12064, 25036, 994, 46494, 11516, 48679, 27420, 35674, 40304, 35872, 46826, 41863, 14147, 35656, 38252, 1619, 39143, 43457, 30533, 36941, 9522, 12874, 16977, 46631, 40956, 23372, 18450, 15708, 40966, 49084, 24064, 4824, 35183, 15808, 12670, 27414, 29247, 42619, 16430, 47411, 28665, 21510, 670, 18163, 36314, 4807, 24448, 37754, 29950, 14023, 31767, 28968, 36844, 7005, 48339, 10817, 20137, 28616, 519, 12726, 27093, 32207, 8078, 43471, 2251, 9828, 22140, 8411, 8140, 41981, 7581, 33925, 44712, 44433, 8603, 33853, 7761, 23927, 42668, 8402, 49944, 24147, 46469, 49533, 5766, 48995, 19170, 11299, 12872, 4961, 47785, 4647, 35824, 6288, 17409, 49388, 9135, 14594, 8706, 4688, 4916, 6771, 37858, 26767, 12700, 16072, 15602, 32460, 43251, 7550, 36224, 16554, 16746, 27717, 34825, 42587, 1851, 37554, 5828, 26778, 45092, 35337, 41791, 10652, 2127, 14507, 10976, 2135, 28257, 12306, 24311, 46552, 8117, 17094, 46568, 21090, 9072, 41284, 7525, 34373, 6397, 23843, 8385, 2476, 18190, 37776, 28177, 25577, 48312, 773, 11279, 43909, 21095, 7410, 4325, 2635, 20360, 22045, 44193, 19876, 31196, 45795, 24385, 32904, 1002, 49918, 44418, 25701, 36182, 29863, 21499, 21186, 39633, 25888, 21855, 33851, 1091, 45079, 46166, 38806, 36915, 7045, 42640, 31820, 20175, 9411, 30484, 38043, 33969, 19938, 21891, 48309, 31059, 40858, 3781, 17234, 27039, 35370, 31212, 40258, 26792, 32980, 25305, 6349, 11781, 13843, 10417, 17959, 46757, 32300, 35004, 31637, 46408, 34102, 11976, 28417, 37669, 5826, 39728, 17642, 5012, 2692, 48024, 28829, 6684, 48894, 21960, 16960, 37820, 43354, 29885, 7003, 2439, 40117, 8804, 33855, 11423, 37654, 19642, 33974, 23181, 44797, 42600, 18441, 9520, 33267, 23124, 8894, 13208, 22438, 12247, 16727, 18460, 6705, 13266, 15425, 15057, 47537, 5875, 23850, 45670, 31962, 2288, 13877, 14647, 6617, 27199, 22958, 46572, 20540, 11676, 2485, 11920, 48226, 30339, 37765, 1085, 26131, 19679, 44478, 21647, 48747, 41024, 34527, 19770, 10683, 5831, 38438, 10900, 27623, 11320, 16231, 27296, 4777, 38069, 45767, 12240, 38350, 26490, 16478, 14894, 39030, 8091, 18506, 44519, 20377, 25927, 47149, 32431, 39229, 38579, 13172, 28959, 31991, 42823, 45995, 6440, 43861, 41023, 13732, 30207, 30858, 9793, 48203, 38543, 40539, 1611, 22901, 19492, 41285, 23729, 12495, 6679, 18210, 7908, 11420, 27830, 25114, 29338, 10162, 42075, 23728, 28693, 42805, 3503, 7569, 36963, 35726, 15208, 40817, 15586, 16890, 16884, 44321, 25759, 44963, 32508, 6583, 25020, 47505, 46694, 35862, 4151, 38986, 25614, 39051, 30595, 13463, 34312, 15242, 710, 14794, 4340, 30682, 36812, 46239, 40900, 26362, 33045, 46787, 45557, 9571, 25752, 24146, 920, 15970, 41562, 29242, 7967, 12720, 19751, 37480, 30100, 766, 9379, 38966, 26578, 45174, 47402, 13818, 43054, 42798, 8839, 49078, 12421, 37651, 43562, 6686, 37973, 10307, 21883, 36664, 46690, 28676, 39518, 27029, 17175, 32184, 14136, 5834, 44602, 48740, 41716, 24250, 43043, 5126, 8325, 43259, 16869, 14933, 16829, 48914, 29075, 32783, 26192, 5983, 22342, 21364, 19902, 48787, 46529, 10809, 4581, 1650, 5343, 32598, 49799, 38619, 34027, 24113, 43739, 33816, 48950, 29310, 35276, 20119, 38221, 34032, 6726, 24781, 1649, 31493, 22268, 33984, 39016, 14630, 328, 30414, 37984, 47874, 36227, 22364, 31517, 3468, 23979, 38580, 48711, 23761, 47629, 20029, 45377, 468, 40838, 41422, 10268, 18383, 38760, 18247, 34857, 9613, 8305, 5701, 47184, 30613, 8980, 26813, 24156, 38293, 5376, 15467, 12390, 3258, 30626, 16295, 19927, 43381, 41757, 45416, 48655, 6858, 35974, 29086, 19457, 42192, 19398, 25012, 31957, 25551, 39531, 49852, 27858, 30270, 38242, 43047, 31133, 3196, 21601, 36223, 18068, 23326, 44637, 35815, 19183, 49980, 20426, 46758, 30076, 14629, 11611, 2918, 27073, 13268, 42330, 7945, 13178, 28402, 42060, 15640, 3521, 38703, 48123, 43349, 26233, 45869, 37677, 41401, 2867, 22398, 14106, 28213, 48857, 35821, 25057, 40233, 521, 17997, 10373, 35858, 27657, 11029, 13415, 14563, 24089, 34611, 26731, 15921, 41048, 35091, 6780, 12764, 32867, 30142, 33899, 48714, 7823, 48543, 9893, 27665, 35023, 48614, 10535, 10031, 21529, 43798, 38641, 3916, 2937, 1179, 36307, 25123, 21533, 31154, 21038, 22914, 33867, 15549, 26128, 7326, 47789, 40195, 15677, 36720, 20030, 15236, 28910, 10866, 25254, 46576, 12975, 37595, 1353, 22478, 27963, 16053, 18964, 47784, 49325, 6476, 31941, 36139, 31306, 47840, 30120, 11248, 33255, 30617, 38840, 43087, 44658, 44668, 17100, 11395, 24525, 40139, 16941, 14966, 43496, 44705, 45834, 27865, 24334, 40991, 6213, 46607, 40661, 49234, 2436, 11298, 7928, 5763, 49947, 24438, 26280, 3652, 37706, 22127, 23925, 6717, 6960, 29246, 37320, 40332, 21919, 35928, 18364, 21169, 7012, 39702, 48026, 9593, 15237, 36494, 16848, 4675, 48319, 1211, 1839, 28624, 43143, 20649, 46080, 8182, 4015, 5256, 18935, 16813, 18398, 46875, 49298, 29603, 46168, 15797, 7189, 18079, 13284, 48723, 709, 16465, 3363, 31313, 37068, 925, 46900, 46479, 4061, 23246, 2494, 23885, 43391, 6944, 47196, 3971, 28277, 11974, 16978, 28013, 11373, 21048, 27796, 30002, 47197, 20990, 8992, 5888, 19052, 32439, 16050, 9304, 34541, 24455, 1297, 13876, 44337, 33817, 24276, 12179, 39011, 33248, 40458, 39492, 15435, 3184, 33184, 43948, 49449, 8631, 17891, 11670, 32696, 19411, 5161, 34344, 2416, 13232, 25448, 22718, 32861, 48006, 10314, 28764, 45256, 47324, 44997, 7434, 37175, 35497, 37915, 47476, 15538, 18882, 9157, 9714, 24769, 35487, 3005, 16909, 6516, 13317, 48488, 49542, 14917, 45008, 13885, 11276, 27343, 14918, 49145, 21770, 36707, 45430, 30306, 43276, 14317, 32792, 14431, 18847, 11490, 39521, 40946, 20608, 9774, 27568, 24871, 33319, 20523, 19022, 24170, 35575, 4394, 47286, 1060, 39724, 32971, 17667, 26174, 21555, 42178, 23116, 28567, 40192, 31814, 13530, 27178, 5133, 2873, 23128, 45459, 7621, 2981, 35951, 19226, 1408, 30740, 15507, 45574, 35187, 10709, 20326, 24615, 1563, 17724, 37391, 15782, 2268, 48819, 21270, 27123, 17184, 18519, 41359, 18463, 46910, 31838, 30247, 18386, 37531, 1769, 26416, 18020, 20111, 16958, 42421, 21866, 32155, 2123, 12354, 29398, 24812, 4108, 14121, 26049, 998, 38466, 8300, 37280, 18926, 17045, 35442, 37459, 31407, 14776, 35916, 45880, 14099, 7701, 37371, 13286, 33653, 952, 26841, 44066, 44069, 15610, 5585, 12708, 32500, 32468, 4333, 2182, 22874, 5668, 1454, 5171, 18066, 22511, 22912, 35539, 19438, 49352, 20573, 33606, 32716, 6363, 9705, 28379, 32101, 13417, 48594, 24507, 33528, 14926, 46836, 4218, 1935, 29973, 44858, 40845, 14292, 44020, 47192, 14582, 26915, 46545, 12609, 26655, 43142, 43822, 33645, 5315, 41179, 9519, 49411, 2678, 40948, 28221, 7294, 47704, 23356, 42724, 950, 875, 32683, 25133, 42119, 21593, 5574, 48321, 25714, 27966, 45345, 14871, 39580, 9028, 16374, 28015, 30766, 16468, 35730, 30387, 40145, 35527, 19451, 8105, 44934, 25024, 21989, 47502, 20930, 12833, 4388, 24478, 662, 4065, 14539, 48730, 29330, 2309, 2456, 35110, 4841, 11257, 19524, 28070, 35741, 22601, 34120, 19349, 38151, 29537, 26324, 37369, 27745, 33027, 24931, 30935, 38093, 38995, 5692, 21138, 30710, 22065, 4413, 19007, 7013, 4992, 16243, 27451, 19583, 3894, 6477, 6231, 9517, 2660, 8364, 16551, 29001, 22980, 25315, 27892, 27062, 26212, 5904, 23483, 27709, 8163, 2582, 27337, 31874, 43545, 3798, 49206, 47612, 46145, 8600, 20313, 15795, 10325]\n"
     ]
    }
   ],
   "source": [
    "print(subset_dataset_new.subset_indices)"
   ]
  },
  {
   "cell_type": "code",
   "execution_count": 157,
   "id": "18434515",
   "metadata": {},
   "outputs": [
    {
     "name": "stdout",
     "output_type": "stream",
     "text": [
      "7956\n"
     ]
    }
   ],
   "source": [
    "count = 0\n",
    "for i in subset_dataset_new.subset_indices:\n",
    "    if i not in subset_dataset_imbalanced.subset_indices:\n",
    "        count += 1\n",
    "print(count)"
   ]
  },
  {
   "cell_type": "code",
   "execution_count": null,
   "id": "e5073cf0",
   "metadata": {},
   "outputs": [],
   "source": []
  },
  {
   "cell_type": "code",
   "execution_count": 34,
   "id": "902d3d78",
   "metadata": {},
   "outputs": [
    {
     "data": {
      "text/plain": [
       "<matplotlib.image.AxesImage at 0x7f7ea97c33a0>"
      ]
     },
     "execution_count": 34,
     "metadata": {},
     "output_type": "execute_result"
    },
    {
     "data": {
      "image/png": "[encoded data removed]",
      "text/plain": [
       "<Figure size 640x480 with 2 Axes>"
      ]
     },
     "metadata": {},
     "output_type": "display_data"
    }
   ],
   "source": [
    "import matplotlib.pyplot as plt\n",
    "\n",
    "fig = plt.figure()\n",
    "plt.subplot(1,2,1)\n",
    "plt.title('Original image')\n",
    "plt.imshow(samples[0][3].T)\n",
    "\n",
    "plt.subplot(1,2,2)\n",
    "plt.title('Augmented image')\n",
    "plt.imshow(augumented_images[0][0].T)"
   ]
  },
  {
   "cell_type": "code",
   "execution_count": null,
   "id": "0edddc12",
   "metadata": {},
   "outputs": [],
   "source": []
  },
  {
   "cell_type": "code",
   "execution_count": 22,
   "metadata": {},
   "outputs": [],
   "source": [
    "# sample_index = read_subset_dataset \n",
    "sample_index = subset_dataset_new.subset_indices\n",
    "X_train = []\n",
    "y_train = []\n",
    "for i in sample_index:\n",
    "    X = new_cifar[i][0]\n",
    "    X_train.append(X)\n",
    "    y = new_cifar[i][1]\n",
    "    y_train.append(y)\n",
    "\n",
    "im_subset_train_data = [(X, y) for X, y in zip(X_train, y_train)] #包装为数据对\n",
    "# trainDataLoader = torch.utils.data.DataLoader(sampled_train_data, batch_size=16, shuffle=True)"
   ]
  },
  {
   "cell_type": "code",
   "execution_count": 23,
   "metadata": {},
   "outputs": [
    {
     "name": "stdout",
     "output_type": "stream",
     "text": [
      "22449 17513\n"
     ]
    }
   ],
   "source": [
    "less50 = 0\n",
    "more50 = 0\n",
    "for X,y in im_subset_train_data:\n",
    "    if y<50:\n",
    "        less50+=1\n",
    "    else:\n",
    "        more50+=1\n",
    "print(less50,more50)"
   ]
  },
  {
   "cell_type": "code",
   "execution_count": 24,
   "metadata": {},
   "outputs": [
    {
     "name": "stdout",
     "output_type": "stream",
     "text": [
      "{'net': 'vgg16', 'gpu': True, 'b': 100, 'warm': 1, 'lr': 0.1, 'resume': False}\n",
      "train_data loader is ready\n",
      "Files already downloaded and verified\n",
      "test_data loader is ready\n",
      "Training Epoch: 1 [39962/39962]\tLoss: 4.0686\tLR: 0.100000\n",
      "epoch 1 training time consumed: 55.73s\n",
      "Evaluating Network.....\n",
      "Test set: Epoch: 1, Average loss: 0.0471, Accuracy: 0.0284, Time consumed:14.60s\n",
      "\n"
     ]
    },
    {
     "name": "stderr",
     "output_type": "stream",
     "text": [
      "d:\\anaconda\\anaconda3\\envs\\260d\\lib\\site-packages\\torch\\optim\\lr_scheduler.py:149: UserWarning: The epoch parameter in `scheduler.step()` was not necessary and is being deprecated where possible. Please use `scheduler.step()` to step the scheduler. During the deprecation, if epoch is different from None, the closed form is used instead of the new chainable form, where available. Please open an issue if you are unable to replicate your use case: https://github.com/pytorch/pytorch/issues/new/choose.\n",
      "  warnings.warn(EPOCH_DEPRECATION_WARNING, UserWarning)\n"
     ]
    },
    {
     "name": "stdout",
     "output_type": "stream",
     "text": [
      "Training Epoch: 2 [39962/39962]\tLoss: 3.8547\tLR: 0.100000\n",
      "epoch 2 training time consumed: 54.12s\n",
      "Evaluating Network.....\n",
      "Test set: Epoch: 2, Average loss: 0.0464, Accuracy: 0.0309, Time consumed:15.04s\n",
      "\n",
      "Training Epoch: 3 [39962/39962]\tLoss: 3.7893\tLR: 0.100000\n",
      "epoch 3 training time consumed: 55.43s\n",
      "Evaluating Network.....\n",
      "Test set: Epoch: 3, Average loss: 0.0460, Accuracy: 0.0407, Time consumed:14.97s\n",
      "\n",
      "Training Epoch: 4 [39962/39962]\tLoss: 3.7202\tLR: 0.100000\n",
      "epoch 4 training time consumed: 54.45s\n",
      "Evaluating Network.....\n",
      "Test set: Epoch: 4, Average loss: 0.0446, Accuracy: 0.0437, Time consumed:15.28s\n",
      "\n",
      "Training Epoch: 5 [39962/39962]\tLoss: 3.7057\tLR: 0.100000\n",
      "epoch 5 training time consumed: 55.75s\n",
      "Evaluating Network.....\n",
      "Test set: Epoch: 5, Average loss: 0.0437, Accuracy: 0.0534, Time consumed:15.21s\n",
      "\n",
      "Training Epoch: 6 [39962/39962]\tLoss: 3.8880\tLR: 0.100000\n",
      "epoch 6 training time consumed: 55.94s\n",
      "Evaluating Network.....\n",
      "Test set: Epoch: 6, Average loss: 0.0454, Accuracy: 0.0508, Time consumed:14.78s\n",
      "\n",
      "Training Epoch: 7 [39962/39962]\tLoss: 3.6881\tLR: 0.100000\n",
      "epoch 7 training time consumed: 52.89s\n",
      "Evaluating Network.....\n",
      "Test set: Epoch: 7, Average loss: 0.0431, Accuracy: 0.0556, Time consumed:14.91s\n",
      "\n",
      "Training Epoch: 8 [39962/39962]\tLoss: 3.4741\tLR: 0.100000\n",
      "epoch 8 training time consumed: 53.81s\n",
      "Evaluating Network.....\n",
      "Test set: Epoch: 8, Average loss: 0.0441, Accuracy: 0.0654, Time consumed:14.73s\n",
      "\n",
      "Training Epoch: 9 [39962/39962]\tLoss: 3.3359\tLR: 0.100000\n",
      "epoch 9 training time consumed: 50.25s\n",
      "Evaluating Network.....\n",
      "Test set: Epoch: 9, Average loss: 0.0430, Accuracy: 0.0668, Time consumed:14.79s\n",
      "\n",
      "Training Epoch: 10 [39962/39962]\tLoss: 3.4923\tLR: 0.100000\n",
      "epoch 10 training time consumed: 51.13s\n",
      "Evaluating Network.....\n",
      "Test set: Epoch: 10, Average loss: 0.0419, Accuracy: 0.0755, Time consumed:14.43s\n",
      "\n",
      "saving weights file to checkpoint\\vgg16\\Sunday_03_December_2023_19h_02m_39s\\vgg16-10-regular.pth\n",
      "Training Epoch: 11 [39962/39962]\tLoss: 3.8528\tLR: 0.100000\n",
      "epoch 11 training time consumed: 50.66s\n",
      "Evaluating Network.....\n",
      "Test set: Epoch: 11, Average loss: 0.0434, Accuracy: 0.0805, Time consumed:15.10s\n",
      "\n",
      "Training Epoch: 12 [39962/39962]\tLoss: 3.5013\tLR: 0.100000\n",
      "epoch 12 training time consumed: 54.57s\n",
      "Evaluating Network.....\n",
      "Test set: Epoch: 12, Average loss: 0.0437, Accuracy: 0.0786, Time consumed:15.49s\n",
      "\n",
      "Training Epoch: 13 [39962/39962]\tLoss: 3.4167\tLR: 0.100000\n",
      "epoch 13 training time consumed: 58.91s\n",
      "Evaluating Network.....\n",
      "Test set: Epoch: 13, Average loss: 0.0442, Accuracy: 0.0745, Time consumed:14.90s\n",
      "\n",
      "Training Epoch: 14 [39962/39962]\tLoss: 3.3651\tLR: 0.100000\n",
      "epoch 14 training time consumed: 49.96s\n",
      "Evaluating Network.....\n",
      "Test set: Epoch: 14, Average loss: 0.0434, Accuracy: 0.0968, Time consumed:14.55s\n",
      "\n",
      "Training Epoch: 15 [39962/39962]\tLoss: 3.1076\tLR: 0.100000\n",
      "epoch 15 training time consumed: 52.45s\n",
      "Evaluating Network.....\n",
      "Test set: Epoch: 15, Average loss: 0.0452, Accuracy: 0.0732, Time consumed:15.15s\n",
      "\n",
      "Training Epoch: 16 [39962/39962]\tLoss: 3.4270\tLR: 0.100000\n",
      "epoch 16 training time consumed: 51.14s\n",
      "Evaluating Network.....\n",
      "Test set: Epoch: 16, Average loss: 0.0414, Accuracy: 0.1037, Time consumed:14.94s\n",
      "\n",
      "Training Epoch: 17 [39962/39962]\tLoss: 3.1472\tLR: 0.100000\n",
      "epoch 17 training time consumed: 53.56s\n",
      "Evaluating Network.....\n",
      "Test set: Epoch: 17, Average loss: 0.0421, Accuracy: 0.0918, Time consumed:14.90s\n",
      "\n",
      "Training Epoch: 18 [39962/39962]\tLoss: 3.0377\tLR: 0.100000\n",
      "epoch 18 training time consumed: 50.78s\n",
      "Evaluating Network.....\n",
      "Test set: Epoch: 18, Average loss: 0.0410, Accuracy: 0.1271, Time consumed:14.76s\n",
      "\n",
      "Training Epoch: 19 [39962/39962]\tLoss: 3.3985\tLR: 0.100000\n",
      "epoch 19 training time consumed: 50.95s\n",
      "Evaluating Network.....\n",
      "Test set: Epoch: 19, Average loss: 0.0440, Accuracy: 0.1115, Time consumed:14.85s\n",
      "\n",
      "Training Epoch: 20 [39962/39962]\tLoss: 2.8323\tLR: 0.100000\n",
      "epoch 20 training time consumed: 54.31s\n",
      "Evaluating Network.....\n",
      "Test set: Epoch: 20, Average loss: 0.0452, Accuracy: 0.1012, Time consumed:15.00s\n",
      "\n",
      "saving weights file to checkpoint\\vgg16\\Sunday_03_December_2023_19h_02m_39s\\vgg16-20-regular.pth\n",
      "Training Epoch: 21 [39962/39962]\tLoss: 2.7292\tLR: 0.100000\n",
      "epoch 21 training time consumed: 56.21s\n",
      "Evaluating Network.....\n",
      "Test set: Epoch: 21, Average loss: 0.0385, Accuracy: 0.1395, Time consumed:14.78s\n",
      "\n",
      "Training Epoch: 22 [39962/39962]\tLoss: 3.0064\tLR: 0.100000\n",
      "epoch 22 training time consumed: 51.00s\n",
      "Evaluating Network.....\n",
      "Test set: Epoch: 22, Average loss: 0.0392, Accuracy: 0.1542, Time consumed:14.62s\n",
      "\n",
      "Training Epoch: 23 [39962/39962]\tLoss: 2.9510\tLR: 0.100000\n",
      "epoch 23 training time consumed: 49.73s\n",
      "Evaluating Network.....\n",
      "Test set: Epoch: 23, Average loss: 0.0372, Accuracy: 0.1636, Time consumed:15.16s\n",
      "\n",
      "Training Epoch: 24 [39962/39962]\tLoss: 2.6488\tLR: 0.100000\n",
      "epoch 24 training time consumed: 53.45s\n",
      "Evaluating Network.....\n",
      "Test set: Epoch: 24, Average loss: 0.0398, Accuracy: 0.1441, Time consumed:14.65s\n",
      "\n",
      "Training Epoch: 25 [39962/39962]\tLoss: 2.6324\tLR: 0.100000\n",
      "epoch 25 training time consumed: 49.45s\n",
      "Evaluating Network.....\n",
      "Test set: Epoch: 25, Average loss: 0.0394, Accuracy: 0.1485, Time consumed:14.82s\n",
      "\n",
      "Training Epoch: 26 [39962/39962]\tLoss: 2.8376\tLR: 0.100000\n",
      "epoch 26 training time consumed: 54.76s\n",
      "Evaluating Network.....\n",
      "Test set: Epoch: 26, Average loss: 0.0375, Accuracy: 0.1626, Time consumed:14.47s\n",
      "\n",
      "Training Epoch: 27 [39962/39962]\tLoss: 2.5360\tLR: 0.100000\n",
      "epoch 27 training time consumed: 49.33s\n",
      "Evaluating Network.....\n",
      "Test set: Epoch: 27, Average loss: 0.0371, Accuracy: 0.1753, Time consumed:14.63s\n",
      "\n",
      "Training Epoch: 28 [39962/39962]\tLoss: 3.1639\tLR: 0.100000\n",
      "epoch 28 training time consumed: 50.09s\n",
      "Evaluating Network.....\n",
      "Test set: Epoch: 28, Average loss: 0.0387, Accuracy: 0.1742, Time consumed:14.69s\n",
      "\n",
      "Training Epoch: 29 [39962/39962]\tLoss: 2.4819\tLR: 0.100000\n",
      "epoch 29 training time consumed: 49.99s\n",
      "Evaluating Network.....\n",
      "Test set: Epoch: 29, Average loss: 0.0361, Accuracy: 0.1796, Time consumed:14.44s\n",
      "\n",
      "Training Epoch: 30 [39962/39962]\tLoss: 2.7309\tLR: 0.100000\n",
      "epoch 30 training time consumed: 50.49s\n",
      "Evaluating Network.....\n",
      "Test set: Epoch: 30, Average loss: 0.0373, Accuracy: 0.1760, Time consumed:14.48s\n",
      "\n",
      "saving weights file to checkpoint\\vgg16\\Sunday_03_December_2023_19h_02m_39s\\vgg16-30-regular.pth\n",
      "Training Epoch: 31 [39962/39962]\tLoss: 2.4309\tLR: 0.100000\n",
      "epoch 31 training time consumed: 52.22s\n",
      "Evaluating Network.....\n",
      "Test set: Epoch: 31, Average loss: 0.0410, Accuracy: 0.1635, Time consumed:14.81s\n",
      "\n",
      "Training Epoch: 32 [39962/39962]\tLoss: 2.8973\tLR: 0.100000\n",
      "epoch 32 training time consumed: 48.39s\n",
      "Evaluating Network.....\n",
      "Test set: Epoch: 32, Average loss: 0.0348, Accuracy: 0.1983, Time consumed:14.33s\n",
      "\n",
      "Training Epoch: 33 [39962/39962]\tLoss: 2.2859\tLR: 0.100000\n",
      "epoch 33 training time consumed: 46.46s\n",
      "Evaluating Network.....\n",
      "Test set: Epoch: 33, Average loss: 0.0371, Accuracy: 0.2006, Time consumed:14.34s\n",
      "\n",
      "Training Epoch: 34 [39962/39962]\tLoss: 2.8111\tLR: 0.100000\n",
      "epoch 34 training time consumed: 46.18s\n",
      "Evaluating Network.....\n",
      "Test set: Epoch: 34, Average loss: 0.0383, Accuracy: 0.1988, Time consumed:14.36s\n",
      "\n",
      "Training Epoch: 35 [39962/39962]\tLoss: 2.0266\tLR: 0.100000\n",
      "epoch 35 training time consumed: 46.62s\n",
      "Evaluating Network.....\n",
      "Test set: Epoch: 35, Average loss: 0.0383, Accuracy: 0.1928, Time consumed:14.16s\n",
      "\n",
      "Training Epoch: 36 [39962/39962]\tLoss: 2.0971\tLR: 0.100000\n",
      "epoch 36 training time consumed: 46.20s\n",
      "Evaluating Network.....\n",
      "Test set: Epoch: 36, Average loss: 0.0357, Accuracy: 0.2124, Time consumed:14.36s\n",
      "\n",
      "Training Epoch: 37 [39962/39962]\tLoss: 2.0563\tLR: 0.100000\n",
      "epoch 37 training time consumed: 48.94s\n",
      "Evaluating Network.....\n",
      "Test set: Epoch: 37, Average loss: 0.0374, Accuracy: 0.2054, Time consumed:14.27s\n",
      "\n",
      "Training Epoch: 38 [39962/39962]\tLoss: 2.0772\tLR: 0.100000\n",
      "epoch 38 training time consumed: 45.97s\n",
      "Evaluating Network.....\n",
      "Test set: Epoch: 38, Average loss: 0.0400, Accuracy: 0.1966, Time consumed:14.20s\n",
      "\n",
      "Training Epoch: 39 [39962/39962]\tLoss: 2.0624\tLR: 0.100000\n",
      "epoch 39 training time consumed: 48.36s\n",
      "Evaluating Network.....\n",
      "Test set: Epoch: 39, Average loss: 0.0420, Accuracy: 0.1880, Time consumed:14.25s\n",
      "\n",
      "Training Epoch: 40 [39962/39962]\tLoss: 1.0701\tLR: 0.020000\n",
      "epoch 40 training time consumed: 46.86s\n",
      "Evaluating Network.....\n",
      "Test set: Epoch: 40, Average loss: 0.0336, Accuracy: 0.2958, Time consumed:14.48s\n",
      "\n",
      "saving weights file to checkpoint\\vgg16\\Sunday_03_December_2023_19h_02m_39s\\vgg16-40-regular.pth\n",
      "Training Epoch: 41 [39962/39962]\tLoss: 1.0614\tLR: 0.020000\n",
      "epoch 41 training time consumed: 47.88s\n",
      "Evaluating Network.....\n",
      "Test set: Epoch: 41, Average loss: 0.0369, Accuracy: 0.2882, Time consumed:14.70s\n",
      "\n",
      "Training Epoch: 42 [39962/39962]\tLoss: 1.1086\tLR: 0.020000\n",
      "epoch 42 training time consumed: 46.48s\n",
      "Evaluating Network.....\n",
      "Test set: Epoch: 42, Average loss: 0.0393, Accuracy: 0.2963, Time consumed:14.35s\n",
      "\n",
      "Training Epoch: 43 [39962/39962]\tLoss: 0.4682\tLR: 0.020000\n",
      "epoch 43 training time consumed: 46.25s\n",
      "Evaluating Network.....\n",
      "Test set: Epoch: 43, Average loss: 0.0402, Accuracy: 0.2875, Time consumed:14.30s\n",
      "\n",
      "Training Epoch: 44 [39962/39962]\tLoss: 0.6545\tLR: 0.020000\n",
      "epoch 44 training time consumed: 46.48s\n",
      "Evaluating Network.....\n",
      "Test set: Epoch: 44, Average loss: 0.0408, Accuracy: 0.2857, Time consumed:14.30s\n",
      "\n",
      "Training Epoch: 45 [39962/39962]\tLoss: 0.5328\tLR: 0.020000\n",
      "epoch 45 training time consumed: 46.30s\n",
      "Evaluating Network.....\n",
      "Test set: Epoch: 45, Average loss: 0.0413, Accuracy: 0.2864, Time consumed:14.66s\n",
      "\n",
      "Training Epoch: 46 [39962/39962]\tLoss: 0.4932\tLR: 0.020000\n",
      "epoch 46 training time consumed: 49.41s\n",
      "Evaluating Network.....\n",
      "Test set: Epoch: 46, Average loss: 0.0479, Accuracy: 0.2432, Time consumed:14.22s\n",
      "\n",
      "Training Epoch: 47 [39962/39962]\tLoss: 0.7349\tLR: 0.020000\n",
      "epoch 47 training time consumed: 46.61s\n",
      "Evaluating Network.....\n",
      "Test set: Epoch: 47, Average loss: 0.0458, Accuracy: 0.2697, Time consumed:14.64s\n",
      "\n",
      "Training Epoch: 48 [39962/39962]\tLoss: 0.3991\tLR: 0.020000\n",
      "epoch 48 training time consumed: 45.97s\n",
      "Evaluating Network.....\n",
      "Test set: Epoch: 48, Average loss: 0.0457, Accuracy: 0.2770, Time consumed:14.33s\n",
      "\n",
      "Training Epoch: 49 [39962/39962]\tLoss: 0.5336\tLR: 0.020000\n",
      "epoch 49 training time consumed: 49.86s\n",
      "Evaluating Network.....\n",
      "Test set: Epoch: 49, Average loss: 0.0439, Accuracy: 0.2906, Time consumed:14.60s\n",
      "\n",
      "Training Epoch: 50 [39962/39962]\tLoss: 0.6584\tLR: 0.020000\n",
      "epoch 50 training time consumed: 47.65s\n",
      "Evaluating Network.....\n",
      "Test set: Epoch: 50, Average loss: 0.0444, Accuracy: 0.2779, Time consumed:14.88s\n",
      "\n",
      "saving weights file to checkpoint\\vgg16\\Sunday_03_December_2023_19h_02m_39s\\vgg16-50-regular.pth\n",
      "Training Epoch: 51 [39962/39962]\tLoss: 0.8584\tLR: 0.020000\n",
      "epoch 51 training time consumed: 49.84s\n",
      "Evaluating Network.....\n",
      "Test set: Epoch: 51, Average loss: 0.0464, Accuracy: 0.2676, Time consumed:14.67s\n",
      "\n",
      "Training Epoch: 52 [39962/39962]\tLoss: 0.3803\tLR: 0.020000\n",
      "epoch 52 training time consumed: 47.09s\n",
      "Evaluating Network.....\n",
      "Test set: Epoch: 52, Average loss: 0.0466, Accuracy: 0.2679, Time consumed:14.43s\n",
      "\n",
      "Training Epoch: 53 [39962/39962]\tLoss: 0.6485\tLR: 0.020000\n",
      "epoch 53 training time consumed: 46.67s\n",
      "Evaluating Network.....\n",
      "Test set: Epoch: 53, Average loss: 0.0475, Accuracy: 0.2454, Time consumed:14.35s\n",
      "\n",
      "Training Epoch: 54 [39962/39962]\tLoss: 0.5116\tLR: 0.020000\n",
      "epoch 54 training time consumed: 46.47s\n",
      "Evaluating Network.....\n",
      "Test set: Epoch: 54, Average loss: 0.0458, Accuracy: 0.2641, Time consumed:14.34s\n",
      "\n",
      "Training Epoch: 55 [39962/39962]\tLoss: 0.4028\tLR: 0.020000\n",
      "epoch 55 training time consumed: 46.49s\n",
      "Evaluating Network.....\n",
      "Test set: Epoch: 55, Average loss: 0.0492, Accuracy: 0.2571, Time consumed:14.34s\n",
      "\n",
      "Training Epoch: 56 [39962/39962]\tLoss: 0.4749\tLR: 0.020000\n",
      "epoch 56 training time consumed: 47.08s\n",
      "Evaluating Network.....\n",
      "Test set: Epoch: 56, Average loss: 0.0457, Accuracy: 0.2645, Time consumed:14.73s\n",
      "\n",
      "Training Epoch: 57 [39962/39962]\tLoss: 0.6185\tLR: 0.020000\n",
      "epoch 57 training time consumed: 47.36s\n",
      "Evaluating Network.....\n",
      "Test set: Epoch: 57, Average loss: 0.0465, Accuracy: 0.2613, Time consumed:14.48s\n",
      "\n",
      "Training Epoch: 58 [39962/39962]\tLoss: 0.5954\tLR: 0.020000\n",
      "epoch 58 training time consumed: 47.57s\n",
      "Evaluating Network.....\n",
      "Test set: Epoch: 58, Average loss: 0.0462, Accuracy: 0.2739, Time consumed:14.60s\n",
      "\n",
      "Training Epoch: 59 [39962/39962]\tLoss: 0.6065\tLR: 0.020000\n",
      "epoch 59 training time consumed: 47.73s\n",
      "Evaluating Network.....\n",
      "Test set: Epoch: 59, Average loss: 0.0425, Accuracy: 0.2770, Time consumed:14.45s\n",
      "\n",
      "Training Epoch: 60 [39962/39962]\tLoss: 0.2803\tLR: 0.020000\n",
      "epoch 60 training time consumed: 47.27s\n",
      "Evaluating Network.....\n",
      "Test set: Epoch: 60, Average loss: 0.0485, Accuracy: 0.2660, Time consumed:14.34s\n",
      "\n",
      "saving weights file to checkpoint\\vgg16\\Sunday_03_December_2023_19h_02m_39s\\vgg16-60-regular.pth\n",
      "Training Epoch: 61 [39962/39962]\tLoss: 0.3531\tLR: 0.020000\n",
      "epoch 61 training time consumed: 47.11s\n",
      "Evaluating Network.....\n",
      "Test set: Epoch: 61, Average loss: 0.0432, Accuracy: 0.2769, Time consumed:14.33s\n",
      "\n",
      "Training Epoch: 62 [39962/39962]\tLoss: 0.5687\tLR: 0.020000\n",
      "epoch 62 training time consumed: 46.64s\n",
      "Evaluating Network.....\n",
      "Test set: Epoch: 62, Average loss: 0.0455, Accuracy: 0.2731, Time consumed:14.18s\n",
      "\n",
      "Training Epoch: 63 [39962/39962]\tLoss: 0.2522\tLR: 0.020000\n",
      "epoch 63 training time consumed: 46.28s\n",
      "Evaluating Network.....\n",
      "Test set: Epoch: 63, Average loss: 0.0467, Accuracy: 0.2804, Time consumed:14.27s\n",
      "\n",
      "Training Epoch: 64 [39962/39962]\tLoss: 0.3497\tLR: 0.020000\n",
      "epoch 64 training time consumed: 47.51s\n",
      "Evaluating Network.....\n",
      "Test set: Epoch: 64, Average loss: 0.0459, Accuracy: 0.2692, Time consumed:14.46s\n",
      "\n",
      "Training Epoch: 65 [39962/39962]\tLoss: 0.3806\tLR: 0.020000\n",
      "epoch 65 training time consumed: 46.45s\n",
      "Evaluating Network.....\n",
      "Test set: Epoch: 65, Average loss: 0.0456, Accuracy: 0.2694, Time consumed:14.31s\n",
      "\n",
      "Training Epoch: 66 [39962/39962]\tLoss: 0.1967\tLR: 0.020000\n",
      "epoch 66 training time consumed: 46.56s\n",
      "Evaluating Network.....\n",
      "Test set: Epoch: 66, Average loss: 0.0494, Accuracy: 0.2248, Time consumed:15.15s\n",
      "\n",
      "Training Epoch: 67 [39962/39962]\tLoss: 0.4596\tLR: 0.020000\n",
      "epoch 67 training time consumed: 47.55s\n",
      "Evaluating Network.....\n",
      "Test set: Epoch: 67, Average loss: 0.0468, Accuracy: 0.2795, Time consumed:14.27s\n",
      "\n",
      "Training Epoch: 68 [39962/39962]\tLoss: 0.1964\tLR: 0.020000\n",
      "epoch 68 training time consumed: 45.89s\n",
      "Evaluating Network.....\n",
      "Test set: Epoch: 68, Average loss: 0.0473, Accuracy: 0.2648, Time consumed:14.30s\n",
      "\n",
      "Training Epoch: 69 [39962/39962]\tLoss: 0.4370\tLR: 0.020000\n",
      "epoch 69 training time consumed: 46.88s\n",
      "Evaluating Network.....\n",
      "Test set: Epoch: 69, Average loss: 0.0478, Accuracy: 0.2629, Time consumed:14.38s\n",
      "\n",
      "Training Epoch: 70 [39962/39962]\tLoss: 0.2107\tLR: 0.020000\n",
      "epoch 70 training time consumed: 46.56s\n",
      "Evaluating Network.....\n",
      "Test set: Epoch: 70, Average loss: 0.0472, Accuracy: 0.2678, Time consumed:14.37s\n",
      "\n",
      "saving weights file to checkpoint\\vgg16\\Sunday_03_December_2023_19h_02m_39s\\vgg16-70-regular.pth\n",
      "Training Epoch: 71 [39962/39962]\tLoss: 0.2615\tLR: 0.020000\n",
      "epoch 71 training time consumed: 48.30s\n",
      "Evaluating Network.....\n",
      "Test set: Epoch: 71, Average loss: 0.0450, Accuracy: 0.2617, Time consumed:14.29s\n",
      "\n",
      "Training Epoch: 72 [39962/39962]\tLoss: 0.5629\tLR: 0.020000\n",
      "epoch 72 training time consumed: 46.47s\n",
      "Evaluating Network.....\n",
      "Test set: Epoch: 72, Average loss: 0.0473, Accuracy: 0.2685, Time consumed:14.36s\n",
      "\n",
      "Training Epoch: 73 [39962/39962]\tLoss: 0.6643\tLR: 0.020000\n",
      "epoch 73 training time consumed: 46.44s\n",
      "Evaluating Network.....\n",
      "Test set: Epoch: 73, Average loss: 0.0477, Accuracy: 0.2727, Time consumed:14.33s\n",
      "\n",
      "Training Epoch: 74 [39962/39962]\tLoss: 0.4633\tLR: 0.020000\n",
      "epoch 74 training time consumed: 46.03s\n",
      "Evaluating Network.....\n",
      "Test set: Epoch: 74, Average loss: 0.0463, Accuracy: 0.2852, Time consumed:14.34s\n",
      "\n",
      "Training Epoch: 75 [39962/39962]\tLoss: 0.1706\tLR: 0.020000\n",
      "epoch 75 training time consumed: 47.28s\n",
      "Evaluating Network.....\n",
      "Test set: Epoch: 75, Average loss: 0.0468, Accuracy: 0.2810, Time consumed:14.30s\n",
      "\n",
      "Training Epoch: 76 [39962/39962]\tLoss: 0.2135\tLR: 0.020000\n",
      "epoch 76 training time consumed: 47.22s\n",
      "Evaluating Network.....\n",
      "Test set: Epoch: 76, Average loss: 0.0478, Accuracy: 0.2688, Time consumed:14.58s\n",
      "\n",
      "Training Epoch: 77 [39962/39962]\tLoss: 0.6486\tLR: 0.020000\n",
      "epoch 77 training time consumed: 46.99s\n",
      "Evaluating Network.....\n",
      "Test set: Epoch: 77, Average loss: 0.0481, Accuracy: 0.2628, Time consumed:14.29s\n",
      "\n",
      "Training Epoch: 78 [39962/39962]\tLoss: 0.2075\tLR: 0.020000\n",
      "epoch 78 training time consumed: 46.45s\n",
      "Evaluating Network.....\n",
      "Test set: Epoch: 78, Average loss: 0.0503, Accuracy: 0.2699, Time consumed:15.14s\n",
      "\n",
      "Training Epoch: 79 [39962/39962]\tLoss: 0.3758\tLR: 0.020000\n",
      "epoch 79 training time consumed: 46.70s\n",
      "Evaluating Network.....\n",
      "Test set: Epoch: 79, Average loss: 0.0453, Accuracy: 0.2806, Time consumed:14.30s\n",
      "\n",
      "Training Epoch: 80 [39962/39962]\tLoss: 0.0240\tLR: 0.004000\n",
      "epoch 80 training time consumed: 48.69s\n",
      "Evaluating Network.....\n",
      "Test set: Epoch: 80, Average loss: 0.0449, Accuracy: 0.3140, Time consumed:15.16s\n",
      "\n",
      "saving weights file to checkpoint\\vgg16\\Sunday_03_December_2023_19h_02m_39s\\vgg16-80-regular.pth\n",
      "Training Epoch: 81 [39962/39962]\tLoss: 0.0231\tLR: 0.004000\n",
      "epoch 81 training time consumed: 47.78s\n",
      "Evaluating Network.....\n",
      "Test set: Epoch: 81, Average loss: 0.0452, Accuracy: 0.3192, Time consumed:14.80s\n",
      "\n",
      "saving weights file to checkpoint\\vgg16\\Sunday_03_December_2023_19h_02m_39s\\vgg16-81-best.pth\n",
      "Training Epoch: 82 [39962/39962]\tLoss: 0.0278\tLR: 0.004000\n",
      "epoch 82 training time consumed: 47.14s\n",
      "Evaluating Network.....\n",
      "Test set: Epoch: 82, Average loss: 0.0461, Accuracy: 0.3175, Time consumed:14.24s\n",
      "\n",
      "Training Epoch: 83 [39962/39962]\tLoss: 0.0073\tLR: 0.004000\n",
      "epoch 83 training time consumed: 46.43s\n",
      "Evaluating Network.....\n",
      "Test set: Epoch: 83, Average loss: 0.0464, Accuracy: 0.3170, Time consumed:14.54s\n",
      "\n",
      "Training Epoch: 84 [39962/39962]\tLoss: 0.0030\tLR: 0.004000\n",
      "epoch 84 training time consumed: 46.71s\n",
      "Evaluating Network.....\n",
      "Test set: Epoch: 84, Average loss: 0.0467, Accuracy: 0.3192, Time consumed:14.74s\n",
      "\n",
      "Training Epoch: 85 [39962/39962]\tLoss: 0.0067\tLR: 0.004000\n",
      "epoch 85 training time consumed: 47.38s\n",
      "Evaluating Network.....\n",
      "Test set: Epoch: 85, Average loss: 0.0466, Accuracy: 0.3169, Time consumed:14.38s\n",
      "\n",
      "Training Epoch: 86 [39962/39962]\tLoss: 0.0083\tLR: 0.004000\n",
      "epoch 86 training time consumed: 46.40s\n",
      "Evaluating Network.....\n",
      "Test set: Epoch: 86, Average loss: 0.0465, Accuracy: 0.3190, Time consumed:14.63s\n",
      "\n",
      "Training Epoch: 87 [39962/39962]\tLoss: 0.0022\tLR: 0.004000\n",
      "epoch 87 training time consumed: 47.29s\n",
      "Evaluating Network.....\n",
      "Test set: Epoch: 87, Average loss: 0.0462, Accuracy: 0.3161, Time consumed:14.35s\n",
      "\n",
      "Training Epoch: 88 [39962/39962]\tLoss: 0.0164\tLR: 0.004000\n",
      "epoch 88 training time consumed: 46.61s\n",
      "Evaluating Network.....\n",
      "Test set: Epoch: 88, Average loss: 0.0462, Accuracy: 0.3189, Time consumed:14.39s\n",
      "\n",
      "Training Epoch: 89 [39962/39962]\tLoss: 0.0530\tLR: 0.004000\n",
      "epoch 89 training time consumed: 46.33s\n",
      "Evaluating Network.....\n",
      "Test set: Epoch: 89, Average loss: 0.0466, Accuracy: 0.3179, Time consumed:14.27s\n",
      "\n",
      "Training Epoch: 90 [39962/39962]\tLoss: 0.0026\tLR: 0.004000\n",
      "epoch 90 training time consumed: 46.19s\n",
      "Evaluating Network.....\n",
      "Test set: Epoch: 90, Average loss: 0.0456, Accuracy: 0.3204, Time consumed:14.40s\n",
      "\n",
      "saving weights file to checkpoint\\vgg16\\Sunday_03_December_2023_19h_02m_39s\\vgg16-90-best.pth\n",
      "Training Epoch: 91 [39962/39962]\tLoss: 0.0018\tLR: 0.004000\n",
      "epoch 91 training time consumed: 46.48s\n",
      "Evaluating Network.....\n",
      "Test set: Epoch: 91, Average loss: 0.0468, Accuracy: 0.3194, Time consumed:14.37s\n",
      "\n",
      "Training Epoch: 92 [39962/39962]\tLoss: 0.0433\tLR: 0.004000\n",
      "epoch 92 training time consumed: 47.49s\n",
      "Evaluating Network.....\n",
      "Test set: Epoch: 92, Average loss: 0.0455, Accuracy: 0.3177, Time consumed:14.46s\n",
      "\n",
      "Training Epoch: 93 [39962/39962]\tLoss: 0.0029\tLR: 0.004000\n",
      "epoch 93 training time consumed: 46.41s\n",
      "Evaluating Network.....\n",
      "Test set: Epoch: 93, Average loss: 0.0461, Accuracy: 0.3203, Time consumed:14.33s\n",
      "\n",
      "Training Epoch: 94 [39962/39962]\tLoss: 0.0039\tLR: 0.004000\n",
      "epoch 94 training time consumed: 46.23s\n",
      "Evaluating Network.....\n",
      "Test set: Epoch: 94, Average loss: 0.0454, Accuracy: 0.3211, Time consumed:14.36s\n",
      "\n",
      "saving weights file to checkpoint\\vgg16\\Sunday_03_December_2023_19h_02m_39s\\vgg16-94-best.pth\n",
      "Training Epoch: 95 [39962/39962]\tLoss: 0.0029\tLR: 0.004000\n",
      "epoch 95 training time consumed: 46.21s\n",
      "Evaluating Network.....\n",
      "Test set: Epoch: 95, Average loss: 0.0470, Accuracy: 0.3190, Time consumed:14.21s\n",
      "\n",
      "Training Epoch: 96 [39962/39962]\tLoss: 0.0039\tLR: 0.004000\n",
      "epoch 96 training time consumed: 46.38s\n",
      "Evaluating Network.....\n",
      "Test set: Epoch: 96, Average loss: 0.0456, Accuracy: 0.3178, Time consumed:14.49s\n",
      "\n",
      "Training Epoch: 97 [39962/39962]\tLoss: 0.0029\tLR: 0.004000\n",
      "epoch 97 training time consumed: 45.92s\n",
      "Evaluating Network.....\n",
      "Test set: Epoch: 97, Average loss: 0.0451, Accuracy: 0.3204, Time consumed:14.42s\n",
      "\n",
      "Training Epoch: 98 [39962/39962]\tLoss: 0.0077\tLR: 0.004000\n",
      "epoch 98 training time consumed: 46.16s\n",
      "Evaluating Network.....\n",
      "Test set: Epoch: 98, Average loss: 0.0453, Accuracy: 0.3242, Time consumed:14.42s\n",
      "\n",
      "saving weights file to checkpoint\\vgg16\\Sunday_03_December_2023_19h_02m_39s\\vgg16-98-best.pth\n",
      "Training Epoch: 99 [39962/39962]\tLoss: 0.0186\tLR: 0.004000\n",
      "epoch 99 training time consumed: 46.92s\n",
      "Evaluating Network.....\n",
      "Test set: Epoch: 99, Average loss: 0.0445, Accuracy: 0.3208, Time consumed:14.55s\n",
      "\n",
      "Training Epoch: 100 [39962/39962]\tLoss: 0.0237\tLR: 0.004000\n",
      "epoch 100 training time consumed: 46.46s\n",
      "Evaluating Network.....\n",
      "Test set: Epoch: 100, Average loss: 0.0446, Accuracy: 0.3207, Time consumed:14.18s\n",
      "\n",
      "saving weights file to checkpoint\\vgg16\\Sunday_03_December_2023_19h_02m_39s\\vgg16-100-regular.pth\n",
      "Training Epoch: 101 [39962/39962]\tLoss: 0.0020\tLR: 0.004000\n",
      "epoch 101 training time consumed: 46.50s\n",
      "Evaluating Network.....\n",
      "Test set: Epoch: 101, Average loss: 0.0443, Accuracy: 0.3208, Time consumed:14.29s\n",
      "\n",
      "Training Epoch: 102 [39962/39962]\tLoss: 0.0032\tLR: 0.004000\n",
      "epoch 102 training time consumed: 46.26s\n",
      "Evaluating Network.....\n",
      "Test set: Epoch: 102, Average loss: 0.0450, Accuracy: 0.3220, Time consumed:14.35s\n",
      "\n",
      "Training Epoch: 103 [39962/39962]\tLoss: 0.0021\tLR: 0.004000\n",
      "epoch 103 training time consumed: 50.14s\n",
      "Evaluating Network.....\n",
      "Test set: Epoch: 103, Average loss: 0.0448, Accuracy: 0.3194, Time consumed:14.40s\n",
      "\n",
      "Training Epoch: 104 [39962/39962]\tLoss: 0.0037\tLR: 0.004000\n",
      "epoch 104 training time consumed: 47.36s\n",
      "Evaluating Network.....\n",
      "Test set: Epoch: 104, Average loss: 0.0448, Accuracy: 0.3217, Time consumed:14.27s\n",
      "\n",
      "Training Epoch: 105 [39962/39962]\tLoss: 0.0020\tLR: 0.004000\n",
      "epoch 105 training time consumed: 47.02s\n",
      "Evaluating Network.....\n",
      "Test set: Epoch: 105, Average loss: 0.0450, Accuracy: 0.3236, Time consumed:14.37s\n",
      "\n",
      "Training Epoch: 106 [39962/39962]\tLoss: 0.0045\tLR: 0.004000\n",
      "epoch 106 training time consumed: 47.18s\n",
      "Evaluating Network.....\n",
      "Test set: Epoch: 106, Average loss: 0.0444, Accuracy: 0.3204, Time consumed:15.13s\n",
      "\n",
      "Training Epoch: 107 [39962/39962]\tLoss: 0.0058\tLR: 0.004000\n",
      "epoch 107 training time consumed: 51.37s\n",
      "Evaluating Network.....\n",
      "Test set: Epoch: 107, Average loss: 0.0444, Accuracy: 0.3217, Time consumed:14.55s\n",
      "\n",
      "Training Epoch: 108 [39962/39962]\tLoss: 0.0033\tLR: 0.004000\n",
      "epoch 108 training time consumed: 49.80s\n",
      "Evaluating Network.....\n",
      "Test set: Epoch: 108, Average loss: 0.0450, Accuracy: 0.3200, Time consumed:14.97s\n",
      "\n",
      "Training Epoch: 109 [39962/39962]\tLoss: 0.0027\tLR: 0.004000\n",
      "epoch 109 training time consumed: 53.22s\n",
      "Evaluating Network.....\n",
      "Test set: Epoch: 109, Average loss: 0.0446, Accuracy: 0.3198, Time consumed:15.05s\n",
      "\n",
      "Training Epoch: 110 [39962/39962]\tLoss: 0.0023\tLR: 0.000800\n",
      "epoch 110 training time consumed: 49.61s\n",
      "Evaluating Network.....\n",
      "Test set: Epoch: 110, Average loss: 0.0440, Accuracy: 0.3225, Time consumed:14.97s\n",
      "\n",
      "saving weights file to checkpoint\\vgg16\\Sunday_03_December_2023_19h_02m_39s\\vgg16-110-regular.pth\n",
      "Training Epoch: 111 [39962/39962]\tLoss: 0.0064\tLR: 0.000800\n",
      "epoch 111 training time consumed: 55.09s\n",
      "Evaluating Network.....\n",
      "Test set: Epoch: 111, Average loss: 0.0447, Accuracy: 0.3226, Time consumed:14.60s\n",
      "\n",
      "Training Epoch: 112 [39962/39962]\tLoss: 0.0039\tLR: 0.000800\n",
      "epoch 112 training time consumed: 53.16s\n",
      "Evaluating Network.....\n",
      "Test set: Epoch: 112, Average loss: 0.0444, Accuracy: 0.3213, Time consumed:15.54s\n",
      "\n",
      "Training Epoch: 113 [39962/39962]\tLoss: 0.0052\tLR: 0.000800\n",
      "epoch 113 training time consumed: 56.63s\n",
      "Evaluating Network.....\n",
      "Test set: Epoch: 113, Average loss: 0.0440, Accuracy: 0.3201, Time consumed:15.06s\n",
      "\n",
      "Training Epoch: 114 [39962/39962]\tLoss: 0.0035\tLR: 0.000800\n",
      "epoch 114 training time consumed: 49.23s\n",
      "Evaluating Network.....\n",
      "Test set: Epoch: 114, Average loss: 0.0457, Accuracy: 0.3202, Time consumed:14.58s\n",
      "\n",
      "Training Epoch: 115 [39962/39962]\tLoss: 0.0508\tLR: 0.000800\n",
      "epoch 115 training time consumed: 48.37s\n",
      "Evaluating Network.....\n",
      "Test set: Epoch: 115, Average loss: 0.0445, Accuracy: 0.3206, Time consumed:14.89s\n",
      "\n",
      "Training Epoch: 116 [39962/39962]\tLoss: 0.0020\tLR: 0.000800\n",
      "epoch 116 training time consumed: 48.87s\n",
      "Evaluating Network.....\n",
      "Test set: Epoch: 116, Average loss: 0.0448, Accuracy: 0.3216, Time consumed:14.63s\n",
      "\n",
      "Training Epoch: 117 [39962/39962]\tLoss: 0.0050\tLR: 0.000800\n",
      "epoch 117 training time consumed: 49.33s\n",
      "Evaluating Network.....\n",
      "Test set: Epoch: 117, Average loss: 0.0448, Accuracy: 0.3209, Time consumed:15.18s\n",
      "\n",
      "Training Epoch: 118 [39962/39962]\tLoss: 0.0024\tLR: 0.000800\n",
      "epoch 118 training time consumed: 49.65s\n",
      "Evaluating Network.....\n",
      "Test set: Epoch: 118, Average loss: 0.0448, Accuracy: 0.3198, Time consumed:14.57s\n",
      "\n",
      "Training Epoch: 119 [39962/39962]\tLoss: 0.0041\tLR: 0.000800\n",
      "epoch 119 training time consumed: 48.01s\n",
      "Evaluating Network.....\n",
      "Test set: Epoch: 119, Average loss: 0.0448, Accuracy: 0.3189, Time consumed:14.58s\n",
      "\n",
      "Training Epoch: 120 [39962/39962]\tLoss: 0.0056\tLR: 0.000800\n",
      "epoch 120 training time consumed: 48.37s\n",
      "Evaluating Network.....\n",
      "Test set: Epoch: 120, Average loss: 0.0449, Accuracy: 0.3204, Time consumed:14.62s\n",
      "\n",
      "saving weights file to checkpoint\\vgg16\\Sunday_03_December_2023_19h_02m_39s\\vgg16-120-regular.pth\n",
      "Training Epoch: 121 [39962/39962]\tLoss: 0.0406\tLR: 0.000800\n",
      "epoch 121 training time consumed: 49.21s\n",
      "Evaluating Network.....\n",
      "Test set: Epoch: 121, Average loss: 0.0451, Accuracy: 0.3215, Time consumed:14.58s\n",
      "\n",
      "Training Epoch: 122 [39962/39962]\tLoss: 0.0022\tLR: 0.000800\n",
      "epoch 122 training time consumed: 49.17s\n",
      "Evaluating Network.....\n",
      "Test set: Epoch: 122, Average loss: 0.0442, Accuracy: 0.3205, Time consumed:14.55s\n",
      "\n",
      "Training Epoch: 123 [39962/39962]\tLoss: 0.0032\tLR: 0.000800\n",
      "epoch 123 training time consumed: 51.48s\n",
      "Evaluating Network.....\n",
      "Test set: Epoch: 123, Average loss: 0.0447, Accuracy: 0.3227, Time consumed:14.54s\n",
      "\n",
      "Training Epoch: 124 [39962/39962]\tLoss: 0.0070\tLR: 0.000800\n",
      "epoch 124 training time consumed: 49.60s\n",
      "Evaluating Network.....\n",
      "Test set: Epoch: 124, Average loss: 0.0446, Accuracy: 0.3212, Time consumed:14.57s\n",
      "\n",
      "Training Epoch: 125 [39962/39962]\tLoss: 0.0031\tLR: 0.000800\n",
      "epoch 125 training time consumed: 49.01s\n",
      "Evaluating Network.....\n",
      "Test set: Epoch: 125, Average loss: 0.0443, Accuracy: 0.3226, Time consumed:14.54s\n",
      "\n",
      "Training Epoch: 126 [39962/39962]\tLoss: 0.0025\tLR: 0.000800\n",
      "epoch 126 training time consumed: 48.87s\n",
      "Evaluating Network.....\n",
      "Test set: Epoch: 126, Average loss: 0.0442, Accuracy: 0.3225, Time consumed:14.55s\n",
      "\n",
      "Training Epoch: 127 [39962/39962]\tLoss: 0.0584\tLR: 0.000800\n",
      "epoch 127 training time consumed: 49.56s\n",
      "Evaluating Network.....\n",
      "Test set: Epoch: 127, Average loss: 0.0442, Accuracy: 0.3229, Time consumed:14.61s\n",
      "\n",
      "Training Epoch: 128 [39962/39962]\tLoss: 0.0040\tLR: 0.000800\n",
      "epoch 128 training time consumed: 48.59s\n",
      "Evaluating Network.....\n",
      "Test set: Epoch: 128, Average loss: 0.0441, Accuracy: 0.3218, Time consumed:14.62s\n",
      "\n",
      "Training Epoch: 129 [39962/39962]\tLoss: 0.0084\tLR: 0.000800\n",
      "epoch 129 training time consumed: 48.97s\n",
      "Evaluating Network.....\n",
      "Test set: Epoch: 129, Average loss: 0.0440, Accuracy: 0.3211, Time consumed:14.55s\n",
      "\n",
      "Training Epoch: 130 [39962/39962]\tLoss: 0.0025\tLR: 0.000800\n",
      "epoch 130 training time consumed: 48.82s\n",
      "Evaluating Network.....\n",
      "Test set: Epoch: 130, Average loss: 0.0440, Accuracy: 0.3229, Time consumed:14.57s\n",
      "\n",
      "saving weights file to checkpoint\\vgg16\\Sunday_03_December_2023_19h_02m_39s\\vgg16-130-regular.pth\n",
      "Training Epoch: 131 [39962/39962]\tLoss: 0.0029\tLR: 0.000800\n",
      "epoch 131 training time consumed: 48.80s\n",
      "Evaluating Network.....\n",
      "Test set: Epoch: 131, Average loss: 0.0439, Accuracy: 0.3215, Time consumed:14.60s\n",
      "\n",
      "Training Epoch: 132 [39962/39962]\tLoss: 0.0034\tLR: 0.000800\n",
      "epoch 132 training time consumed: 48.46s\n",
      "Evaluating Network.....\n",
      "Test set: Epoch: 132, Average loss: 0.0448, Accuracy: 0.3220, Time consumed:14.64s\n",
      "\n",
      "Training Epoch: 133 [39962/39962]\tLoss: 0.0048\tLR: 0.000800\n",
      "epoch 133 training time consumed: 59.25s\n",
      "Evaluating Network.....\n",
      "Test set: Epoch: 133, Average loss: 0.0442, Accuracy: 0.3227, Time consumed:14.80s\n",
      "\n",
      "Training Epoch: 134 [39962/39962]\tLoss: 0.0023\tLR: 0.000800\n",
      "epoch 134 training time consumed: 53.01s\n",
      "Evaluating Network.....\n",
      "Test set: Epoch: 134, Average loss: 0.0444, Accuracy: 0.3229, Time consumed:14.72s\n",
      "\n",
      "Training Epoch: 135 [39962/39962]\tLoss: 0.0025\tLR: 0.000800\n",
      "epoch 135 training time consumed: 52.16s\n",
      "Evaluating Network.....\n",
      "Test set: Epoch: 135, Average loss: 0.0448, Accuracy: 0.3199, Time consumed:14.87s\n",
      "\n",
      "Training Epoch: 136 [39962/39962]\tLoss: 0.0025\tLR: 0.000800\n",
      "epoch 136 training time consumed: 52.95s\n",
      "Evaluating Network.....\n",
      "Test set: Epoch: 136, Average loss: 0.0447, Accuracy: 0.3186, Time consumed:15.00s\n",
      "\n",
      "Training Epoch: 137 [39962/39962]\tLoss: 0.0048\tLR: 0.000800\n",
      "epoch 137 training time consumed: 52.79s\n",
      "Evaluating Network.....\n",
      "Test set: Epoch: 137, Average loss: 0.0435, Accuracy: 0.3228, Time consumed:14.83s\n",
      "\n",
      "Training Epoch: 138 [39962/39962]\tLoss: 0.0042\tLR: 0.000800\n",
      "epoch 138 training time consumed: 52.83s\n",
      "Evaluating Network.....\n",
      "Test set: Epoch: 138, Average loss: 0.0447, Accuracy: 0.3221, Time consumed:15.52s\n",
      "\n",
      "Training Epoch: 139 [39962/39962]\tLoss: 0.0028\tLR: 0.000800\n",
      "epoch 139 training time consumed: 53.42s\n",
      "Evaluating Network.....\n",
      "Test set: Epoch: 139, Average loss: 0.0440, Accuracy: 0.3225, Time consumed:15.17s\n",
      "\n",
      "Training Epoch: 140 [39962/39962]\tLoss: 0.0018\tLR: 0.000800\n",
      "epoch 140 training time consumed: 51.09s\n",
      "Evaluating Network.....\n",
      "Test set: Epoch: 140, Average loss: 0.0444, Accuracy: 0.3234, Time consumed:14.99s\n",
      "\n",
      "saving weights file to checkpoint\\vgg16\\Sunday_03_December_2023_19h_02m_39s\\vgg16-140-regular.pth\n"
     ]
    }
   ],
   "source": [
    "from train_changedata import main\n",
    "\n",
    "# main(train_dataset= cifar100)\n",
    "best_acc, confusion_matrix, best_f1, best_recall = main(train_dataset=im_subset_train_data)"
   ]
  },
  {
   "cell_type": "code",
   "execution_count": 26,
   "metadata": {},
   "outputs": [
    {
     "name": "stdout",
     "output_type": "stream",
     "text": [
      "best accuracy: tensor(0.3242, device='cuda:0')\n",
      "best f1score tensor(0.3242)\n",
      "best recall tensor(0.3242)\n",
      "[[45  0  1 ...  0  1  0]\n",
      " [ 0  7  0 ...  0  0  2]\n",
      " [ 1  0  6 ...  0 27  0]\n",
      " ...\n",
      " [ 0  0  0 ... 39  4  1]\n",
      " [ 0  0  3 ...  0 43  2]\n",
      " [ 0  0  0 ...  0  0 50]]\n"
     ]
    },
    {
     "data": {
      "image/png": "[encoded data removed]",
      "text/plain": [
       "<Figure size 800x600 with 1 Axes>"
      ]
     },
     "metadata": {},
     "output_type": "display_data"
    }
   ],
   "source": [
    "print('best accuracy:',best_acc)\n",
    "print('best f1score',best_f1)\n",
    "print('best recall',best_recall)\n",
    "\n",
    "print(confusion_matrix)\n",
    "import matplotlib.pyplot as plt\n",
    "\n",
    "classes = range(100)\n",
    "fig, ax = plt.subplots(1,1,figsize=(8,6))\n",
    "ax.matshow(confusion_matrix, aspect='auto', vmin=0, vmax=1000, cmap=plt.get_cmap('Blues'))\n",
    "plt.ylabel('Actual Category')\n",
    "plt.yticks(range(100), classes)\n",
    "plt.xlabel('Predicted Category')\n",
    "plt.xticks(range(100), classes)\n",
    "plt.show()"
   ]
  }
 ],
 "metadata": {
  "kernelspec": {
   "display_name": "Python 3 (ipykernel)",
   "language": "python",
   "name": "python3"
  },
  "language_info": {
   "codemirror_mode": {
    "name": "ipython",
    "version": 3
   },
   "file_extension": ".py",
   "mimetype": "text/x-python",
   "name": "python",
   "nbconvert_exporter": "python",
   "pygments_lexer": "ipython3",
   "version": "3.10.13"
  }
 },
 "nbformat": 4,
 "nbformat_minor": 5
}

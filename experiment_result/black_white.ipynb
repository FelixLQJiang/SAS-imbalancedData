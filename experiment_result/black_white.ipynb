{
 "cells": [
  {
   "cell_type": "code",
   "execution_count": 1,
   "metadata": {},
   "outputs": [
    {
     "name": "stdout",
     "output_type": "stream",
     "text": [
      "(692, 530)\n"
     ]
    }
   ],
   "source": [
    "from PIL import Image\n",
    "# 打开黑色图像\n",
    "im = Image.open(\"balance.png\")\n",
    "# 获取黑色图像的每个像素点\n",
    "pix = im.load()\n",
    "print(im.size)\n",
    "# 将黑色像素点变成白色像素点\n",
    "# for i in range(im.size[0]):\n",
    "#     for j in range(im.size[1]):\n",
    "\n",
    "#         pix[i,j] = (255-pix[i,j][0],255-pix[i,j][1],255-pix[i,j][2])\n",
    "#         # break\n",
    "# # if pix[i,j] == (0,0,0):\n",
    "# # pix[i,j] = (255,255,255)\n",
    "# # 保存处理后的白色图像\n",
    "# im.save(\"black_balance.png\")"
   ]
  }
 ],
 "metadata": {
  "kernelspec": {
   "display_name": "260d",
   "language": "python",
   "name": "python3"
  },
  "language_info": {
   "codemirror_mode": {
    "name": "ipython",
    "version": 3
   },
   "file_extension": ".py",
   "mimetype": "text/x-python",
   "name": "python",
   "nbconvert_exporter": "python",
   "pygments_lexer": "ipython3",
   "version": "3.10.13"
  }
 },
 "nbformat": 4,
 "nbformat_minor": 2
}
